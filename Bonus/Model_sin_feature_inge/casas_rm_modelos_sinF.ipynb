{
 "cells": [
  {
   "cell_type": "code",
   "execution_count": 51,
   "metadata": {},
   "outputs": [],
   "source": [
    "import numpy as np\n",
    "import pandas as pd\n",
    "import matplotlib.pyplot as plt\n",
    "import seaborn as sns\n",
    "from sklearn.preprocessing import LabelEncoder\n",
    "from sklearn import metrics\n",
    "import pickle\n",
    "from mlxtend.regressor import StackingRegressor"
   ]
  },
  {
   "cell_type": "code",
   "execution_count": 52,
   "metadata": {},
   "outputs": [
    {
     "data": {
      "text/html": [
       "<div>\n",
       "<style scoped>\n",
       "    .dataframe tbody tr th:only-of-type {\n",
       "        vertical-align: middle;\n",
       "    }\n",
       "\n",
       "    .dataframe tbody tr th {\n",
       "        vertical-align: top;\n",
       "    }\n",
       "\n",
       "    .dataframe thead th {\n",
       "        text-align: right;\n",
       "    }\n",
       "</style>\n",
       "<table border=\"1\" class=\"dataframe\">\n",
       "  <thead>\n",
       "    <tr style=\"text-align: right;\">\n",
       "      <th></th>\n",
       "      <th>Comuna</th>\n",
       "      <th>m2_Construidos</th>\n",
       "      <th>m2_totales</th>\n",
       "      <th>Habitaciones</th>\n",
       "      <th>Banos</th>\n",
       "      <th>segunda_planta</th>\n",
       "      <th>Estacionamientos</th>\n",
       "      <th>Publi</th>\n",
       "      <th>Precio</th>\n",
       "      <th>UF</th>\n",
       "      <th>...</th>\n",
       "      <th>Recoleta</th>\n",
       "      <th>Renca</th>\n",
       "      <th>San Bernardo</th>\n",
       "      <th>San Joaquín</th>\n",
       "      <th>San Miguel</th>\n",
       "      <th>San Ramón</th>\n",
       "      <th>Santiago</th>\n",
       "      <th>Talagante</th>\n",
       "      <th>Vitacura</th>\n",
       "      <th>Ñuñoa</th>\n",
       "    </tr>\n",
       "  </thead>\n",
       "  <tbody>\n",
       "    <tr>\n",
       "      <th>0</th>\n",
       "      <td>Macul</td>\n",
       "      <td>94</td>\n",
       "      <td>340</td>\n",
       "      <td>4</td>\n",
       "      <td>2</td>\n",
       "      <td>0</td>\n",
       "      <td>0</td>\n",
       "      <td>03/12/2022</td>\n",
       "      <td>266395950</td>\n",
       "      <td>7650</td>\n",
       "      <td>...</td>\n",
       "      <td>0</td>\n",
       "      <td>0</td>\n",
       "      <td>0</td>\n",
       "      <td>0</td>\n",
       "      <td>0</td>\n",
       "      <td>0</td>\n",
       "      <td>0</td>\n",
       "      <td>0</td>\n",
       "      <td>0</td>\n",
       "      <td>0</td>\n",
       "    </tr>\n",
       "    <tr>\n",
       "      <th>1</th>\n",
       "      <td>Macul</td>\n",
       "      <td>128</td>\n",
       "      <td>128</td>\n",
       "      <td>2</td>\n",
       "      <td>1</td>\n",
       "      <td>0</td>\n",
       "      <td>1</td>\n",
       "      <td>22/11/2022</td>\n",
       "      <td>110000000</td>\n",
       "      <td>3158</td>\n",
       "      <td>...</td>\n",
       "      <td>0</td>\n",
       "      <td>0</td>\n",
       "      <td>0</td>\n",
       "      <td>0</td>\n",
       "      <td>0</td>\n",
       "      <td>0</td>\n",
       "      <td>0</td>\n",
       "      <td>0</td>\n",
       "      <td>0</td>\n",
       "      <td>0</td>\n",
       "    </tr>\n",
       "    <tr>\n",
       "      <th>2</th>\n",
       "      <td>Macul</td>\n",
       "      <td>144</td>\n",
       "      <td>221</td>\n",
       "      <td>4</td>\n",
       "      <td>2</td>\n",
       "      <td>0</td>\n",
       "      <td>3</td>\n",
       "      <td>21/11/2022</td>\n",
       "      <td>262913650</td>\n",
       "      <td>7550</td>\n",
       "      <td>...</td>\n",
       "      <td>0</td>\n",
       "      <td>0</td>\n",
       "      <td>0</td>\n",
       "      <td>0</td>\n",
       "      <td>0</td>\n",
       "      <td>0</td>\n",
       "      <td>0</td>\n",
       "      <td>0</td>\n",
       "      <td>0</td>\n",
       "      <td>0</td>\n",
       "    </tr>\n",
       "    <tr>\n",
       "      <th>3</th>\n",
       "      <td>Macul</td>\n",
       "      <td>81</td>\n",
       "      <td>160</td>\n",
       "      <td>3</td>\n",
       "      <td>1</td>\n",
       "      <td>0</td>\n",
       "      <td>3</td>\n",
       "      <td>10/11/2022</td>\n",
       "      <td>125000000</td>\n",
       "      <td>3589</td>\n",
       "      <td>...</td>\n",
       "      <td>0</td>\n",
       "      <td>0</td>\n",
       "      <td>0</td>\n",
       "      <td>0</td>\n",
       "      <td>0</td>\n",
       "      <td>0</td>\n",
       "      <td>0</td>\n",
       "      <td>0</td>\n",
       "      <td>0</td>\n",
       "      <td>0</td>\n",
       "    </tr>\n",
       "    <tr>\n",
       "      <th>4</th>\n",
       "      <td>Macul</td>\n",
       "      <td>321</td>\n",
       "      <td>249</td>\n",
       "      <td>7</td>\n",
       "      <td>7</td>\n",
       "      <td>1</td>\n",
       "      <td>2</td>\n",
       "      <td>03/12/2022</td>\n",
       "      <td>350911371</td>\n",
       "      <td>10077</td>\n",
       "      <td>...</td>\n",
       "      <td>0</td>\n",
       "      <td>0</td>\n",
       "      <td>0</td>\n",
       "      <td>0</td>\n",
       "      <td>0</td>\n",
       "      <td>0</td>\n",
       "      <td>0</td>\n",
       "      <td>0</td>\n",
       "      <td>0</td>\n",
       "      <td>0</td>\n",
       "    </tr>\n",
       "    <tr>\n",
       "      <th>...</th>\n",
       "      <td>...</td>\n",
       "      <td>...</td>\n",
       "      <td>...</td>\n",
       "      <td>...</td>\n",
       "      <td>...</td>\n",
       "      <td>...</td>\n",
       "      <td>...</td>\n",
       "      <td>...</td>\n",
       "      <td>...</td>\n",
       "      <td>...</td>\n",
       "      <td>...</td>\n",
       "      <td>...</td>\n",
       "      <td>...</td>\n",
       "      <td>...</td>\n",
       "      <td>...</td>\n",
       "      <td>...</td>\n",
       "      <td>...</td>\n",
       "      <td>...</td>\n",
       "      <td>...</td>\n",
       "      <td>...</td>\n",
       "      <td>...</td>\n",
       "    </tr>\n",
       "    <tr>\n",
       "      <th>5293</th>\n",
       "      <td>Pirque</td>\n",
       "      <td>107</td>\n",
       "      <td>160</td>\n",
       "      <td>5</td>\n",
       "      <td>2</td>\n",
       "      <td>0</td>\n",
       "      <td>1</td>\n",
       "      <td>18/11/2022</td>\n",
       "      <td>123000000</td>\n",
       "      <td>3532</td>\n",
       "      <td>...</td>\n",
       "      <td>0</td>\n",
       "      <td>0</td>\n",
       "      <td>0</td>\n",
       "      <td>0</td>\n",
       "      <td>0</td>\n",
       "      <td>0</td>\n",
       "      <td>0</td>\n",
       "      <td>0</td>\n",
       "      <td>0</td>\n",
       "      <td>0</td>\n",
       "    </tr>\n",
       "    <tr>\n",
       "      <th>5294</th>\n",
       "      <td>Pirque</td>\n",
       "      <td>341</td>\n",
       "      <td>5000</td>\n",
       "      <td>3</td>\n",
       "      <td>2</td>\n",
       "      <td>0</td>\n",
       "      <td>0</td>\n",
       "      <td>18/11/2022</td>\n",
       "      <td>574579500</td>\n",
       "      <td>16500</td>\n",
       "      <td>...</td>\n",
       "      <td>0</td>\n",
       "      <td>0</td>\n",
       "      <td>0</td>\n",
       "      <td>0</td>\n",
       "      <td>0</td>\n",
       "      <td>0</td>\n",
       "      <td>0</td>\n",
       "      <td>0</td>\n",
       "      <td>0</td>\n",
       "      <td>0</td>\n",
       "    </tr>\n",
       "    <tr>\n",
       "      <th>5295</th>\n",
       "      <td>Pirque</td>\n",
       "      <td>90</td>\n",
       "      <td>140</td>\n",
       "      <td>5</td>\n",
       "      <td>2</td>\n",
       "      <td>0</td>\n",
       "      <td>2</td>\n",
       "      <td>07/11/2022</td>\n",
       "      <td>99000000</td>\n",
       "      <td>2842</td>\n",
       "      <td>...</td>\n",
       "      <td>0</td>\n",
       "      <td>0</td>\n",
       "      <td>0</td>\n",
       "      <td>0</td>\n",
       "      <td>0</td>\n",
       "      <td>0</td>\n",
       "      <td>0</td>\n",
       "      <td>0</td>\n",
       "      <td>0</td>\n",
       "      <td>0</td>\n",
       "    </tr>\n",
       "    <tr>\n",
       "      <th>5296</th>\n",
       "      <td>Pirque</td>\n",
       "      <td>75</td>\n",
       "      <td>130</td>\n",
       "      <td>3</td>\n",
       "      <td>1</td>\n",
       "      <td>0</td>\n",
       "      <td>1</td>\n",
       "      <td>07/11/2022</td>\n",
       "      <td>115000000</td>\n",
       "      <td>3302</td>\n",
       "      <td>...</td>\n",
       "      <td>0</td>\n",
       "      <td>0</td>\n",
       "      <td>0</td>\n",
       "      <td>0</td>\n",
       "      <td>0</td>\n",
       "      <td>0</td>\n",
       "      <td>0</td>\n",
       "      <td>0</td>\n",
       "      <td>0</td>\n",
       "      <td>0</td>\n",
       "    </tr>\n",
       "    <tr>\n",
       "      <th>5297</th>\n",
       "      <td>Pirque</td>\n",
       "      <td>75</td>\n",
       "      <td>220</td>\n",
       "      <td>3</td>\n",
       "      <td>2</td>\n",
       "      <td>0</td>\n",
       "      <td>1</td>\n",
       "      <td>11/10/2022</td>\n",
       "      <td>98000000</td>\n",
       "      <td>2814</td>\n",
       "      <td>...</td>\n",
       "      <td>0</td>\n",
       "      <td>0</td>\n",
       "      <td>0</td>\n",
       "      <td>0</td>\n",
       "      <td>0</td>\n",
       "      <td>0</td>\n",
       "      <td>0</td>\n",
       "      <td>0</td>\n",
       "      <td>0</td>\n",
       "      <td>0</td>\n",
       "    </tr>\n",
       "  </tbody>\n",
       "</table>\n",
       "<p>5298 rows × 86 columns</p>\n",
       "</div>"
      ],
      "text/plain": [
       "      Comuna  m2_Construidos  m2_totales  Habitaciones  Banos  segunda_planta  \\\n",
       "0      Macul              94         340             4      2               0   \n",
       "1      Macul             128         128             2      1               0   \n",
       "2      Macul             144         221             4      2               0   \n",
       "3      Macul              81         160             3      1               0   \n",
       "4      Macul             321         249             7      7               1   \n",
       "...      ...             ...         ...           ...    ...             ...   \n",
       "5293  Pirque             107         160             5      2               0   \n",
       "5294  Pirque             341        5000             3      2               0   \n",
       "5295  Pirque              90         140             5      2               0   \n",
       "5296  Pirque              75         130             3      1               0   \n",
       "5297  Pirque              75         220             3      2               0   \n",
       "\n",
       "      Estacionamientos       Publi     Precio     UF  ...  Recoleta  Renca  \\\n",
       "0                    0  03/12/2022  266395950   7650  ...         0      0   \n",
       "1                    1  22/11/2022  110000000   3158  ...         0      0   \n",
       "2                    3  21/11/2022  262913650   7550  ...         0      0   \n",
       "3                    3  10/11/2022  125000000   3589  ...         0      0   \n",
       "4                    2  03/12/2022  350911371  10077  ...         0      0   \n",
       "...                ...         ...        ...    ...  ...       ...    ...   \n",
       "5293                 1  18/11/2022  123000000   3532  ...         0      0   \n",
       "5294                 0  18/11/2022  574579500  16500  ...         0      0   \n",
       "5295                 2  07/11/2022   99000000   2842  ...         0      0   \n",
       "5296                 1  07/11/2022  115000000   3302  ...         0      0   \n",
       "5297                 1  11/10/2022   98000000   2814  ...         0      0   \n",
       "\n",
       "      San Bernardo  San Joaquín  San Miguel  San Ramón  Santiago  Talagante  \\\n",
       "0                0            0           0          0         0          0   \n",
       "1                0            0           0          0         0          0   \n",
       "2                0            0           0          0         0          0   \n",
       "3                0            0           0          0         0          0   \n",
       "4                0            0           0          0         0          0   \n",
       "...            ...          ...         ...        ...       ...        ...   \n",
       "5293             0            0           0          0         0          0   \n",
       "5294             0            0           0          0         0          0   \n",
       "5295             0            0           0          0         0          0   \n",
       "5296             0            0           0          0         0          0   \n",
       "5297             0            0           0          0         0          0   \n",
       "\n",
       "      Vitacura  Ñuñoa  \n",
       "0            0      0  \n",
       "1            0      0  \n",
       "2            0      0  \n",
       "3            0      0  \n",
       "4            0      0  \n",
       "...        ...    ...  \n",
       "5293         0      0  \n",
       "5294         0      0  \n",
       "5295         0      0  \n",
       "5296         0      0  \n",
       "5297         0      0  \n",
       "\n",
       "[5298 rows x 86 columns]"
      ]
     },
     "execution_count": 52,
     "metadata": {},
     "output_type": "execute_result"
    }
   ],
   "source": [
    "pd.read_excel(\"data/analis_data.xlsx\")"
   ]
  },
  {
   "cell_type": "code",
   "execution_count": 53,
   "metadata": {},
   "outputs": [],
   "source": [
    "casas=pd.read_excel(\"data/analis_data.xlsx\")"
   ]
  },
  {
   "cell_type": "markdown",
   "metadata": {},
   "source": [
    "# IMPLEMENTACION DE MODELOS DE REGRESION"
   ]
  },
  {
   "attachments": {},
   "cell_type": "markdown",
   "metadata": {},
   "source": [
    "## Definicion de variables "
   ]
  },
  {
   "cell_type": "code",
   "execution_count": 54,
   "metadata": {},
   "outputs": [
    {
     "data": {
      "text/plain": [
       "Index(['Comuna', 'm2_Construidos', 'm2_totales', 'Habitaciones', 'Banos',\n",
       "       'segunda_planta', 'Estacionamientos', 'Publi', 'Precio', 'UF', 'UF_log',\n",
       "       'Poblacion total 2020', 'Superficie de Área Verde m²',\n",
       "       'Superficie Plazas m²', 'Número de establecimientos educacion inicial',\n",
       "       'Distancia a Educación Inicial (m)',\n",
       "       'Razón entre disponibilidad efectiva de matrículas y demanda potencial por educación básica',\n",
       "       'Número de establecimientos eduacion basica',\n",
       "       'Número de establecimientos privados',\n",
       "       'Distancia a Educación Basica (m)',\n",
       "       'Número de establecimientos atencion primaria',\n",
       "       'Distancia a Centro de Salud (m)',\n",
       "       'Superficie total de campamentos (ha)',\n",
       "       ' luminarias cada 50 metros lineales ',\n",
       "       ' Consumo Per Capita residencial (Kwh/persona)',\n",
       "       'Fallos suministro electrico',\n",
       "       'porcentaje manzanas con veredas con buena calidad de pavimento',\n",
       "       'Total de residuos (t)',\n",
       "       ' Porcentaje de residuos municipales valorizados',\n",
       "       ' Porcentaje de viviendas en mal estado  y/o carente  servicios básicos',\n",
       "       'Porcentaje de participación del FCM en el Ingreso Municipal Total',\n",
       "       'Víctimas Robo con violencia o Intimidación',\n",
       "       'Víctimas Robo por Sorpresa',\n",
       "       ' Número de denuncias por delito en el espacio público cada 100 habitantes',\n",
       "       ' Porcentaje de unidades vecinales que tienen entre 20% y 60% de hogares vulnerables',\n",
       "       ' Porcentaje de la población en situación de pobreza (pobreza multidimensional MDSF)',\n",
       "       'Porcentaje de Hacinamiento',\n",
       "       'Porcentaje de viviendas con situación de allegamiento externo',\n",
       "       ' Requerimiento de viviendas nuevas urbanas',\n",
       "       'Tasa de conexiones residenciales fijas de internet por cada 1.000 viviendas particulares',\n",
       "       'Longitud ciclovías (km)', 'Tiempo de viaje en trans publico hr punta',\n",
       "       'Buin', 'Cerrillos', 'Cerro Navia', 'Colina', 'Conchalí', 'El Bosque',\n",
       "       'El Monte', 'Estación Central', 'Huechuraba', 'Independencia',\n",
       "       'La Cisterna', 'La Florida', 'La Granja', 'La Pintana', 'La Reina',\n",
       "       'Lampa', 'Las Condes', 'Lo Barnechea', 'Lo Espejo', 'Lo Prado', 'Macul',\n",
       "       'Maipú', 'Melipilla', 'Padre Hurtado', 'Paine', 'Pedro Aguirre Cerda',\n",
       "       'Peñaflor', 'Peñalolén', 'Pirque', 'Providencia', 'Pudahuel',\n",
       "       'Puente Alto', 'Quilicura', 'Quinta Normal', 'Recoleta', 'Renca',\n",
       "       'San Bernardo', 'San Joaquín', 'San Miguel', 'San Ramón', 'Santiago',\n",
       "       'Talagante', 'Vitacura', 'Ñuñoa'],\n",
       "      dtype='object')"
      ]
     },
     "execution_count": 54,
     "metadata": {},
     "output_type": "execute_result"
    }
   ],
   "source": [
    "casas.columns"
   ]
  },
  {
   "cell_type": "code",
   "execution_count": 55,
   "metadata": {},
   "outputs": [],
   "source": [
    "from sklearn.model_selection import train_test_split\n",
    "from sklearn.metrics import mean_absolute_error, mean_squared_error, mean_absolute_percentage_error\n",
    "\n",
    "X= casas.drop(['Comuna','Publi','Precio', 'UF', \"UF_log\"], axis=1)\n",
    "y= casas[\"UF\"]\n",
    "\n",
    "\n",
    "seed= 12\n",
    "\n",
    "#X_train, y_train, X_test, y_test = train_test_split(X, y, test_size = 0.25, random_state = seed)\n",
    "X_train, X_test, y_train, y_test = train_test_split(X, y, test_size = 0.25, random_state = seed)\n",
    "\n"
   ]
  },
  {
   "cell_type": "code",
   "execution_count": 56,
   "metadata": {},
   "outputs": [
    {
     "name": "stdout",
     "output_type": "stream",
     "text": [
      "Total features shape: (5298, 81)\n",
      "Train features shape: (3973, 81)\n",
      "Train target shape: (3973,)\n",
      "Test features shape: (1325, 81)\n",
      "Test target shape: (1325,)\n"
     ]
    }
   ],
   "source": [
    "print(\"Total features shape:\", X.shape)\n",
    "print(\"Train features shape:\", X_train.shape)\n",
    "print(\"Train target shape:\", y_train.shape)\n",
    "print(\"Test features shape:\", X_test.shape)\n",
    "print(\"Test target shape:\", y_test.shape)\n"
   ]
  },
  {
   "attachments": {},
   "cell_type": "markdown",
   "metadata": {},
   "source": [
    "### 1. Linear Regression"
   ]
  },
  {
   "cell_type": "code",
   "execution_count": 57,
   "metadata": {},
   "outputs": [
    {
     "data": {
      "text/html": [
       "<style>#sk-container-id-2 {color: black;background-color: white;}#sk-container-id-2 pre{padding: 0;}#sk-container-id-2 div.sk-toggleable {background-color: white;}#sk-container-id-2 label.sk-toggleable__label {cursor: pointer;display: block;width: 100%;margin-bottom: 0;padding: 0.3em;box-sizing: border-box;text-align: center;}#sk-container-id-2 label.sk-toggleable__label-arrow:before {content: \"▸\";float: left;margin-right: 0.25em;color: #696969;}#sk-container-id-2 label.sk-toggleable__label-arrow:hover:before {color: black;}#sk-container-id-2 div.sk-estimator:hover label.sk-toggleable__label-arrow:before {color: black;}#sk-container-id-2 div.sk-toggleable__content {max-height: 0;max-width: 0;overflow: hidden;text-align: left;background-color: #f0f8ff;}#sk-container-id-2 div.sk-toggleable__content pre {margin: 0.2em;color: black;border-radius: 0.25em;background-color: #f0f8ff;}#sk-container-id-2 input.sk-toggleable__control:checked~div.sk-toggleable__content {max-height: 200px;max-width: 100%;overflow: auto;}#sk-container-id-2 input.sk-toggleable__control:checked~label.sk-toggleable__label-arrow:before {content: \"▾\";}#sk-container-id-2 div.sk-estimator input.sk-toggleable__control:checked~label.sk-toggleable__label {background-color: #d4ebff;}#sk-container-id-2 div.sk-label input.sk-toggleable__control:checked~label.sk-toggleable__label {background-color: #d4ebff;}#sk-container-id-2 input.sk-hidden--visually {border: 0;clip: rect(1px 1px 1px 1px);clip: rect(1px, 1px, 1px, 1px);height: 1px;margin: -1px;overflow: hidden;padding: 0;position: absolute;width: 1px;}#sk-container-id-2 div.sk-estimator {font-family: monospace;background-color: #f0f8ff;border: 1px dotted black;border-radius: 0.25em;box-sizing: border-box;margin-bottom: 0.5em;}#sk-container-id-2 div.sk-estimator:hover {background-color: #d4ebff;}#sk-container-id-2 div.sk-parallel-item::after {content: \"\";width: 100%;border-bottom: 1px solid gray;flex-grow: 1;}#sk-container-id-2 div.sk-label:hover label.sk-toggleable__label {background-color: #d4ebff;}#sk-container-id-2 div.sk-serial::before {content: \"\";position: absolute;border-left: 1px solid gray;box-sizing: border-box;top: 0;bottom: 0;left: 50%;z-index: 0;}#sk-container-id-2 div.sk-serial {display: flex;flex-direction: column;align-items: center;background-color: white;padding-right: 0.2em;padding-left: 0.2em;position: relative;}#sk-container-id-2 div.sk-item {position: relative;z-index: 1;}#sk-container-id-2 div.sk-parallel {display: flex;align-items: stretch;justify-content: center;background-color: white;position: relative;}#sk-container-id-2 div.sk-item::before, #sk-container-id-2 div.sk-parallel-item::before {content: \"\";position: absolute;border-left: 1px solid gray;box-sizing: border-box;top: 0;bottom: 0;left: 50%;z-index: -1;}#sk-container-id-2 div.sk-parallel-item {display: flex;flex-direction: column;z-index: 1;position: relative;background-color: white;}#sk-container-id-2 div.sk-parallel-item:first-child::after {align-self: flex-end;width: 50%;}#sk-container-id-2 div.sk-parallel-item:last-child::after {align-self: flex-start;width: 50%;}#sk-container-id-2 div.sk-parallel-item:only-child::after {width: 0;}#sk-container-id-2 div.sk-dashed-wrapped {border: 1px dashed gray;margin: 0 0.4em 0.5em 0.4em;box-sizing: border-box;padding-bottom: 0.4em;background-color: white;}#sk-container-id-2 div.sk-label label {font-family: monospace;font-weight: bold;display: inline-block;line-height: 1.2em;}#sk-container-id-2 div.sk-label-container {text-align: center;}#sk-container-id-2 div.sk-container {/* jupyter's `normalize.less` sets `[hidden] { display: none; }` but bootstrap.min.css set `[hidden] { display: none !important; }` so we also need the `!important` here to be able to override the default hidden behavior on the sphinx rendered scikit-learn.org. See: https://github.com/scikit-learn/scikit-learn/issues/21755 */display: inline-block !important;position: relative;}#sk-container-id-2 div.sk-text-repr-fallback {display: none;}</style><div id=\"sk-container-id-2\" class=\"sk-top-container\"><div class=\"sk-text-repr-fallback\"><pre>LinearRegression()</pre><b>In a Jupyter environment, please rerun this cell to show the HTML representation or trust the notebook. <br />On GitHub, the HTML representation is unable to render, please try loading this page with nbviewer.org.</b></div><div class=\"sk-container\" hidden><div class=\"sk-item\"><div class=\"sk-estimator sk-toggleable\"><input class=\"sk-toggleable__control sk-hidden--visually\" id=\"sk-estimator-id-2\" type=\"checkbox\" checked><label for=\"sk-estimator-id-2\" class=\"sk-toggleable__label sk-toggleable__label-arrow\">LinearRegression</label><div class=\"sk-toggleable__content\"><pre>LinearRegression()</pre></div></div></div></div></div>"
      ],
      "text/plain": [
       "LinearRegression()"
      ]
     },
     "execution_count": 57,
     "metadata": {},
     "output_type": "execute_result"
    }
   ],
   "source": [
    "from sklearn.linear_model import LinearRegression\n",
    "lr = LinearRegression()\n",
    "lr.fit(X_train, y_train)"
   ]
  },
  {
   "cell_type": "code",
   "execution_count": 58,
   "metadata": {},
   "outputs": [
    {
     "name": "stdout",
     "output_type": "stream",
     "text": [
      "Score train : 0.7039722222486362\n",
      "Score test: 0.7323353804997427\n"
     ]
    }
   ],
   "source": [
    "print(\"Score train :\", metrics.r2_score(y_train, lr.predict(X_train)))\n",
    "print(\"Score test:\", metrics.r2_score(y_test, lr.predict(X_test)))\n",
    "acc1 = metrics.r2_score(y_test, lr.predict(X_test))"
   ]
  },
  {
   "attachments": {},
   "cell_type": "markdown",
   "metadata": {},
   "source": [
    "### 2. Decision Trees"
   ]
  },
  {
   "cell_type": "code",
   "execution_count": 59,
   "metadata": {},
   "outputs": [
    {
     "name": "stdout",
     "output_type": "stream",
     "text": [
      "Score train : 0.7973559197881207\n",
      "Score test: 0.8059002356054992\n"
     ]
    }
   ],
   "source": [
    "from sklearn.tree import DecisionTreeRegressor\n",
    "dt = DecisionTreeRegressor(max_depth=4)\n",
    "dt.fit(X_train, y_train)\n",
    "\n",
    "print(\"Score train :\", metrics.r2_score(y_train, dt.predict(X_train)))\n",
    "print(\"Score test:\", metrics.r2_score(y_test, dt.predict(X_test)))\n",
    "acc3 = metrics.r2_score(y_test, dt.predict(X_test))"
   ]
  },
  {
   "attachments": {},
   "cell_type": "markdown",
   "metadata": {},
   "source": [
    "### 3. KNN"
   ]
  },
  {
   "cell_type": "code",
   "execution_count": 60,
   "metadata": {},
   "outputs": [
    {
     "name": "stdout",
     "output_type": "stream",
     "text": [
      "Score train : 0.8406274326034078\n",
      "Score test: 0.8248682018843214\n"
     ]
    }
   ],
   "source": [
    "from sklearn.neighbors import KNeighborsRegressor\n",
    "\n",
    "knn = KNeighborsRegressor(n_neighbors=15)\n",
    "knn.fit(X_train, y_train)\n",
    "\n",
    "print(\"Score train :\", metrics.r2_score(y_train, knn.predict(X_train)))\n",
    "print(\"Score test:\", metrics.r2_score(y_test, knn.predict(X_test)))\n",
    "acc4 = metrics.r2_score(y_test, knn.predict(X_test))"
   ]
  },
  {
   "attachments": {},
   "cell_type": "markdown",
   "metadata": {},
   "source": [
    "Score train : 0.8345632574592086\n",
    "Score test: 0.8342944284814509"
   ]
  },
  {
   "attachments": {},
   "cell_type": "markdown",
   "metadata": {},
   "source": [
    "### 4. XGB"
   ]
  },
  {
   "cell_type": "code",
   "execution_count": 61,
   "metadata": {},
   "outputs": [],
   "source": [
    "#!pip install xgboost"
   ]
  },
  {
   "cell_type": "code",
   "execution_count": 62,
   "metadata": {},
   "outputs": [
    {
     "name": "stdout",
     "output_type": "stream",
     "text": [
      "Score train : 0.9569488037884633\n",
      "Score test: 0.8753143229786527\n"
     ]
    }
   ],
   "source": [
    "from xgboost import XGBRegressor\n",
    "\n",
    "xgb_reg = XGBRegressor(n_estimators=20, random_state=seed)\n",
    "xgb_reg.fit(X_train, y_train)\n",
    "\n",
    "print(\"Score train :\", metrics.r2_score(y_train, xgb_reg.predict(X_train)))\n",
    "print(\"Score test:\", metrics.r2_score(y_test, xgb_reg.predict(X_test)))\n",
    "acc5 = metrics.r2_score(y_test, xgb_reg.predict(X_test))"
   ]
  },
  {
   "cell_type": "code",
   "execution_count": 63,
   "metadata": {},
   "outputs": [
    {
     "data": {
      "text/plain": [
       "Index(['m2_Construidos', 'm2_totales', 'Habitaciones', 'Banos',\n",
       "       'segunda_planta', 'Estacionamientos', 'Poblacion total 2020',\n",
       "       'Superficie de Área Verde m²', 'Superficie Plazas m²',\n",
       "       'Número de establecimientos educacion inicial',\n",
       "       'Distancia a Educación Inicial (m)',\n",
       "       'Razón entre disponibilidad efectiva de matrículas y demanda potencial por educación básica',\n",
       "       'Número de establecimientos eduacion basica',\n",
       "       'Número de establecimientos privados',\n",
       "       'Distancia a Educación Basica (m)',\n",
       "       'Número de establecimientos atencion primaria',\n",
       "       'Distancia a Centro de Salud (m)',\n",
       "       'Superficie total de campamentos (ha)',\n",
       "       ' luminarias cada 50 metros lineales ',\n",
       "       ' Consumo Per Capita residencial (Kwh/persona)',\n",
       "       'Fallos suministro electrico',\n",
       "       'porcentaje manzanas con veredas con buena calidad de pavimento',\n",
       "       'Total de residuos (t)',\n",
       "       ' Porcentaje de residuos municipales valorizados',\n",
       "       ' Porcentaje de viviendas en mal estado  y/o carente  servicios básicos',\n",
       "       'Porcentaje de participación del FCM en el Ingreso Municipal Total',\n",
       "       'Víctimas Robo con violencia o Intimidación',\n",
       "       'Víctimas Robo por Sorpresa',\n",
       "       ' Número de denuncias por delito en el espacio público cada 100 habitantes',\n",
       "       ' Porcentaje de unidades vecinales que tienen entre 20% y 60% de hogares vulnerables',\n",
       "       ' Porcentaje de la población en situación de pobreza (pobreza multidimensional MDSF)',\n",
       "       'Porcentaje de Hacinamiento',\n",
       "       'Porcentaje de viviendas con situación de allegamiento externo',\n",
       "       ' Requerimiento de viviendas nuevas urbanas',\n",
       "       'Tasa de conexiones residenciales fijas de internet por cada 1.000 viviendas particulares',\n",
       "       'Longitud ciclovías (km)', 'Tiempo de viaje en trans publico hr punta',\n",
       "       'Buin', 'Cerrillos', 'Cerro Navia', 'Colina', 'Conchalí', 'El Bosque',\n",
       "       'El Monte', 'Estación Central', 'Huechuraba', 'Independencia',\n",
       "       'La Cisterna', 'La Florida', 'La Granja', 'La Pintana', 'La Reina',\n",
       "       'Lampa', 'Las Condes', 'Lo Barnechea', 'Lo Espejo', 'Lo Prado', 'Macul',\n",
       "       'Maipú', 'Melipilla', 'Padre Hurtado', 'Paine', 'Pedro Aguirre Cerda',\n",
       "       'Peñaflor', 'Peñalolén', 'Pirque', 'Providencia', 'Pudahuel',\n",
       "       'Puente Alto', 'Quilicura', 'Quinta Normal', 'Recoleta', 'Renca',\n",
       "       'San Bernardo', 'San Joaquín', 'San Miguel', 'San Ramón', 'Santiago',\n",
       "       'Talagante', 'Vitacura', 'Ñuñoa'],\n",
       "      dtype='object')"
      ]
     },
     "execution_count": 63,
     "metadata": {},
     "output_type": "execute_result"
    }
   ],
   "source": [
    "X_train.columns"
   ]
  },
  {
   "cell_type": "code",
   "execution_count": 64,
   "metadata": {},
   "outputs": [
    {
     "data": {
      "text/plain": [
       "array([1.1663967e-02, 5.3367266e-03, 6.7353243e-04, 2.4900527e-03,\n",
       "       2.5303164e-04, 6.2612194e-04, 1.5675967e-03, 3.6767069e-03,\n",
       "       1.5031124e-03, 7.8290509e-04, 1.9786083e-03, 1.4014790e-02,\n",
       "       0.0000000e+00, 5.4173493e-03, 5.2194588e-04, 1.5520145e-03,\n",
       "       1.4132704e-03, 9.0072484e-04, 1.0595552e-03, 1.9139472e-02,\n",
       "       7.9997461e-03, 4.7272377e-04, 4.4588046e-03, 5.5791630e-04,\n",
       "       6.3803424e-03, 8.4388098e-03, 8.2118774e-04, 1.0331043e-03,\n",
       "       3.6849789e-03, 9.9951867e-04, 1.2328885e-03, 3.0657300e-03,\n",
       "       8.7714165e-01, 1.2388692e-03, 8.8451005e-04, 8.9743518e-04,\n",
       "       2.8581042e-03, 0.0000000e+00, 0.0000000e+00, 0.0000000e+00,\n",
       "       1.4574162e-04, 0.0000000e+00, 0.0000000e+00, 0.0000000e+00,\n",
       "       1.0125407e-03, 0.0000000e+00, 0.0000000e+00, 0.0000000e+00,\n",
       "       0.0000000e+00, 0.0000000e+00, 0.0000000e+00, 0.0000000e+00,\n",
       "       0.0000000e+00, 0.0000000e+00, 0.0000000e+00, 0.0000000e+00,\n",
       "       0.0000000e+00, 1.4967215e-04, 0.0000000e+00, 0.0000000e+00,\n",
       "       0.0000000e+00, 0.0000000e+00, 0.0000000e+00, 0.0000000e+00,\n",
       "       0.0000000e+00, 0.0000000e+00, 0.0000000e+00, 0.0000000e+00,\n",
       "       0.0000000e+00, 0.0000000e+00, 0.0000000e+00, 0.0000000e+00,\n",
       "       0.0000000e+00, 1.9542163e-03, 0.0000000e+00, 0.0000000e+00,\n",
       "       0.0000000e+00, 0.0000000e+00, 0.0000000e+00, 0.0000000e+00,\n",
       "       0.0000000e+00], dtype=float32)"
      ]
     },
     "execution_count": 64,
     "metadata": {},
     "output_type": "execute_result"
    }
   ],
   "source": [
    "xgb_reg.feature_importances_"
   ]
  },
  {
   "cell_type": "code",
   "execution_count": 65,
   "metadata": {},
   "outputs": [],
   "source": [
    "df_impor=pd.DataFrame({\"col\":X_train.columns, \"coef_impor\":xgb_reg.feature_importances_})"
   ]
  },
  {
   "cell_type": "code",
   "execution_count": 66,
   "metadata": {},
   "outputs": [],
   "source": [
    "#pd.set_option(\"display.max_rows\", None)# esto es para ver todas las columnas"
   ]
  },
  {
   "cell_type": "code",
   "execution_count": 67,
   "metadata": {},
   "outputs": [],
   "source": [
    "#pd.reset_option('all')# esto es para recetear que se vean todas la lineas"
   ]
  },
  {
   "cell_type": "code",
   "execution_count": 68,
   "metadata": {},
   "outputs": [
    {
     "data": {
      "text/html": [
       "<div>\n",
       "<style scoped>\n",
       "    .dataframe tbody tr th:only-of-type {\n",
       "        vertical-align: middle;\n",
       "    }\n",
       "\n",
       "    .dataframe tbody tr th {\n",
       "        vertical-align: top;\n",
       "    }\n",
       "\n",
       "    .dataframe thead th {\n",
       "        text-align: right;\n",
       "    }\n",
       "</style>\n",
       "<table border=\"1\" class=\"dataframe\">\n",
       "  <thead>\n",
       "    <tr style=\"text-align: right;\">\n",
       "      <th></th>\n",
       "      <th>col</th>\n",
       "      <th>coef_impor</th>\n",
       "    </tr>\n",
       "  </thead>\n",
       "  <tbody>\n",
       "    <tr>\n",
       "      <th>32</th>\n",
       "      <td>Porcentaje de viviendas con situación de alleg...</td>\n",
       "      <td>0.877142</td>\n",
       "    </tr>\n",
       "    <tr>\n",
       "      <th>19</th>\n",
       "      <td>Consumo Per Capita residencial (Kwh/persona)</td>\n",
       "      <td>0.019139</td>\n",
       "    </tr>\n",
       "    <tr>\n",
       "      <th>11</th>\n",
       "      <td>Razón entre disponibilidad efectiva de matrícu...</td>\n",
       "      <td>0.014015</td>\n",
       "    </tr>\n",
       "    <tr>\n",
       "      <th>0</th>\n",
       "      <td>m2_Construidos</td>\n",
       "      <td>0.011664</td>\n",
       "    </tr>\n",
       "    <tr>\n",
       "      <th>25</th>\n",
       "      <td>Porcentaje de participación del FCM en el Ingr...</td>\n",
       "      <td>0.008439</td>\n",
       "    </tr>\n",
       "    <tr>\n",
       "      <th>20</th>\n",
       "      <td>Fallos suministro electrico</td>\n",
       "      <td>0.008000</td>\n",
       "    </tr>\n",
       "    <tr>\n",
       "      <th>24</th>\n",
       "      <td>Porcentaje de viviendas en mal estado  y/o ca...</td>\n",
       "      <td>0.006380</td>\n",
       "    </tr>\n",
       "    <tr>\n",
       "      <th>13</th>\n",
       "      <td>Número de establecimientos privados</td>\n",
       "      <td>0.005417</td>\n",
       "    </tr>\n",
       "    <tr>\n",
       "      <th>1</th>\n",
       "      <td>m2_totales</td>\n",
       "      <td>0.005337</td>\n",
       "    </tr>\n",
       "    <tr>\n",
       "      <th>22</th>\n",
       "      <td>Total de residuos (t)</td>\n",
       "      <td>0.004459</td>\n",
       "    </tr>\n",
       "  </tbody>\n",
       "</table>\n",
       "</div>"
      ],
      "text/plain": [
       "                                                  col  coef_impor\n",
       "32  Porcentaje de viviendas con situación de alleg...    0.877142\n",
       "19       Consumo Per Capita residencial (Kwh/persona)    0.019139\n",
       "11  Razón entre disponibilidad efectiva de matrícu...    0.014015\n",
       "0                                      m2_Construidos    0.011664\n",
       "25  Porcentaje de participación del FCM en el Ingr...    0.008439\n",
       "20                        Fallos suministro electrico    0.008000\n",
       "24   Porcentaje de viviendas en mal estado  y/o ca...    0.006380\n",
       "13                Número de establecimientos privados    0.005417\n",
       "1                                          m2_totales    0.005337\n",
       "22                              Total de residuos (t)    0.004459"
      ]
     },
     "execution_count": 68,
     "metadata": {},
     "output_type": "execute_result"
    }
   ],
   "source": [
    "df_impor.sort_values(by= \"coef_impor\", ascending= False).head(10)"
   ]
  },
  {
   "cell_type": "code",
   "execution_count": 69,
   "metadata": {},
   "outputs": [
    {
     "data": {
      "text/plain": [
       "0.8753143229786527"
      ]
     },
     "execution_count": 69,
     "metadata": {},
     "output_type": "execute_result"
    }
   ],
   "source": [
    "xgb_reg.score(X_test, y_test)"
   ]
  },
  {
   "cell_type": "code",
   "execution_count": 70,
   "metadata": {},
   "outputs": [
    {
     "data": {
      "text/plain": [
       "0.9569488037884633"
      ]
     },
     "execution_count": 70,
     "metadata": {},
     "output_type": "execute_result"
    }
   ],
   "source": [
    "xgb_reg.score(X_train, y_train)"
   ]
  },
  {
   "attachments": {},
   "cell_type": "markdown",
   "metadata": {},
   "source": [
    "### 5. AdaBoost"
   ]
  },
  {
   "cell_type": "code",
   "execution_count": 71,
   "metadata": {},
   "outputs": [
    {
     "name": "stdout",
     "output_type": "stream",
     "text": [
      "Score train : 0.8102072279528559\n",
      "Score test: 0.7890079923252514\n"
     ]
    }
   ],
   "source": [
    "from sklearn.ensemble import AdaBoostRegressor\n",
    "\n",
    "ada_reg = AdaBoostRegressor(n_estimators=15, random_state=seed)\n",
    "ada_reg.fit(X_train, y_train)\n",
    "\n",
    "print(\"Score train :\", metrics.r2_score(y_train, ada_reg.predict(X_train)))\n",
    "print(\"Score test:\", metrics.r2_score(y_test, ada_reg.predict(X_test)))\n",
    "acc6 = metrics.r2_score(y_test, ada_reg.predict(X_test))"
   ]
  },
  {
   "attachments": {},
   "cell_type": "markdown",
   "metadata": {},
   "source": [
    "### 6. Random Forest"
   ]
  },
  {
   "cell_type": "code",
   "execution_count": 72,
   "metadata": {},
   "outputs": [
    {
     "name": "stdout",
     "output_type": "stream",
     "text": [
      "Score train : 0.6297307251223703\n",
      "Score test: 0.6645068831587483\n"
     ]
    }
   ],
   "source": [
    "from sklearn.ensemble import RandomForestRegressor\n",
    "\n",
    "rnd_reg = RandomForestRegressor(n_estimators=60, max_depth=3,  max_features=3, random_state=seed) \n",
    "rnd_reg.fit(X_train, y_train)\n",
    "\n",
    "print(\"Score train :\", metrics.r2_score(y_train, rnd_reg.predict(X_train)))\n",
    "print(\"Score test:\", metrics.r2_score(y_test, rnd_reg.predict(X_test)))\n",
    "acc7 = metrics.r2_score(y_test, rnd_reg.predict(X_test))"
   ]
  },
  {
   "attachments": {},
   "cell_type": "markdown",
   "metadata": {},
   "source": [
    "### 7. GradientBoosting"
   ]
  },
  {
   "cell_type": "code",
   "execution_count": 73,
   "metadata": {},
   "outputs": [
    {
     "name": "stdout",
     "output_type": "stream",
     "text": [
      "Score train : 0.910861500967502\n",
      "Score test: 0.8768376051997099\n"
     ]
    }
   ],
   "source": [
    "from sklearn.ensemble import GradientBoostingRegressor\n",
    "\n",
    "gbrt = GradientBoostingRegressor(n_estimators=110, random_state=seed)\n",
    "gbrt.fit(X_train, y_train)\n",
    "\n",
    "print(\"Score train :\", metrics.r2_score(y_train, gbrt.predict(X_train)))\n",
    "print(\"Score test:\", metrics.r2_score(y_test, gbrt.predict(X_test)))\n",
    "acc8 = metrics.r2_score(y_test, gbrt.predict(X_test))\n",
    "\n",
    "\n"
   ]
  },
  {
   "cell_type": "markdown",
   "metadata": {},
   "source": [
    "### ENSEMBLE"
   ]
  },
  {
   "cell_type": "code",
   "execution_count": 74,
   "metadata": {},
   "outputs": [
    {
     "data": {
      "text/plain": [
       "GradBoosting    0.876838\n",
       "XGBoost         0.875314\n",
       "KNN             0.824868\n",
       "DecTree         0.805900\n",
       "AdaBoost        0.789008\n",
       "LinReg          0.732335\n",
       "RandomForest    0.664507\n",
       "dtype: float64"
      ]
     },
     "execution_count": 74,
     "metadata": {},
     "output_type": "execute_result"
    }
   ],
   "source": [
    "result = [acc1, acc3, acc4, acc5, acc6, acc7, acc8, ]\n",
    "models = ['LinReg', \"DecTree\", \"KNN\", \"XGBoost\", \"AdaBoost\", \"RandomForest\", \"GradBoosting\"]\n",
    "\n",
    "resultados = pd.Series(result, models).sort_values(ascending=False)\n",
    "resultados"
   ]
  },
  {
   "attachments": {},
   "cell_type": "markdown",
   "metadata": {},
   "source": [
    "## VotingRegressor"
   ]
  },
  {
   "cell_type": "code",
   "execution_count": 75,
   "metadata": {},
   "outputs": [
    {
     "name": "stdout",
     "output_type": "stream",
     "text": [
      "[Voting] ................... (1 of 7) Processing LinReg, total=   0.0s\n",
      "[Voting] .................. (2 of 7) Processing DecTree, total=   0.0s\n",
      "[Voting] ...................... (3 of 7) Processing KNN, total=   0.0s\n",
      "[Voting] .................. (4 of 7) Processing XGBoost, total=   0.1s\n",
      "[Voting] ................. (5 of 7) Processing AdaBoost, total=   0.2s\n",
      "[Voting] ............. (6 of 7) Processing RandomForest, total=   0.1s\n",
      "[Voting] ............. (7 of 7) Processing GradBoosting, total=   1.0s\n",
      "VotingRegressor 0.8685785159105637\n"
     ]
    }
   ],
   "source": [
    "from sklearn.ensemble import VotingRegressor\n",
    "\n",
    "estimators = [('LinReg', lr), (\"DecTree\",dt), (\"KNN\", knn), (\"XGBoost\",xgb_reg), (\"AdaBoost\", ada_reg), (\"RandomForest\", rnd_reg), (\"GradBoosting\", gbrt)]\n",
    "\n",
    "voting_reg = VotingRegressor(estimators=estimators, verbose=True)\n",
    "\n",
    "voting_reg.fit(X_train, y_train)\n",
    "print(voting_reg.__class__.__name__, voting_reg.score(X_test,y_test))"
   ]
  },
  {
   "cell_type": "code",
   "execution_count": null,
   "metadata": {},
   "outputs": [],
   "source": []
  },
  {
   "cell_type": "markdown",
   "metadata": {},
   "source": [
    "___\n",
    "___\n",
    "___\n"
   ]
  },
  {
   "attachments": {},
   "cell_type": "markdown",
   "metadata": {},
   "source": [
    "## El 2º mejor modelo  XGB"
   ]
  },
  {
   "cell_type": "code",
   "execution_count": 76,
   "metadata": {},
   "outputs": [
    {
     "name": "stdout",
     "output_type": "stream",
     "text": [
      "Score train : 0.9569488037884633\n",
      "Score test: 0.8753143229786527\n"
     ]
    }
   ],
   "source": [
    "from xgboost import XGBRegressor\n",
    "\n",
    "xgb_reg = XGBRegressor(n_estimators=20, random_state=seed)\n",
    "xgb_reg.fit(X_train, y_train)\n",
    "\n",
    "print(\"Score train :\", metrics.r2_score(y_train, xgb_reg.predict(X_train)))\n",
    "print(\"Score test:\", metrics.r2_score(y_test, xgb_reg.predict(X_test)))\n",
    "acc5 = metrics.r2_score(y_test, xgb_reg.predict(X_test))"
   ]
  },
  {
   "cell_type": "code",
   "execution_count": 77,
   "metadata": {},
   "outputs": [
    {
     "name": "stdout",
     "output_type": "stream",
     "text": [
      "MAE: 1737.197829820165\n",
      "MSE: 8816802.948560158\n",
      "RMSE: 2969.310180590798\n",
      "MAPE: 0.20341049925438856\n"
     ]
    }
   ],
   "source": [
    "predictions = xgb_reg.predict(X_test)\n",
    "\n",
    "print('MAE:', metrics.mean_absolute_error(y_test, predictions))  \n",
    "print('MSE:', metrics.mean_squared_error(y_test, predictions))\n",
    "print('RMSE:', np.sqrt(metrics.mean_squared_error(y_test, predictions)))\n",
    "print('MAPE:', metrics.mean_absolute_percentage_error(y_test, predictions))"
   ]
  },
  {
   "attachments": {},
   "cell_type": "markdown",
   "metadata": {},
   "source": [
    "### Feature importance del Mejor Modelo XGB"
   ]
  },
  {
   "cell_type": "code",
   "execution_count": 78,
   "metadata": {},
   "outputs": [
    {
     "data": {
      "text/plain": [
       "array([1.1663967e-02, 5.3367266e-03, 6.7353243e-04, 2.4900527e-03,\n",
       "       2.5303164e-04, 6.2612194e-04, 1.5675967e-03, 3.6767069e-03,\n",
       "       1.5031124e-03, 7.8290509e-04, 1.9786083e-03, 1.4014790e-02,\n",
       "       0.0000000e+00, 5.4173493e-03, 5.2194588e-04, 1.5520145e-03,\n",
       "       1.4132704e-03, 9.0072484e-04, 1.0595552e-03, 1.9139472e-02,\n",
       "       7.9997461e-03, 4.7272377e-04, 4.4588046e-03, 5.5791630e-04,\n",
       "       6.3803424e-03, 8.4388098e-03, 8.2118774e-04, 1.0331043e-03,\n",
       "       3.6849789e-03, 9.9951867e-04, 1.2328885e-03, 3.0657300e-03,\n",
       "       8.7714165e-01, 1.2388692e-03, 8.8451005e-04, 8.9743518e-04,\n",
       "       2.8581042e-03, 0.0000000e+00, 0.0000000e+00, 0.0000000e+00,\n",
       "       1.4574162e-04, 0.0000000e+00, 0.0000000e+00, 0.0000000e+00,\n",
       "       1.0125407e-03, 0.0000000e+00, 0.0000000e+00, 0.0000000e+00,\n",
       "       0.0000000e+00, 0.0000000e+00, 0.0000000e+00, 0.0000000e+00,\n",
       "       0.0000000e+00, 0.0000000e+00, 0.0000000e+00, 0.0000000e+00,\n",
       "       0.0000000e+00, 1.4967215e-04, 0.0000000e+00, 0.0000000e+00,\n",
       "       0.0000000e+00, 0.0000000e+00, 0.0000000e+00, 0.0000000e+00,\n",
       "       0.0000000e+00, 0.0000000e+00, 0.0000000e+00, 0.0000000e+00,\n",
       "       0.0000000e+00, 0.0000000e+00, 0.0000000e+00, 0.0000000e+00,\n",
       "       0.0000000e+00, 1.9542163e-03, 0.0000000e+00, 0.0000000e+00,\n",
       "       0.0000000e+00, 0.0000000e+00, 0.0000000e+00, 0.0000000e+00,\n",
       "       0.0000000e+00], dtype=float32)"
      ]
     },
     "execution_count": 78,
     "metadata": {},
     "output_type": "execute_result"
    }
   ],
   "source": [
    "xgb_reg.feature_importances_"
   ]
  },
  {
   "cell_type": "code",
   "execution_count": 79,
   "metadata": {},
   "outputs": [],
   "source": [
    "df_impor_xgb=pd.DataFrame({\"col\":X_train.columns, \"coef_impor\":xgb_reg.feature_importances_})"
   ]
  },
  {
   "cell_type": "code",
   "execution_count": 80,
   "metadata": {},
   "outputs": [],
   "source": [
    "df_impor_xgb=df_impor_xgb.round(decimals=2)"
   ]
  },
  {
   "cell_type": "code",
   "execution_count": 81,
   "metadata": {},
   "outputs": [
    {
     "data": {
      "text/html": [
       "<div>\n",
       "<style scoped>\n",
       "    .dataframe tbody tr th:only-of-type {\n",
       "        vertical-align: middle;\n",
       "    }\n",
       "\n",
       "    .dataframe tbody tr th {\n",
       "        vertical-align: top;\n",
       "    }\n",
       "\n",
       "    .dataframe thead th {\n",
       "        text-align: right;\n",
       "    }\n",
       "</style>\n",
       "<table border=\"1\" class=\"dataframe\">\n",
       "  <thead>\n",
       "    <tr style=\"text-align: right;\">\n",
       "      <th></th>\n",
       "      <th>col</th>\n",
       "      <th>coef_impor</th>\n",
       "    </tr>\n",
       "  </thead>\n",
       "  <tbody>\n",
       "    <tr>\n",
       "      <th>32</th>\n",
       "      <td>Porcentaje de viviendas con situación de alleg...</td>\n",
       "      <td>0.88</td>\n",
       "    </tr>\n",
       "    <tr>\n",
       "      <th>19</th>\n",
       "      <td>Consumo Per Capita residencial (Kwh/persona)</td>\n",
       "      <td>0.02</td>\n",
       "    </tr>\n",
       "    <tr>\n",
       "      <th>0</th>\n",
       "      <td>m2_Construidos</td>\n",
       "      <td>0.01</td>\n",
       "    </tr>\n",
       "    <tr>\n",
       "      <th>11</th>\n",
       "      <td>Razón entre disponibilidad efectiva de matrícu...</td>\n",
       "      <td>0.01</td>\n",
       "    </tr>\n",
       "    <tr>\n",
       "      <th>20</th>\n",
       "      <td>Fallos suministro electrico</td>\n",
       "      <td>0.01</td>\n",
       "    </tr>\n",
       "    <tr>\n",
       "      <th>13</th>\n",
       "      <td>Número de establecimientos privados</td>\n",
       "      <td>0.01</td>\n",
       "    </tr>\n",
       "    <tr>\n",
       "      <th>24</th>\n",
       "      <td>Porcentaje de viviendas en mal estado  y/o ca...</td>\n",
       "      <td>0.01</td>\n",
       "    </tr>\n",
       "    <tr>\n",
       "      <th>25</th>\n",
       "      <td>Porcentaje de participación del FCM en el Ingr...</td>\n",
       "      <td>0.01</td>\n",
       "    </tr>\n",
       "    <tr>\n",
       "      <th>1</th>\n",
       "      <td>m2_totales</td>\n",
       "      <td>0.01</td>\n",
       "    </tr>\n",
       "    <tr>\n",
       "      <th>52</th>\n",
       "      <td>Lampa</td>\n",
       "      <td>0.00</td>\n",
       "    </tr>\n",
       "  </tbody>\n",
       "</table>\n",
       "</div>"
      ],
      "text/plain": [
       "                                                  col  coef_impor\n",
       "32  Porcentaje de viviendas con situación de alleg...        0.88\n",
       "19       Consumo Per Capita residencial (Kwh/persona)        0.02\n",
       "0                                      m2_Construidos        0.01\n",
       "11  Razón entre disponibilidad efectiva de matrícu...        0.01\n",
       "20                        Fallos suministro electrico        0.01\n",
       "13                Número de establecimientos privados        0.01\n",
       "24   Porcentaje de viviendas en mal estado  y/o ca...        0.01\n",
       "25  Porcentaje de participación del FCM en el Ingr...        0.01\n",
       "1                                          m2_totales        0.01\n",
       "52                                              Lampa        0.00"
      ]
     },
     "execution_count": 81,
     "metadata": {},
     "output_type": "execute_result"
    }
   ],
   "source": [
    "\n",
    "df_impor_xgb.sort_values(by= \"coef_impor\", ascending= False).head(10)"
   ]
  },
  {
   "attachments": {},
   "cell_type": "markdown",
   "metadata": {},
   "source": [
    "##  El Mejor Modelo GradientBoosting"
   ]
  },
  {
   "cell_type": "code",
   "execution_count": 93,
   "metadata": {},
   "outputs": [
    {
     "name": "stdout",
     "output_type": "stream",
     "text": [
      "Score train : 0.910861500967502\n",
      "Score test: 0.8768376051997099\n"
     ]
    }
   ],
   "source": [
    "from sklearn.ensemble import GradientBoostingRegressor\n",
    "\n",
    "gbrt = GradientBoostingRegressor(n_estimators=110, random_state=seed, max_depth=3)\n",
    "gbrt.fit(X_train, y_train)\n",
    "\n",
    "print(\"Score train :\", metrics.r2_score(y_train, gbrt.predict(X_train)))\n",
    "print(\"Score test:\", metrics.r2_score(y_test, gbrt.predict(X_test)))\n",
    "acc8 = metrics.r2_score(y_test, gbrt.predict(X_test))\n",
    "\n",
    "\n"
   ]
  },
  {
   "cell_type": "code",
   "execution_count": 83,
   "metadata": {},
   "outputs": [],
   "source": [
    "# predictions "
   ]
  },
  {
   "cell_type": "code",
   "execution_count": 84,
   "metadata": {},
   "outputs": [
    {
     "name": "stdout",
     "output_type": "stream",
     "text": [
      "MAE: 1771.424586806195\n",
      "MSE: 8709088.257515037\n",
      "RMSE: 2951.116442554417\n",
      "MAPE: 0.21401478684844888\n"
     ]
    }
   ],
   "source": [
    "predictions = gbrt.predict(X_test)\n",
    "\n",
    "print('MAE:', metrics.mean_absolute_error(y_test, predictions))  \n",
    "print('MSE:', metrics.mean_squared_error(y_test, predictions))\n",
    "print('RMSE:', np.sqrt(metrics.mean_squared_error(y_test, predictions)))\n",
    "print('MAPE:', metrics.mean_absolute_percentage_error(y_test, predictions))"
   ]
  },
  {
   "cell_type": "code",
   "execution_count": 85,
   "metadata": {},
   "outputs": [],
   "source": [
    "# Los mismos datos pero aplicando np.expm1"
   ]
  },
  {
   "cell_type": "code",
   "execution_count": 86,
   "metadata": {},
   "outputs": [
    {
     "name": "stdout",
     "output_type": "stream",
     "text": [
      "MAE: 1771.424586806195\n",
      "MSE: 8709088.257515037\n",
      "RMSE: 2951.116442554417\n",
      "MAPE: 0.21401478684844888\n"
     ]
    }
   ],
   "source": [
    "predictions = gbrt.predict(X_test)\n",
    "\n",
    "\n",
    "print('MAE:', metrics.mean_absolute_error((y_test),(predictions)))  \n",
    "print('MSE:', metrics.mean_squared_error((y_test),(predictions)))\n",
    "print('RMSE:', np.sqrt(metrics.mean_squared_error((y_test),(predictions))))\n",
    "print('MAPE:', metrics.mean_absolute_percentage_error((y_test),(predictions)))"
   ]
  },
  {
   "attachments": {},
   "cell_type": "markdown",
   "metadata": {},
   "source": [
    "### Feature importance"
   ]
  },
  {
   "cell_type": "code",
   "execution_count": 87,
   "metadata": {},
   "outputs": [
    {
     "data": {
      "text/plain": [
       "array([2.96798151e-01, 2.62004511e-01, 1.87584689e-03, 5.23953589e-02,\n",
       "       8.71476338e-04, 2.39276347e-03, 8.97521478e-05, 9.11637503e-04,\n",
       "       5.26895462e-04, 3.99415817e-04, 2.25956683e-03, 3.52424528e-02,\n",
       "       0.00000000e+00, 2.58426110e-02, 2.52070323e-03, 6.02634641e-05,\n",
       "       0.00000000e+00, 1.57032613e-04, 9.89576180e-05, 5.72116928e-02,\n",
       "       1.69005869e-02, 5.90564117e-04, 0.00000000e+00, 1.17726648e-03,\n",
       "       2.59409440e-03, 4.78865950e-02, 1.30592398e-03, 4.88792864e-05,\n",
       "       6.63814552e-04, 2.83215222e-04, 1.08647508e-03, 9.80544180e-04,\n",
       "       1.75421607e-01, 1.70757095e-03, 2.08507765e-03, 3.33930174e-04,\n",
       "       2.43513696e-03, 6.45661934e-06, 0.00000000e+00, 0.00000000e+00,\n",
       "       5.57046760e-05, 0.00000000e+00, 0.00000000e+00, 0.00000000e+00,\n",
       "       0.00000000e+00, 0.00000000e+00, 3.92785237e-04, 0.00000000e+00,\n",
       "       0.00000000e+00, 0.00000000e+00, 0.00000000e+00, 1.05446313e-03,\n",
       "       0.00000000e+00, 1.01519704e-04, 2.70986268e-04, 0.00000000e+00,\n",
       "       0.00000000e+00, 0.00000000e+00, 0.00000000e+00, 0.00000000e+00,\n",
       "       0.00000000e+00, 0.00000000e+00, 0.00000000e+00, 0.00000000e+00,\n",
       "       0.00000000e+00, 8.45305540e-06, 1.41471839e-04, 0.00000000e+00,\n",
       "       0.00000000e+00, 0.00000000e+00, 0.00000000e+00, 0.00000000e+00,\n",
       "       0.00000000e+00, 5.63847563e-04, 0.00000000e+00, 0.00000000e+00,\n",
       "       0.00000000e+00, 0.00000000e+00, 0.00000000e+00, 2.43940906e-04,\n",
       "       0.00000000e+00])"
      ]
     },
     "execution_count": 87,
     "metadata": {},
     "output_type": "execute_result"
    }
   ],
   "source": [
    "gbrt.feature_importances_"
   ]
  },
  {
   "cell_type": "code",
   "execution_count": 88,
   "metadata": {},
   "outputs": [],
   "source": [
    "df_impor_gbrt=pd.DataFrame({\"col\":X_train.columns, \"coef_impor\":gbrt.feature_importances_})"
   ]
  },
  {
   "cell_type": "code",
   "execution_count": 89,
   "metadata": {},
   "outputs": [
    {
     "data": {
      "text/plain": [
       "dtype('float64')"
      ]
     },
     "execution_count": 89,
     "metadata": {},
     "output_type": "execute_result"
    }
   ],
   "source": [
    "#surveys_df['sex'].dtype\n",
    "df_impor_gbrt[\"coef_impor\"].dtype"
   ]
  },
  {
   "cell_type": "code",
   "execution_count": 90,
   "metadata": {},
   "outputs": [],
   "source": [
    "df_impor_gbrt=df_impor_gbrt.round(decimals=2)"
   ]
  },
  {
   "cell_type": "code",
   "execution_count": 91,
   "metadata": {},
   "outputs": [
    {
     "data": {
      "text/html": [
       "<div>\n",
       "<style scoped>\n",
       "    .dataframe tbody tr th:only-of-type {\n",
       "        vertical-align: middle;\n",
       "    }\n",
       "\n",
       "    .dataframe tbody tr th {\n",
       "        vertical-align: top;\n",
       "    }\n",
       "\n",
       "    .dataframe thead th {\n",
       "        text-align: right;\n",
       "    }\n",
       "</style>\n",
       "<table border=\"1\" class=\"dataframe\">\n",
       "  <thead>\n",
       "    <tr style=\"text-align: right;\">\n",
       "      <th></th>\n",
       "      <th>col</th>\n",
       "      <th>coef_impor</th>\n",
       "    </tr>\n",
       "  </thead>\n",
       "  <tbody>\n",
       "    <tr>\n",
       "      <th>0</th>\n",
       "      <td>m2_Construidos</td>\n",
       "      <td>0.30</td>\n",
       "    </tr>\n",
       "    <tr>\n",
       "      <th>1</th>\n",
       "      <td>m2_totales</td>\n",
       "      <td>0.26</td>\n",
       "    </tr>\n",
       "    <tr>\n",
       "      <th>32</th>\n",
       "      <td>Porcentaje de viviendas con situación de alleg...</td>\n",
       "      <td>0.18</td>\n",
       "    </tr>\n",
       "    <tr>\n",
       "      <th>19</th>\n",
       "      <td>Consumo Per Capita residencial (Kwh/persona)</td>\n",
       "      <td>0.06</td>\n",
       "    </tr>\n",
       "    <tr>\n",
       "      <th>3</th>\n",
       "      <td>Banos</td>\n",
       "      <td>0.05</td>\n",
       "    </tr>\n",
       "    <tr>\n",
       "      <th>25</th>\n",
       "      <td>Porcentaje de participación del FCM en el Ingr...</td>\n",
       "      <td>0.05</td>\n",
       "    </tr>\n",
       "    <tr>\n",
       "      <th>11</th>\n",
       "      <td>Razón entre disponibilidad efectiva de matrícu...</td>\n",
       "      <td>0.04</td>\n",
       "    </tr>\n",
       "    <tr>\n",
       "      <th>13</th>\n",
       "      <td>Número de establecimientos privados</td>\n",
       "      <td>0.03</td>\n",
       "    </tr>\n",
       "    <tr>\n",
       "      <th>20</th>\n",
       "      <td>Fallos suministro electrico</td>\n",
       "      <td>0.02</td>\n",
       "    </tr>\n",
       "    <tr>\n",
       "      <th>60</th>\n",
       "      <td>Padre Hurtado</td>\n",
       "      <td>0.00</td>\n",
       "    </tr>\n",
       "  </tbody>\n",
       "</table>\n",
       "</div>"
      ],
      "text/plain": [
       "                                                  col  coef_impor\n",
       "0                                      m2_Construidos        0.30\n",
       "1                                          m2_totales        0.26\n",
       "32  Porcentaje de viviendas con situación de alleg...        0.18\n",
       "19       Consumo Per Capita residencial (Kwh/persona)        0.06\n",
       "3                                               Banos        0.05\n",
       "25  Porcentaje de participación del FCM en el Ingr...        0.05\n",
       "11  Razón entre disponibilidad efectiva de matrícu...        0.04\n",
       "13                Número de establecimientos privados        0.03\n",
       "20                        Fallos suministro electrico        0.02\n",
       "60                                      Padre Hurtado        0.00"
      ]
     },
     "execution_count": 91,
     "metadata": {},
     "output_type": "execute_result"
    }
   ],
   "source": [
    "\n",
    "df_impor_gbrt.sort_values(by= \"coef_impor\", ascending= False).head(10)"
   ]
  },
  {
   "cell_type": "markdown",
   "metadata": {},
   "source": [
    "___\n",
    "___\n",
    "___\n"
   ]
  },
  {
   "attachments": {},
   "cell_type": "markdown",
   "metadata": {},
   "source": [
    "## PCA"
   ]
  },
  {
   "cell_type": "code",
   "execution_count": 72,
   "metadata": {},
   "outputs": [],
   "source": [
    "from sklearn.decomposition import PCA"
   ]
  },
  {
   "cell_type": "code",
   "execution_count": 73,
   "metadata": {},
   "outputs": [],
   "source": [
    "model_pca = PCA(n_components=81)\n",
    "model_pca.fit(X_train)\n",
    "X_pca = model_pca.fit_transform(X_train)"
   ]
  },
  {
   "cell_type": "code",
   "execution_count": 74,
   "metadata": {},
   "outputs": [
    {
     "data": {
      "text/plain": [
       "(3981, 81)"
      ]
     },
     "execution_count": 74,
     "metadata": {},
     "output_type": "execute_result"
    }
   ],
   "source": [
    "X_pca.shape  "
   ]
  },
  {
   "cell_type": "code",
   "execution_count": 75,
   "metadata": {},
   "outputs": [
    {
     "data": {
      "text/plain": [
       "array([0.894, 0.1  , 0.006, 0.   , 0.   , 0.   , 0.   , 0.   , 0.   ,\n",
       "       0.   , 0.   , 0.   , 0.   , 0.   , 0.   , 0.   , 0.   , 0.   ,\n",
       "       0.   , 0.   , 0.   , 0.   , 0.   , 0.   , 0.   , 0.   , 0.   ,\n",
       "       0.   , 0.   , 0.   , 0.   , 0.   , 0.   , 0.   , 0.   , 0.   ,\n",
       "       0.   , 0.   , 0.   , 0.   , 0.   , 0.   , 0.   , 0.   , 0.   ,\n",
       "       0.   , 0.   , 0.   , 0.   , 0.   , 0.   , 0.   , 0.   , 0.   ,\n",
       "       0.   , 0.   , 0.   , 0.   , 0.   , 0.   , 0.   , 0.   , 0.   ,\n",
       "       0.   , 0.   , 0.   , 0.   , 0.   , 0.   , 0.   , 0.   , 0.   ,\n",
       "       0.   , 0.   , 0.   , 0.   , 0.   , 0.   , 0.   , 0.   , 0.   ])"
      ]
     },
     "execution_count": 75,
     "metadata": {},
     "output_type": "execute_result"
    }
   ],
   "source": [
    "ratio = model_pca.explained_variance_ratio_\n",
    "ratio.round(3)"
   ]
  },
  {
   "cell_type": "code",
   "execution_count": 76,
   "metadata": {},
   "outputs": [
    {
     "data": {
      "text/plain": [
       "array([0.89362, 0.99384, 0.99975, 0.99999, 1.     , 1.     , 1.     ,\n",
       "       1.     , 1.     , 1.     , 1.     , 1.     , 1.     , 1.     ,\n",
       "       1.     , 1.     , 1.     , 1.     , 1.     , 1.     , 1.     ,\n",
       "       1.     , 1.     , 1.     , 1.     , 1.     , 1.     , 1.     ,\n",
       "       1.     , 1.     , 1.     , 1.     , 1.     , 1.     , 1.     ,\n",
       "       1.     , 1.     , 1.     , 1.     , 1.     , 1.     , 1.     ,\n",
       "       1.     , 1.     , 1.     , 1.     , 1.     , 1.     , 1.     ,\n",
       "       1.     , 1.     , 1.     , 1.     , 1.     , 1.     , 1.     ,\n",
       "       1.     , 1.     , 1.     , 1.     , 1.     , 1.     , 1.     ,\n",
       "       1.     , 1.     , 1.     , 1.     , 1.     , 1.     , 1.     ,\n",
       "       1.     , 1.     , 1.     , 1.     , 1.     , 1.     , 1.     ,\n",
       "       1.     , 1.     , 1.     , 1.     ])"
      ]
     },
     "execution_count": 76,
     "metadata": {},
     "output_type": "execute_result"
    }
   ],
   "source": [
    "ratiot = model_pca.explained_variance_ratio_.cumsum()\n",
    "ratiot.round(5)"
   ]
  },
  {
   "cell_type": "code",
   "execution_count": null,
   "metadata": {},
   "outputs": [],
   "source": []
  },
  {
   "cell_type": "code",
   "execution_count": 57,
   "metadata": {},
   "outputs": [
    {
     "data": {
      "text/plain": [
       "array([0.89362101, 0.99384427, 0.99974962, 0.99999299])"
      ]
     },
     "execution_count": 57,
     "metadata": {},
     "output_type": "execute_result"
    }
   ],
   "source": [
    "ratiot[:4]"
   ]
  },
  {
   "cell_type": "code",
   "execution_count": 58,
   "metadata": {},
   "outputs": [],
   "source": [
    "import matplotlib.pyplot as plt\n",
    "import seaborn as sns"
   ]
  },
  {
   "cell_type": "code",
   "execution_count": 59,
   "metadata": {},
   "outputs": [
    {
     "data": {
      "image/png": "[encoded data removed]",
      "text/plain": [
       "<Figure size 1600x200 with 2 Axes>"
      ]
     },
     "metadata": {},
     "output_type": "display_data"
    }
   ],
   "source": [
    "#plt.figure(figsize=(20,20))\n",
    "plt.matshow(model_pca.components_[0:4], cmap='viridis')\n",
    "plt.yticks([0,1,2,3,],['1st Comp','2nd Comp','3rd Comp','4th Comp',], fontsize=12)\n",
    "plt.colorbar()\n",
    "plt.xticks(range(len(X.columns)), X.columns, fontsize=12, rotation = 65)\n",
    "plt.show();"
   ]
  },
  {
   "cell_type": "code",
   "execution_count": 60,
   "metadata": {},
   "outputs": [
    {
     "data": {
      "text/html": [
       "<div>\n",
       "<style scoped>\n",
       "    .dataframe tbody tr th:only-of-type {\n",
       "        vertical-align: middle;\n",
       "    }\n",
       "\n",
       "    .dataframe tbody tr th {\n",
       "        vertical-align: top;\n",
       "    }\n",
       "\n",
       "    .dataframe thead th {\n",
       "        text-align: right;\n",
       "    }\n",
       "</style>\n",
       "<table border=\"1\" class=\"dataframe\">\n",
       "  <thead>\n",
       "    <tr style=\"text-align: right;\">\n",
       "      <th></th>\n",
       "      <th>m2_Construidos</th>\n",
       "      <th>m2_totales</th>\n",
       "      <th>Habitaciones</th>\n",
       "      <th>Banos</th>\n",
       "      <th>segunda_planta</th>\n",
       "      <th>Estacionamientos</th>\n",
       "      <th>Poblacion total 2020</th>\n",
       "      <th>Superficie de Área Verde m²</th>\n",
       "      <th>Superficie Plazas m²</th>\n",
       "      <th>Número de establecimientos educacion inicial</th>\n",
       "      <th>...</th>\n",
       "      <th>Recoleta</th>\n",
       "      <th>Renca</th>\n",
       "      <th>San Bernardo</th>\n",
       "      <th>San Joaquín</th>\n",
       "      <th>San Miguel</th>\n",
       "      <th>San Ramón</th>\n",
       "      <th>Santiago</th>\n",
       "      <th>Talagante</th>\n",
       "      <th>Vitacura</th>\n",
       "      <th>Ñuñoa</th>\n",
       "    </tr>\n",
       "  </thead>\n",
       "  <tbody>\n",
       "    <tr>\n",
       "      <th>PC1</th>\n",
       "      <td>-0.000054</td>\n",
       "      <td>-0.000137</td>\n",
       "      <td>-1.216009e-07</td>\n",
       "      <td>-6.174561e-08</td>\n",
       "      <td>1.023890e-08</td>\n",
       "      <td>-8.071056e-08</td>\n",
       "      <td>0.157593</td>\n",
       "      <td>0.806616</td>\n",
       "      <td>0.562040</td>\n",
       "      <td>0.000055</td>\n",
       "      <td>...</td>\n",
       "      <td>1.076014e-08</td>\n",
       "      <td>-7.309180e-09</td>\n",
       "      <td>-2.958245e-09</td>\n",
       "      <td>-1.098805e-08</td>\n",
       "      <td>-2.360895e-08</td>\n",
       "      <td>-1.511877e-09</td>\n",
       "      <td>8.945339e-09</td>\n",
       "      <td>-1.085295e-08</td>\n",
       "      <td>-4.657105e-09</td>\n",
       "      <td>-2.831419e-08</td>\n",
       "    </tr>\n",
       "    <tr>\n",
       "      <th>PC2</th>\n",
       "      <td>0.000034</td>\n",
       "      <td>0.000145</td>\n",
       "      <td>9.782375e-07</td>\n",
       "      <td>8.743890e-07</td>\n",
       "      <td>-3.533640e-08</td>\n",
       "      <td>2.294650e-07</td>\n",
       "      <td>-0.125236</td>\n",
       "      <td>0.587836</td>\n",
       "      <td>-0.795087</td>\n",
       "      <td>-0.000095</td>\n",
       "      <td>...</td>\n",
       "      <td>1.341574e-07</td>\n",
       "      <td>-6.827765e-09</td>\n",
       "      <td>-8.744593e-08</td>\n",
       "      <td>-9.398720e-09</td>\n",
       "      <td>-2.317371e-08</td>\n",
       "      <td>-2.092777e-09</td>\n",
       "      <td>2.870160e-07</td>\n",
       "      <td>-1.592082e-08</td>\n",
       "      <td>1.546031e-07</td>\n",
       "      <td>-3.586365e-08</td>\n",
       "    </tr>\n",
       "    <tr>\n",
       "      <th>PC3</th>\n",
       "      <td>-0.000373</td>\n",
       "      <td>-0.002152</td>\n",
       "      <td>-2.518556e-07</td>\n",
       "      <td>-3.617517e-06</td>\n",
       "      <td>1.666029e-07</td>\n",
       "      <td>-2.313677e-06</td>\n",
       "      <td>0.874321</td>\n",
       "      <td>-0.061783</td>\n",
       "      <td>-0.226644</td>\n",
       "      <td>0.000219</td>\n",
       "      <td>...</td>\n",
       "      <td>-1.484611e-07</td>\n",
       "      <td>2.412528e-08</td>\n",
       "      <td>2.236742e-07</td>\n",
       "      <td>6.587236e-09</td>\n",
       "      <td>1.551166e-07</td>\n",
       "      <td>-2.761511e-09</td>\n",
       "      <td>1.869609e-06</td>\n",
       "      <td>-7.362854e-08</td>\n",
       "      <td>-3.940616e-07</td>\n",
       "      <td>4.359521e-07</td>\n",
       "    </tr>\n",
       "    <tr>\n",
       "      <th>PC4</th>\n",
       "      <td>-0.000060</td>\n",
       "      <td>0.001172</td>\n",
       "      <td>4.050409e-06</td>\n",
       "      <td>1.104207e-05</td>\n",
       "      <td>-5.097251e-07</td>\n",
       "      <td>7.217732e-06</td>\n",
       "      <td>0.441470</td>\n",
       "      <td>0.001177</td>\n",
       "      <td>0.022880</td>\n",
       "      <td>-0.000654</td>\n",
       "      <td>...</td>\n",
       "      <td>-1.584558e-07</td>\n",
       "      <td>-1.282616e-07</td>\n",
       "      <td>-2.537110e-07</td>\n",
       "      <td>-4.518744e-07</td>\n",
       "      <td>-2.284216e-07</td>\n",
       "      <td>-3.056533e-08</td>\n",
       "      <td>-1.990341e-06</td>\n",
       "      <td>-1.348107e-07</td>\n",
       "      <td>-2.914632e-07</td>\n",
       "      <td>1.566299e-06</td>\n",
       "    </tr>\n",
       "  </tbody>\n",
       "</table>\n",
       "<p>4 rows × 81 columns</p>\n",
       "</div>"
      ],
      "text/plain": [
       "     m2_Construidos  m2_totales  Habitaciones         Banos  segunda_planta  \\\n",
       "PC1       -0.000054   -0.000137 -1.216009e-07 -6.174561e-08    1.023890e-08   \n",
       "PC2        0.000034    0.000145  9.782375e-07  8.743890e-07   -3.533640e-08   \n",
       "PC3       -0.000373   -0.002152 -2.518556e-07 -3.617517e-06    1.666029e-07   \n",
       "PC4       -0.000060    0.001172  4.050409e-06  1.104207e-05   -5.097251e-07   \n",
       "\n",
       "     Estacionamientos  Poblacion total 2020  Superficie de Área Verde m²  \\\n",
       "PC1     -8.071056e-08              0.157593                     0.806616   \n",
       "PC2      2.294650e-07             -0.125236                     0.587836   \n",
       "PC3     -2.313677e-06              0.874321                    -0.061783   \n",
       "PC4      7.217732e-06              0.441470                     0.001177   \n",
       "\n",
       "     Superficie Plazas m²  Número de establecimientos educacion inicial  ...  \\\n",
       "PC1              0.562040                                      0.000055  ...   \n",
       "PC2             -0.795087                                     -0.000095  ...   \n",
       "PC3             -0.226644                                      0.000219  ...   \n",
       "PC4              0.022880                                     -0.000654  ...   \n",
       "\n",
       "         Recoleta         Renca  San Bernardo   San Joaquín    San Miguel  \\\n",
       "PC1  1.076014e-08 -7.309180e-09 -2.958245e-09 -1.098805e-08 -2.360895e-08   \n",
       "PC2  1.341574e-07 -6.827765e-09 -8.744593e-08 -9.398720e-09 -2.317371e-08   \n",
       "PC3 -1.484611e-07  2.412528e-08  2.236742e-07  6.587236e-09  1.551166e-07   \n",
       "PC4 -1.584558e-07 -1.282616e-07 -2.537110e-07 -4.518744e-07 -2.284216e-07   \n",
       "\n",
       "        San Ramón      Santiago     Talagante      Vitacura         Ñuñoa  \n",
       "PC1 -1.511877e-09  8.945339e-09 -1.085295e-08 -4.657105e-09 -2.831419e-08  \n",
       "PC2 -2.092777e-09  2.870160e-07 -1.592082e-08  1.546031e-07 -3.586365e-08  \n",
       "PC3 -2.761511e-09  1.869609e-06 -7.362854e-08 -3.940616e-07  4.359521e-07  \n",
       "PC4 -3.056533e-08 -1.990341e-06 -1.348107e-07 -2.914632e-07  1.566299e-06  \n",
       "\n",
       "[4 rows x 81 columns]"
      ]
     },
     "execution_count": 60,
     "metadata": {},
     "output_type": "execute_result"
    }
   ],
   "source": [
    "pd.DataFrame(data=model_pca.components_[0:4], columns=X.columns, index=['PC1','PC2','PC3','PC4'])"
   ]
  },
  {
   "cell_type": "markdown",
   "metadata": {},
   "source": [
    "___\n",
    "___\n",
    "___"
   ]
  },
  {
   "attachments": {},
   "cell_type": "markdown",
   "metadata": {},
   "source": [
    "# Vamos aplicar un Pipeline y GridSearchCV al segundo mejor modelo XGB"
   ]
  },
  {
   "cell_type": "code",
   "execution_count": 61,
   "metadata": {},
   "outputs": [],
   "source": [
    "from sklearn.pipeline import Pipeline\n",
    "from sklearn.model_selection import GridSearchCV\n",
    "from sklearn.preprocessing import StandardScaler"
   ]
  },
  {
   "cell_type": "code",
   "execution_count": 115,
   "metadata": {},
   "outputs": [
    {
     "data": {
      "text/html": [
       "<style>#sk-container-id-11 {color: black;background-color: white;}#sk-container-id-11 pre{padding: 0;}#sk-container-id-11 div.sk-toggleable {background-color: white;}#sk-container-id-11 label.sk-toggleable__label {cursor: pointer;display: block;width: 100%;margin-bottom: 0;padding: 0.3em;box-sizing: border-box;text-align: center;}#sk-container-id-11 label.sk-toggleable__label-arrow:before {content: \"▸\";float: left;margin-right: 0.25em;color: #696969;}#sk-container-id-11 label.sk-toggleable__label-arrow:hover:before {color: black;}#sk-container-id-11 div.sk-estimator:hover label.sk-toggleable__label-arrow:before {color: black;}#sk-container-id-11 div.sk-toggleable__content {max-height: 0;max-width: 0;overflow: hidden;text-align: left;background-color: #f0f8ff;}#sk-container-id-11 div.sk-toggleable__content pre {margin: 0.2em;color: black;border-radius: 0.25em;background-color: #f0f8ff;}#sk-container-id-11 input.sk-toggleable__control:checked~div.sk-toggleable__content {max-height: 200px;max-width: 100%;overflow: auto;}#sk-container-id-11 input.sk-toggleable__control:checked~label.sk-toggleable__label-arrow:before {content: \"▾\";}#sk-container-id-11 div.sk-estimator input.sk-toggleable__control:checked~label.sk-toggleable__label {background-color: #d4ebff;}#sk-container-id-11 div.sk-label input.sk-toggleable__control:checked~label.sk-toggleable__label {background-color: #d4ebff;}#sk-container-id-11 input.sk-hidden--visually {border: 0;clip: rect(1px 1px 1px 1px);clip: rect(1px, 1px, 1px, 1px);height: 1px;margin: -1px;overflow: hidden;padding: 0;position: absolute;width: 1px;}#sk-container-id-11 div.sk-estimator {font-family: monospace;background-color: #f0f8ff;border: 1px dotted black;border-radius: 0.25em;box-sizing: border-box;margin-bottom: 0.5em;}#sk-container-id-11 div.sk-estimator:hover {background-color: #d4ebff;}#sk-container-id-11 div.sk-parallel-item::after {content: \"\";width: 100%;border-bottom: 1px solid gray;flex-grow: 1;}#sk-container-id-11 div.sk-label:hover label.sk-toggleable__label {background-color: #d4ebff;}#sk-container-id-11 div.sk-serial::before {content: \"\";position: absolute;border-left: 1px solid gray;box-sizing: border-box;top: 0;bottom: 0;left: 50%;z-index: 0;}#sk-container-id-11 div.sk-serial {display: flex;flex-direction: column;align-items: center;background-color: white;padding-right: 0.2em;padding-left: 0.2em;position: relative;}#sk-container-id-11 div.sk-item {position: relative;z-index: 1;}#sk-container-id-11 div.sk-parallel {display: flex;align-items: stretch;justify-content: center;background-color: white;position: relative;}#sk-container-id-11 div.sk-item::before, #sk-container-id-11 div.sk-parallel-item::before {content: \"\";position: absolute;border-left: 1px solid gray;box-sizing: border-box;top: 0;bottom: 0;left: 50%;z-index: -1;}#sk-container-id-11 div.sk-parallel-item {display: flex;flex-direction: column;z-index: 1;position: relative;background-color: white;}#sk-container-id-11 div.sk-parallel-item:first-child::after {align-self: flex-end;width: 50%;}#sk-container-id-11 div.sk-parallel-item:last-child::after {align-self: flex-start;width: 50%;}#sk-container-id-11 div.sk-parallel-item:only-child::after {width: 0;}#sk-container-id-11 div.sk-dashed-wrapped {border: 1px dashed gray;margin: 0 0.4em 0.5em 0.4em;box-sizing: border-box;padding-bottom: 0.4em;background-color: white;}#sk-container-id-11 div.sk-label label {font-family: monospace;font-weight: bold;display: inline-block;line-height: 1.2em;}#sk-container-id-11 div.sk-label-container {text-align: center;}#sk-container-id-11 div.sk-container {/* jupyter's `normalize.less` sets `[hidden] { display: none; }` but bootstrap.min.css set `[hidden] { display: none !important; }` so we also need the `!important` here to be able to override the default hidden behavior on the sphinx rendered scikit-learn.org. See: https://github.com/scikit-learn/scikit-learn/issues/21755 */display: inline-block !important;position: relative;}#sk-container-id-11 div.sk-text-repr-fallback {display: none;}</style><div id=\"sk-container-id-11\" class=\"sk-top-container\"><div class=\"sk-text-repr-fallback\"><pre>GridSearchCV(cv=10,\n",
       "             estimator=Pipeline(steps=[(&#x27;scaler&#x27;, StandardScaler()),\n",
       "                                       (&#x27;regressor&#x27;, LinearRegression())]),\n",
       "             param_grid=[{&#x27;regressor&#x27;: [XGBRegressor(base_score=None,\n",
       "                                                     booster=None,\n",
       "                                                     callbacks=None,\n",
       "                                                     colsample_bylevel=None,\n",
       "                                                     colsample_bynode=None,\n",
       "                                                     colsample_bytree=None,\n",
       "                                                     early_stopping_rounds=None,\n",
       "                                                     enable_categorical=False,\n",
       "                                                     eval_metric=None,\n",
       "                                                     feature_types=None,\n",
       "                                                     gamm...\n",
       "                                                     learning_rate=None,\n",
       "                                                     max_bin=None,\n",
       "                                                     max_cat_threshold=None,\n",
       "                                                     max_cat_to_onehot=None,\n",
       "                                                     max_delta_step=None,\n",
       "                                                     max_depth=3,\n",
       "                                                     max_leaves=None,\n",
       "                                                     min_child_weight=None,\n",
       "                                                     missing=nan,\n",
       "                                                     monotone_constraints=None,\n",
       "                                                     n_estimators=160,\n",
       "                                                     n_jobs=None,\n",
       "                                                     num_parallel_tree=None,\n",
       "                                                     predictor=None,\n",
       "                                                     random_state=None, ...)],\n",
       "                          &#x27;regressor__max_depth&#x27;: [3, 4, 5, 6],\n",
       "                          &#x27;regressor__n_estimators&#x27;: [120, 140, 160, 180,\n",
       "                                                      200]}])</pre><b>In a Jupyter environment, please rerun this cell to show the HTML representation or trust the notebook. <br />On GitHub, the HTML representation is unable to render, please try loading this page with nbviewer.org.</b></div><div class=\"sk-container\" hidden><div class=\"sk-item sk-dashed-wrapped\"><div class=\"sk-label-container\"><div class=\"sk-label sk-toggleable\"><input class=\"sk-toggleable__control sk-hidden--visually\" id=\"sk-estimator-id-33\" type=\"checkbox\" ><label for=\"sk-estimator-id-33\" class=\"sk-toggleable__label sk-toggleable__label-arrow\">GridSearchCV</label><div class=\"sk-toggleable__content\"><pre>GridSearchCV(cv=10,\n",
       "             estimator=Pipeline(steps=[(&#x27;scaler&#x27;, StandardScaler()),\n",
       "                                       (&#x27;regressor&#x27;, LinearRegression())]),\n",
       "             param_grid=[{&#x27;regressor&#x27;: [XGBRegressor(base_score=None,\n",
       "                                                     booster=None,\n",
       "                                                     callbacks=None,\n",
       "                                                     colsample_bylevel=None,\n",
       "                                                     colsample_bynode=None,\n",
       "                                                     colsample_bytree=None,\n",
       "                                                     early_stopping_rounds=None,\n",
       "                                                     enable_categorical=False,\n",
       "                                                     eval_metric=None,\n",
       "                                                     feature_types=None,\n",
       "                                                     gamm...\n",
       "                                                     learning_rate=None,\n",
       "                                                     max_bin=None,\n",
       "                                                     max_cat_threshold=None,\n",
       "                                                     max_cat_to_onehot=None,\n",
       "                                                     max_delta_step=None,\n",
       "                                                     max_depth=3,\n",
       "                                                     max_leaves=None,\n",
       "                                                     min_child_weight=None,\n",
       "                                                     missing=nan,\n",
       "                                                     monotone_constraints=None,\n",
       "                                                     n_estimators=160,\n",
       "                                                     n_jobs=None,\n",
       "                                                     num_parallel_tree=None,\n",
       "                                                     predictor=None,\n",
       "                                                     random_state=None, ...)],\n",
       "                          &#x27;regressor__max_depth&#x27;: [3, 4, 5, 6],\n",
       "                          &#x27;regressor__n_estimators&#x27;: [120, 140, 160, 180,\n",
       "                                                      200]}])</pre></div></div></div><div class=\"sk-parallel\"><div class=\"sk-parallel-item\"><div class=\"sk-item\"><div class=\"sk-label-container\"><div class=\"sk-label sk-toggleable\"><input class=\"sk-toggleable__control sk-hidden--visually\" id=\"sk-estimator-id-34\" type=\"checkbox\" ><label for=\"sk-estimator-id-34\" class=\"sk-toggleable__label sk-toggleable__label-arrow\">estimator: Pipeline</label><div class=\"sk-toggleable__content\"><pre>Pipeline(steps=[(&#x27;scaler&#x27;, StandardScaler()),\n",
       "                (&#x27;regressor&#x27;, LinearRegression())])</pre></div></div></div><div class=\"sk-serial\"><div class=\"sk-item\"><div class=\"sk-serial\"><div class=\"sk-item\"><div class=\"sk-estimator sk-toggleable\"><input class=\"sk-toggleable__control sk-hidden--visually\" id=\"sk-estimator-id-35\" type=\"checkbox\" ><label for=\"sk-estimator-id-35\" class=\"sk-toggleable__label sk-toggleable__label-arrow\">StandardScaler</label><div class=\"sk-toggleable__content\"><pre>StandardScaler()</pre></div></div></div><div class=\"sk-item\"><div class=\"sk-estimator sk-toggleable\"><input class=\"sk-toggleable__control sk-hidden--visually\" id=\"sk-estimator-id-36\" type=\"checkbox\" ><label for=\"sk-estimator-id-36\" class=\"sk-toggleable__label sk-toggleable__label-arrow\">LinearRegression</label><div class=\"sk-toggleable__content\"><pre>LinearRegression()</pre></div></div></div></div></div></div></div></div></div></div></div></div>"
      ],
      "text/plain": [
       "GridSearchCV(cv=10,\n",
       "             estimator=Pipeline(steps=[('scaler', StandardScaler()),\n",
       "                                       ('regressor', LinearRegression())]),\n",
       "             param_grid=[{'regressor': [XGBRegressor(base_score=None,\n",
       "                                                     booster=None,\n",
       "                                                     callbacks=None,\n",
       "                                                     colsample_bylevel=None,\n",
       "                                                     colsample_bynode=None,\n",
       "                                                     colsample_bytree=None,\n",
       "                                                     early_stopping_rounds=None,\n",
       "                                                     enable_categorical=False,\n",
       "                                                     eval_metric=None,\n",
       "                                                     feature_types=None,\n",
       "                                                     gamm...\n",
       "                                                     learning_rate=None,\n",
       "                                                     max_bin=None,\n",
       "                                                     max_cat_threshold=None,\n",
       "                                                     max_cat_to_onehot=None,\n",
       "                                                     max_delta_step=None,\n",
       "                                                     max_depth=3,\n",
       "                                                     max_leaves=None,\n",
       "                                                     min_child_weight=None,\n",
       "                                                     missing=nan,\n",
       "                                                     monotone_constraints=None,\n",
       "                                                     n_estimators=160,\n",
       "                                                     n_jobs=None,\n",
       "                                                     num_parallel_tree=None,\n",
       "                                                     predictor=None,\n",
       "                                                     random_state=None, ...)],\n",
       "                          'regressor__max_depth': [3, 4, 5, 6],\n",
       "                          'regressor__n_estimators': [120, 140, 160, 180,\n",
       "                                                      200]}])"
      ]
     },
     "execution_count": 115,
     "metadata": {},
     "output_type": "execute_result"
    }
   ],
   "source": [
    "pipe = Pipeline(steps=[\n",
    "    (\"scaler\", StandardScaler()),# este metodo sirve para escalar los datos \n",
    "    ('regressor', LinearRegression()) \n",
    "    \n",
    "])\n",
    "\n",
    "\n",
    "xgboost_params = {\n",
    "    'regressor': [XGBRegressor()],\n",
    "    'regressor__max_depth': [3,4,5,6],\n",
    "    'regressor__n_estimators': [120, 140, 160, 180, 200]\n",
    "\n",
    "}\n",
    "\n",
    "\n",
    "search_space = [\n",
    "  \n",
    "    xgboost_params,\n",
    "]\n",
    "\n",
    "clf_xgb = GridSearchCV(estimator = pipe,\n",
    "                  param_grid = search_space,\n",
    "                  cv = 10)\n",
    "\n",
    "clf_xgb.fit(X_train, y_train)"
   ]
  },
  {
   "cell_type": "code",
   "execution_count": 116,
   "metadata": {},
   "outputs": [
    {
     "name": "stdout",
     "output_type": "stream",
     "text": [
      "Pipeline(steps=[('scaler', StandardScaler()),\n",
      "                ('regressor',\n",
      "                 XGBRegressor(base_score=0.5, booster='gbtree', callbacks=None,\n",
      "                              colsample_bylevel=1, colsample_bynode=1,\n",
      "                              colsample_bytree=1, early_stopping_rounds=None,\n",
      "                              enable_categorical=False, eval_metric=None,\n",
      "                              feature_types=None, gamma=0, gpu_id=-1,\n",
      "                              grow_policy='depthwise', importance_type=None,\n",
      "                              interaction_constraints='',\n",
      "                              learning_rate=0.300000012, max_bin=256,\n",
      "                              max_cat_threshold=64, max_cat_to_onehot=4,\n",
      "                              max_delta_step=0, max_depth=3, max_leaves=0,\n",
      "                              min_child_weight=1, missing=nan,\n",
      "                              monotone_constraints='()', n_estimators=160,\n",
      "                              n_jobs=0, num_parallel_tree=1, predictor='auto',\n",
      "                              random_state=0, ...))])\n"
     ]
    }
   ],
   "source": [
    "from sklearn import metrics\n",
    "print(clf_xgb.best_estimator_)\n"
   ]
  },
  {
   "cell_type": "code",
   "execution_count": 119,
   "metadata": {},
   "outputs": [
    {
     "name": "stdout",
     "output_type": "stream",
     "text": [
      "{'regressor': XGBRegressor(base_score=None, booster=None, callbacks=None,\n",
      "             colsample_bylevel=None, colsample_bynode=None,\n",
      "             colsample_bytree=None, early_stopping_rounds=None,\n",
      "             enable_categorical=False, eval_metric=None, feature_types=None,\n",
      "             gamma=None, gpu_id=None, grow_policy=None, importance_type=None,\n",
      "             interaction_constraints=None, learning_rate=None, max_bin=None,\n",
      "             max_cat_threshold=None, max_cat_to_onehot=None,\n",
      "             max_delta_step=None, max_depth=3, max_leaves=None,\n",
      "             min_child_weight=None, missing=nan, monotone_constraints=None,\n",
      "             n_estimators=160, n_jobs=None, num_parallel_tree=None,\n",
      "             predictor=None, random_state=None, ...), 'regressor__max_depth': 3, 'regressor__n_estimators': 160}\n"
     ]
    }
   ],
   "source": [
    "print(clf_xgb.best_params_)"
   ]
  },
  {
   "cell_type": "code",
   "execution_count": 120,
   "metadata": {},
   "outputs": [
    {
     "name": "stdout",
     "output_type": "stream",
     "text": [
      "0.885496037410082\n"
     ]
    }
   ],
   "source": [
    "print(clf_xgb.best_score_) # 0,76"
   ]
  },
  {
   "cell_type": "code",
   "execution_count": 121,
   "metadata": {},
   "outputs": [
    {
     "data": {
      "text/plain": [
       "0.935045331896379"
      ]
     },
     "execution_count": 121,
     "metadata": {},
     "output_type": "execute_result"
    }
   ],
   "source": [
    "clf_xgb.score(X_train, y_train)"
   ]
  },
  {
   "cell_type": "code",
   "execution_count": 64,
   "metadata": {},
   "outputs": [],
   "source": [
    "#import joblib"
   ]
  },
  {
   "cell_type": "code",
   "execution_count": 65,
   "metadata": {},
   "outputs": [
    {
     "data": {
      "text/plain": [
       "['modelo_entrenado.pkl']"
      ]
     },
     "execution_count": 65,
     "metadata": {},
     "output_type": "execute_result"
    }
   ],
   "source": [
    "#joblib.dump(clf_b, 'modelo_entrenado.pkl') # Guardo el modelo."
   ]
  },
  {
   "cell_type": "code",
   "execution_count": 66,
   "metadata": {},
   "outputs": [],
   "source": [
    "#clf_b = joblib.load('modelo_entrenado.pkl')# cargar el modelo "
   ]
  },
  {
   "cell_type": "code",
   "execution_count": 68,
   "metadata": {},
   "outputs": [],
   "source": [
    "#Score train : 0.9567069101263656\n",
    "#Score test: 0.8791607391254542"
   ]
  },
  {
   "attachments": {},
   "cell_type": "markdown",
   "metadata": {},
   "source": [
    " ## GridSearchCV sin pipeline XGB"
   ]
  },
  {
   "cell_type": "code",
   "execution_count": 69,
   "metadata": {},
   "outputs": [],
   "source": [
    "from sklearn.model_selection import train_test_split\n",
    "from sklearn.model_selection import GridSearchCV"
   ]
  },
  {
   "cell_type": "code",
   "execution_count": 123,
   "metadata": {},
   "outputs": [],
   "source": [
    "X_train, X_test, y_train, y_test = train_test_split(X, y, test_size = 0.25, random_state = seed)\n",
    "\n",
    "\n",
    "XGB =XGBRegressor()\n",
    "parameters = {'learning_rate': [0.01,0.02,0.03,0.04], #tasa_de_aprendizaje\n",
    "                  'subsample'    : [0.9, 0.5, 0.2, 0.1],#submuestra\n",
    "                  'n_estimators' : [120,140,160,180,200],\n",
    "                  'max_depth'    : [4,5,6,8]# profundidad\n",
    "                 }"
   ]
  },
  {
   "cell_type": "code",
   "execution_count": 124,
   "metadata": {},
   "outputs": [
    {
     "data": {
      "text/html": [
       "<style>#sk-container-id-12 {color: black;background-color: white;}#sk-container-id-12 pre{padding: 0;}#sk-container-id-12 div.sk-toggleable {background-color: white;}#sk-container-id-12 label.sk-toggleable__label {cursor: pointer;display: block;width: 100%;margin-bottom: 0;padding: 0.3em;box-sizing: border-box;text-align: center;}#sk-container-id-12 label.sk-toggleable__label-arrow:before {content: \"▸\";float: left;margin-right: 0.25em;color: #696969;}#sk-container-id-12 label.sk-toggleable__label-arrow:hover:before {color: black;}#sk-container-id-12 div.sk-estimator:hover label.sk-toggleable__label-arrow:before {color: black;}#sk-container-id-12 div.sk-toggleable__content {max-height: 0;max-width: 0;overflow: hidden;text-align: left;background-color: #f0f8ff;}#sk-container-id-12 div.sk-toggleable__content pre {margin: 0.2em;color: black;border-radius: 0.25em;background-color: #f0f8ff;}#sk-container-id-12 input.sk-toggleable__control:checked~div.sk-toggleable__content {max-height: 200px;max-width: 100%;overflow: auto;}#sk-container-id-12 input.sk-toggleable__control:checked~label.sk-toggleable__label-arrow:before {content: \"▾\";}#sk-container-id-12 div.sk-estimator input.sk-toggleable__control:checked~label.sk-toggleable__label {background-color: #d4ebff;}#sk-container-id-12 div.sk-label input.sk-toggleable__control:checked~label.sk-toggleable__label {background-color: #d4ebff;}#sk-container-id-12 input.sk-hidden--visually {border: 0;clip: rect(1px 1px 1px 1px);clip: rect(1px, 1px, 1px, 1px);height: 1px;margin: -1px;overflow: hidden;padding: 0;position: absolute;width: 1px;}#sk-container-id-12 div.sk-estimator {font-family: monospace;background-color: #f0f8ff;border: 1px dotted black;border-radius: 0.25em;box-sizing: border-box;margin-bottom: 0.5em;}#sk-container-id-12 div.sk-estimator:hover {background-color: #d4ebff;}#sk-container-id-12 div.sk-parallel-item::after {content: \"\";width: 100%;border-bottom: 1px solid gray;flex-grow: 1;}#sk-container-id-12 div.sk-label:hover label.sk-toggleable__label {background-color: #d4ebff;}#sk-container-id-12 div.sk-serial::before {content: \"\";position: absolute;border-left: 1px solid gray;box-sizing: border-box;top: 0;bottom: 0;left: 50%;z-index: 0;}#sk-container-id-12 div.sk-serial {display: flex;flex-direction: column;align-items: center;background-color: white;padding-right: 0.2em;padding-left: 0.2em;position: relative;}#sk-container-id-12 div.sk-item {position: relative;z-index: 1;}#sk-container-id-12 div.sk-parallel {display: flex;align-items: stretch;justify-content: center;background-color: white;position: relative;}#sk-container-id-12 div.sk-item::before, #sk-container-id-12 div.sk-parallel-item::before {content: \"\";position: absolute;border-left: 1px solid gray;box-sizing: border-box;top: 0;bottom: 0;left: 50%;z-index: -1;}#sk-container-id-12 div.sk-parallel-item {display: flex;flex-direction: column;z-index: 1;position: relative;background-color: white;}#sk-container-id-12 div.sk-parallel-item:first-child::after {align-self: flex-end;width: 50%;}#sk-container-id-12 div.sk-parallel-item:last-child::after {align-self: flex-start;width: 50%;}#sk-container-id-12 div.sk-parallel-item:only-child::after {width: 0;}#sk-container-id-12 div.sk-dashed-wrapped {border: 1px dashed gray;margin: 0 0.4em 0.5em 0.4em;box-sizing: border-box;padding-bottom: 0.4em;background-color: white;}#sk-container-id-12 div.sk-label label {font-family: monospace;font-weight: bold;display: inline-block;line-height: 1.2em;}#sk-container-id-12 div.sk-label-container {text-align: center;}#sk-container-id-12 div.sk-container {/* jupyter's `normalize.less` sets `[hidden] { display: none; }` but bootstrap.min.css set `[hidden] { display: none !important; }` so we also need the `!important` here to be able to override the default hidden behavior on the sphinx rendered scikit-learn.org. See: https://github.com/scikit-learn/scikit-learn/issues/21755 */display: inline-block !important;position: relative;}#sk-container-id-12 div.sk-text-repr-fallback {display: none;}</style><div id=\"sk-container-id-12\" class=\"sk-top-container\"><div class=\"sk-text-repr-fallback\"><pre>GridSearchCV(cv=3,\n",
       "             estimator=XGBRegressor(base_score=None, booster=None,\n",
       "                                    callbacks=None, colsample_bylevel=None,\n",
       "                                    colsample_bynode=None,\n",
       "                                    colsample_bytree=None,\n",
       "                                    early_stopping_rounds=None,\n",
       "                                    enable_categorical=False, eval_metric=None,\n",
       "                                    feature_types=None, gamma=None, gpu_id=None,\n",
       "                                    grow_policy=None, importance_type=None,\n",
       "                                    interaction_constraints=None,\n",
       "                                    learning_rate=None, m...\n",
       "                                    max_cat_to_onehot=None, max_delta_step=None,\n",
       "                                    max_depth=None, max_leaves=None,\n",
       "                                    min_child_weight=None, missing=nan,\n",
       "                                    monotone_constraints=None, n_estimators=100,\n",
       "                                    n_jobs=None, num_parallel_tree=None,\n",
       "                                    predictor=None, random_state=None, ...),\n",
       "             n_jobs=-1,\n",
       "             param_grid={&#x27;learning_rate&#x27;: [0.01, 0.02, 0.03, 0.04],\n",
       "                         &#x27;max_depth&#x27;: [4, 5, 6, 8],\n",
       "                         &#x27;n_estimators&#x27;: [120, 140, 160, 180, 200],\n",
       "                         &#x27;subsample&#x27;: [0.9, 0.5, 0.2, 0.1]})</pre><b>In a Jupyter environment, please rerun this cell to show the HTML representation or trust the notebook. <br />On GitHub, the HTML representation is unable to render, please try loading this page with nbviewer.org.</b></div><div class=\"sk-container\" hidden><div class=\"sk-item sk-dashed-wrapped\"><div class=\"sk-label-container\"><div class=\"sk-label sk-toggleable\"><input class=\"sk-toggleable__control sk-hidden--visually\" id=\"sk-estimator-id-37\" type=\"checkbox\" ><label for=\"sk-estimator-id-37\" class=\"sk-toggleable__label sk-toggleable__label-arrow\">GridSearchCV</label><div class=\"sk-toggleable__content\"><pre>GridSearchCV(cv=3,\n",
       "             estimator=XGBRegressor(base_score=None, booster=None,\n",
       "                                    callbacks=None, colsample_bylevel=None,\n",
       "                                    colsample_bynode=None,\n",
       "                                    colsample_bytree=None,\n",
       "                                    early_stopping_rounds=None,\n",
       "                                    enable_categorical=False, eval_metric=None,\n",
       "                                    feature_types=None, gamma=None, gpu_id=None,\n",
       "                                    grow_policy=None, importance_type=None,\n",
       "                                    interaction_constraints=None,\n",
       "                                    learning_rate=None, m...\n",
       "                                    max_cat_to_onehot=None, max_delta_step=None,\n",
       "                                    max_depth=None, max_leaves=None,\n",
       "                                    min_child_weight=None, missing=nan,\n",
       "                                    monotone_constraints=None, n_estimators=100,\n",
       "                                    n_jobs=None, num_parallel_tree=None,\n",
       "                                    predictor=None, random_state=None, ...),\n",
       "             n_jobs=-1,\n",
       "             param_grid={&#x27;learning_rate&#x27;: [0.01, 0.02, 0.03, 0.04],\n",
       "                         &#x27;max_depth&#x27;: [4, 5, 6, 8],\n",
       "                         &#x27;n_estimators&#x27;: [120, 140, 160, 180, 200],\n",
       "                         &#x27;subsample&#x27;: [0.9, 0.5, 0.2, 0.1]})</pre></div></div></div><div class=\"sk-parallel\"><div class=\"sk-parallel-item\"><div class=\"sk-item\"><div class=\"sk-label-container\"><div class=\"sk-label sk-toggleable\"><input class=\"sk-toggleable__control sk-hidden--visually\" id=\"sk-estimator-id-38\" type=\"checkbox\" ><label for=\"sk-estimator-id-38\" class=\"sk-toggleable__label sk-toggleable__label-arrow\">estimator: XGBRegressor</label><div class=\"sk-toggleable__content\"><pre>XGBRegressor(base_score=None, booster=None, callbacks=None,\n",
       "             colsample_bylevel=None, colsample_bynode=None,\n",
       "             colsample_bytree=None, early_stopping_rounds=None,\n",
       "             enable_categorical=False, eval_metric=None, feature_types=None,\n",
       "             gamma=None, gpu_id=None, grow_policy=None, importance_type=None,\n",
       "             interaction_constraints=None, learning_rate=None, max_bin=None,\n",
       "             max_cat_threshold=None, max_cat_to_onehot=None,\n",
       "             max_delta_step=None, max_depth=None, max_leaves=None,\n",
       "             min_child_weight=None, missing=nan, monotone_constraints=None,\n",
       "             n_estimators=100, n_jobs=None, num_parallel_tree=None,\n",
       "             predictor=None, random_state=None, ...)</pre></div></div></div><div class=\"sk-serial\"><div class=\"sk-item\"><div class=\"sk-estimator sk-toggleable\"><input class=\"sk-toggleable__control sk-hidden--visually\" id=\"sk-estimator-id-39\" type=\"checkbox\" ><label for=\"sk-estimator-id-39\" class=\"sk-toggleable__label sk-toggleable__label-arrow\">XGBRegressor</label><div class=\"sk-toggleable__content\"><pre>XGBRegressor(base_score=None, booster=None, callbacks=None,\n",
       "             colsample_bylevel=None, colsample_bynode=None,\n",
       "             colsample_bytree=None, early_stopping_rounds=None,\n",
       "             enable_categorical=False, eval_metric=None, feature_types=None,\n",
       "             gamma=None, gpu_id=None, grow_policy=None, importance_type=None,\n",
       "             interaction_constraints=None, learning_rate=None, max_bin=None,\n",
       "             max_cat_threshold=None, max_cat_to_onehot=None,\n",
       "             max_delta_step=None, max_depth=None, max_leaves=None,\n",
       "             min_child_weight=None, missing=nan, monotone_constraints=None,\n",
       "             n_estimators=100, n_jobs=None, num_parallel_tree=None,\n",
       "             predictor=None, random_state=None, ...)</pre></div></div></div></div></div></div></div></div></div></div>"
      ],
      "text/plain": [
       "GridSearchCV(cv=3,\n",
       "             estimator=XGBRegressor(base_score=None, booster=None,\n",
       "                                    callbacks=None, colsample_bylevel=None,\n",
       "                                    colsample_bynode=None,\n",
       "                                    colsample_bytree=None,\n",
       "                                    early_stopping_rounds=None,\n",
       "                                    enable_categorical=False, eval_metric=None,\n",
       "                                    feature_types=None, gamma=None, gpu_id=None,\n",
       "                                    grow_policy=None, importance_type=None,\n",
       "                                    interaction_constraints=None,\n",
       "                                    learning_rate=None, m...\n",
       "                                    max_cat_to_onehot=None, max_delta_step=None,\n",
       "                                    max_depth=None, max_leaves=None,\n",
       "                                    min_child_weight=None, missing=nan,\n",
       "                                    monotone_constraints=None, n_estimators=100,\n",
       "                                    n_jobs=None, num_parallel_tree=None,\n",
       "                                    predictor=None, random_state=None, ...),\n",
       "             n_jobs=-1,\n",
       "             param_grid={'learning_rate': [0.01, 0.02, 0.03, 0.04],\n",
       "                         'max_depth': [4, 5, 6, 8],\n",
       "                         'n_estimators': [120, 140, 160, 180, 200],\n",
       "                         'subsample': [0.9, 0.5, 0.2, 0.1]})"
      ]
     },
     "execution_count": 124,
     "metadata": {},
     "output_type": "execute_result"
    }
   ],
   "source": [
    "grid_XGB = GridSearchCV(estimator= XGB,  # estuviemos copando mas modelos aqui deberiamos incluirlos\n",
    "                        param_grid = parameters,  # aqui van los parametros de los modelos utilizados\n",
    "                        cv = 3,    #  cross validation \n",
    "                        n_jobs=-1) # Esto significa la cantidad de trabajos que se ejecutarán en paralelo, -1 significa usar todo el procesador.\n",
    "\n",
    "grid_XGB.fit(X_train, y_train)"
   ]
  },
  {
   "cell_type": "code",
   "execution_count": 92,
   "metadata": {},
   "outputs": [
    {
     "name": "stdout",
     "output_type": "stream",
     "text": [
      " Results from Grid Search \n",
      "\n",
      " The best estimator across ALL searched params:\n",
      " XGBRegressor(base_score=0.5, booster='gbtree', callbacks=None,\n",
      "             colsample_bylevel=1, colsample_bynode=1, colsample_bytree=1,\n",
      "             early_stopping_rounds=None, enable_categorical=False,\n",
      "             eval_metric=None, feature_types=None, gamma=0, gpu_id=-1,\n",
      "             grow_policy='depthwise', importance_type=None,\n",
      "             interaction_constraints='', learning_rate=0.04, max_bin=256,\n",
      "             max_cat_threshold=64, max_cat_to_onehot=4, max_delta_step=0,\n",
      "             max_depth=8, max_leaves=0, min_child_weight=1, missing=nan,\n",
      "             monotone_constraints='()', n_estimators=180, n_jobs=0,\n",
      "             num_parallel_tree=1, predictor='auto', random_state=0, ...)\n",
      "\n",
      " The best score across ALL searched params:\n",
      " 0.8895067326678868\n",
      "\n",
      " The best parameters across ALL searched params:\n",
      " {'learning_rate': 0.04, 'max_depth': 8, 'n_estimators': 180, 'subsample': 0.9}\n"
     ]
    }
   ],
   "source": [
    "print(\" Results from Grid Search \" )\n",
    "print(\"\\n The best estimator across ALL searched params:\\n\",grid_XGB.best_estimator_)\n",
    "print(\"\\n The best score across ALL searched params:\\n\",grid_XGB.best_score_)\n",
    "print(\"\\n The best parameters across ALL searched params:\\n\",grid_XGB.best_params_)\n",
    "  "
   ]
  },
  {
   "cell_type": "code",
   "execution_count": null,
   "metadata": {},
   "outputs": [],
   "source": []
  },
  {
   "cell_type": "markdown",
   "metadata": {},
   "source": [
    "## Pipeline solo"
   ]
  },
  {
   "cell_type": "code",
   "execution_count": 93,
   "metadata": {},
   "outputs": [
    {
     "name": "stdout",
     "output_type": "stream",
     "text": [
      "GBR_train: 0.9233092471055158\n",
      "GBR_test: 0.7900832314439521\n"
     ]
    }
   ],
   "source": [
    "pipeline = Pipeline([('scaler',StandardScaler()),(\"pca\",PCA(n_components=7)), ('regressor', XGBRegressor())])\n",
    "pipeline.fit(X_train, y_train)\n",
    "\n",
    "\n",
    "r2_train=pipeline.score(X_train, y_train)\n",
    "print(f\"GBR_train: {r2_train}\")\n",
    "\n",
    "r2 = pipeline.score(X_test, y_test)\n",
    "print(f\"GBR_test: {r2}\")"
   ]
  },
  {
   "cell_type": "code",
   "execution_count": null,
   "metadata": {},
   "outputs": [],
   "source": [
    "#Score train : 0.9567069101263656\n",
    "#Score test: 0.8791607391254542"
   ]
  },
  {
   "cell_type": "markdown",
   "metadata": {},
   "source": [
    "___\n",
    "___\n"
   ]
  },
  {
   "attachments": {},
   "cell_type": "markdown",
   "metadata": {},
   "source": [
    "# Vamos aplicar un Pipeline y GridSearchCV Bosting_regressor"
   ]
  },
  {
   "cell_type": "code",
   "execution_count": null,
   "metadata": {},
   "outputs": [],
   "source": [
    "#https://www.projectpro.io/recipes/find-optimal-parameters-using-gridsearchcv-for-regression"
   ]
  },
  {
   "cell_type": "code",
   "execution_count": 96,
   "metadata": {},
   "outputs": [],
   "source": [
    "from sklearn.pipeline import Pipeline\n",
    "from sklearn.model_selection import GridSearchCV\n",
    "from sklearn.preprocessing import StandardScaler\n"
   ]
  },
  {
   "cell_type": "code",
   "execution_count": 125,
   "metadata": {},
   "outputs": [
    {
     "data": {
      "text/html": [
       "<style>#sk-container-id-13 {color: black;background-color: white;}#sk-container-id-13 pre{padding: 0;}#sk-container-id-13 div.sk-toggleable {background-color: white;}#sk-container-id-13 label.sk-toggleable__label {cursor: pointer;display: block;width: 100%;margin-bottom: 0;padding: 0.3em;box-sizing: border-box;text-align: center;}#sk-container-id-13 label.sk-toggleable__label-arrow:before {content: \"▸\";float: left;margin-right: 0.25em;color: #696969;}#sk-container-id-13 label.sk-toggleable__label-arrow:hover:before {color: black;}#sk-container-id-13 div.sk-estimator:hover label.sk-toggleable__label-arrow:before {color: black;}#sk-container-id-13 div.sk-toggleable__content {max-height: 0;max-width: 0;overflow: hidden;text-align: left;background-color: #f0f8ff;}#sk-container-id-13 div.sk-toggleable__content pre {margin: 0.2em;color: black;border-radius: 0.25em;background-color: #f0f8ff;}#sk-container-id-13 input.sk-toggleable__control:checked~div.sk-toggleable__content {max-height: 200px;max-width: 100%;overflow: auto;}#sk-container-id-13 input.sk-toggleable__control:checked~label.sk-toggleable__label-arrow:before {content: \"▾\";}#sk-container-id-13 div.sk-estimator input.sk-toggleable__control:checked~label.sk-toggleable__label {background-color: #d4ebff;}#sk-container-id-13 div.sk-label input.sk-toggleable__control:checked~label.sk-toggleable__label {background-color: #d4ebff;}#sk-container-id-13 input.sk-hidden--visually {border: 0;clip: rect(1px 1px 1px 1px);clip: rect(1px, 1px, 1px, 1px);height: 1px;margin: -1px;overflow: hidden;padding: 0;position: absolute;width: 1px;}#sk-container-id-13 div.sk-estimator {font-family: monospace;background-color: #f0f8ff;border: 1px dotted black;border-radius: 0.25em;box-sizing: border-box;margin-bottom: 0.5em;}#sk-container-id-13 div.sk-estimator:hover {background-color: #d4ebff;}#sk-container-id-13 div.sk-parallel-item::after {content: \"\";width: 100%;border-bottom: 1px solid gray;flex-grow: 1;}#sk-container-id-13 div.sk-label:hover label.sk-toggleable__label {background-color: #d4ebff;}#sk-container-id-13 div.sk-serial::before {content: \"\";position: absolute;border-left: 1px solid gray;box-sizing: border-box;top: 0;bottom: 0;left: 50%;z-index: 0;}#sk-container-id-13 div.sk-serial {display: flex;flex-direction: column;align-items: center;background-color: white;padding-right: 0.2em;padding-left: 0.2em;position: relative;}#sk-container-id-13 div.sk-item {position: relative;z-index: 1;}#sk-container-id-13 div.sk-parallel {display: flex;align-items: stretch;justify-content: center;background-color: white;position: relative;}#sk-container-id-13 div.sk-item::before, #sk-container-id-13 div.sk-parallel-item::before {content: \"\";position: absolute;border-left: 1px solid gray;box-sizing: border-box;top: 0;bottom: 0;left: 50%;z-index: -1;}#sk-container-id-13 div.sk-parallel-item {display: flex;flex-direction: column;z-index: 1;position: relative;background-color: white;}#sk-container-id-13 div.sk-parallel-item:first-child::after {align-self: flex-end;width: 50%;}#sk-container-id-13 div.sk-parallel-item:last-child::after {align-self: flex-start;width: 50%;}#sk-container-id-13 div.sk-parallel-item:only-child::after {width: 0;}#sk-container-id-13 div.sk-dashed-wrapped {border: 1px dashed gray;margin: 0 0.4em 0.5em 0.4em;box-sizing: border-box;padding-bottom: 0.4em;background-color: white;}#sk-container-id-13 div.sk-label label {font-family: monospace;font-weight: bold;display: inline-block;line-height: 1.2em;}#sk-container-id-13 div.sk-label-container {text-align: center;}#sk-container-id-13 div.sk-container {/* jupyter's `normalize.less` sets `[hidden] { display: none; }` but bootstrap.min.css set `[hidden] { display: none !important; }` so we also need the `!important` here to be able to override the default hidden behavior on the sphinx rendered scikit-learn.org. See: https://github.com/scikit-learn/scikit-learn/issues/21755 */display: inline-block !important;position: relative;}#sk-container-id-13 div.sk-text-repr-fallback {display: none;}</style><div id=\"sk-container-id-13\" class=\"sk-top-container\"><div class=\"sk-text-repr-fallback\"><pre>GridSearchCV(cv=10,\n",
       "             estimator=Pipeline(steps=[(&#x27;scaler&#x27;, StandardScaler()),\n",
       "                                       (&#x27;regressor&#x27;, LinearRegression())]),\n",
       "             param_grid=[{&#x27;regressor&#x27;: [GradientBoostingRegressor(max_depth=5,\n",
       "                                                                  n_estimators=120)],\n",
       "                          &#x27;regressor__max_depth&#x27;: [3, 4, 5, 6, 8],\n",
       "                          &#x27;regressor__n_estimators&#x27;: [100, 120, 140, 160, 180,\n",
       "                                                      200]}])</pre><b>In a Jupyter environment, please rerun this cell to show the HTML representation or trust the notebook. <br />On GitHub, the HTML representation is unable to render, please try loading this page with nbviewer.org.</b></div><div class=\"sk-container\" hidden><div class=\"sk-item sk-dashed-wrapped\"><div class=\"sk-label-container\"><div class=\"sk-label sk-toggleable\"><input class=\"sk-toggleable__control sk-hidden--visually\" id=\"sk-estimator-id-40\" type=\"checkbox\" ><label for=\"sk-estimator-id-40\" class=\"sk-toggleable__label sk-toggleable__label-arrow\">GridSearchCV</label><div class=\"sk-toggleable__content\"><pre>GridSearchCV(cv=10,\n",
       "             estimator=Pipeline(steps=[(&#x27;scaler&#x27;, StandardScaler()),\n",
       "                                       (&#x27;regressor&#x27;, LinearRegression())]),\n",
       "             param_grid=[{&#x27;regressor&#x27;: [GradientBoostingRegressor(max_depth=5,\n",
       "                                                                  n_estimators=120)],\n",
       "                          &#x27;regressor__max_depth&#x27;: [3, 4, 5, 6, 8],\n",
       "                          &#x27;regressor__n_estimators&#x27;: [100, 120, 140, 160, 180,\n",
       "                                                      200]}])</pre></div></div></div><div class=\"sk-parallel\"><div class=\"sk-parallel-item\"><div class=\"sk-item\"><div class=\"sk-label-container\"><div class=\"sk-label sk-toggleable\"><input class=\"sk-toggleable__control sk-hidden--visually\" id=\"sk-estimator-id-41\" type=\"checkbox\" ><label for=\"sk-estimator-id-41\" class=\"sk-toggleable__label sk-toggleable__label-arrow\">estimator: Pipeline</label><div class=\"sk-toggleable__content\"><pre>Pipeline(steps=[(&#x27;scaler&#x27;, StandardScaler()),\n",
       "                (&#x27;regressor&#x27;, LinearRegression())])</pre></div></div></div><div class=\"sk-serial\"><div class=\"sk-item\"><div class=\"sk-serial\"><div class=\"sk-item\"><div class=\"sk-estimator sk-toggleable\"><input class=\"sk-toggleable__control sk-hidden--visually\" id=\"sk-estimator-id-42\" type=\"checkbox\" ><label for=\"sk-estimator-id-42\" class=\"sk-toggleable__label sk-toggleable__label-arrow\">StandardScaler</label><div class=\"sk-toggleable__content\"><pre>StandardScaler()</pre></div></div></div><div class=\"sk-item\"><div class=\"sk-estimator sk-toggleable\"><input class=\"sk-toggleable__control sk-hidden--visually\" id=\"sk-estimator-id-43\" type=\"checkbox\" ><label for=\"sk-estimator-id-43\" class=\"sk-toggleable__label sk-toggleable__label-arrow\">LinearRegression</label><div class=\"sk-toggleable__content\"><pre>LinearRegression()</pre></div></div></div></div></div></div></div></div></div></div></div></div>"
      ],
      "text/plain": [
       "GridSearchCV(cv=10,\n",
       "             estimator=Pipeline(steps=[('scaler', StandardScaler()),\n",
       "                                       ('regressor', LinearRegression())]),\n",
       "             param_grid=[{'regressor': [GradientBoostingRegressor(max_depth=5,\n",
       "                                                                  n_estimators=120)],\n",
       "                          'regressor__max_depth': [3, 4, 5, 6, 8],\n",
       "                          'regressor__n_estimators': [100, 120, 140, 160, 180,\n",
       "                                                      200]}])"
      ]
     },
     "execution_count": 125,
     "metadata": {},
     "output_type": "execute_result"
    }
   ],
   "source": [
    "pipe = Pipeline(steps=[\n",
    "    (\"scaler\", StandardScaler()),# este metodo sirve para escalar los datos \n",
    "    ('regressor', LinearRegression()) \n",
    "])\n",
    "\n",
    "\n",
    "bosting_ressor_params = {\n",
    "    'regressor': [GradientBoostingRegressor()],\n",
    "    'regressor__max_depth': [3,4,5,6,8],\n",
    "    'regressor__n_estimators': [100,120,140,160,180,200]\n",
    "    \n",
    "}\n",
    "\n",
    "\n",
    "search_space = [\n",
    "  \n",
    "    bosting_ressor_params,\n",
    "]\n",
    "\n",
    "clf_b = GridSearchCV(estimator = pipe,\n",
    "                  param_grid = search_space,\n",
    "                  cv = 10)\n",
    "\n",
    "clf_b.fit(X_train, y_train)"
   ]
  },
  {
   "cell_type": "code",
   "execution_count": 126,
   "metadata": {},
   "outputs": [
    {
     "name": "stdout",
     "output_type": "stream",
     "text": [
      "Pipeline(steps=[('scaler', StandardScaler()),\n",
      "                ('regressor',\n",
      "                 GradientBoostingRegressor(max_depth=5, n_estimators=120))])\n",
      "0.8907728599041604\n",
      "{'regressor': GradientBoostingRegressor(max_depth=5, n_estimators=120), 'regressor__max_depth': 5, 'regressor__n_estimators': 120}\n"
     ]
    }
   ],
   "source": [
    "from sklearn import metrics\n",
    "print(clf_b.best_estimator_)\n",
    "print(clf_b.best_score_) # 0,76\n",
    "print(clf_b.best_params_)\n",
    "\n",
    "##como  saber el  resultado del score test despues de aplicar pipeline y el gridsearchCV\n",
    "\n"
   ]
  },
  {
   "cell_type": "code",
   "execution_count": null,
   "metadata": {},
   "outputs": [],
   "source": [
    "# Score train : 0.9100212738036423\n",
    "# Score test: 0.875770251186037"
   ]
  },
  {
   "cell_type": "markdown",
   "metadata": {},
   "source": [
    "___\n",
    "___\n"
   ]
  },
  {
   "cell_type": "markdown",
   "metadata": {},
   "source": [
    " # GridSearchCV sin pipeline"
   ]
  },
  {
   "cell_type": "code",
   "execution_count": null,
   "metadata": {},
   "outputs": [],
   "source": [
    "#https://www.projectpro.io/recipes/find-optimal-parameters-using-gridsearchcv-for-regression"
   ]
  },
  {
   "cell_type": "code",
   "execution_count": null,
   "metadata": {},
   "outputs": [],
   "source": [
    "from sklearn.model_selection import train_test_split\n",
    "from sklearn.model_selection import GridSearchCV\n",
    "from sklearn.ensemble import GradientBoostingRegressor"
   ]
  },
  {
   "cell_type": "code",
   "execution_count": 131,
   "metadata": {},
   "outputs": [],
   "source": [
    "X_train, X_test, y_train, y_test = train_test_split(X, y, test_size = 0.25, random_state = seed)\n",
    "\n",
    "\n",
    "GBR = GradientBoostingRegressor()\n",
    "parameters = {'learning_rate': [0.01,0.02,0.03,0.04], #tasa_de_aprendizaje\n",
    "                  'subsample'    : [0.9, 0.5, 0.2, 0.1],#submuestra\n",
    "                  'n_estimators' : [100, 160, 200, 300],\n",
    "                  'max_depth'    : [3,4,5,6,8]# profundidad\n",
    "                 }"
   ]
  },
  {
   "cell_type": "code",
   "execution_count": 132,
   "metadata": {},
   "outputs": [
    {
     "data": {
      "text/html": [
       "<style>#sk-container-id-14 {color: black;background-color: white;}#sk-container-id-14 pre{padding: 0;}#sk-container-id-14 div.sk-toggleable {background-color: white;}#sk-container-id-14 label.sk-toggleable__label {cursor: pointer;display: block;width: 100%;margin-bottom: 0;padding: 0.3em;box-sizing: border-box;text-align: center;}#sk-container-id-14 label.sk-toggleable__label-arrow:before {content: \"▸\";float: left;margin-right: 0.25em;color: #696969;}#sk-container-id-14 label.sk-toggleable__label-arrow:hover:before {color: black;}#sk-container-id-14 div.sk-estimator:hover label.sk-toggleable__label-arrow:before {color: black;}#sk-container-id-14 div.sk-toggleable__content {max-height: 0;max-width: 0;overflow: hidden;text-align: left;background-color: #f0f8ff;}#sk-container-id-14 div.sk-toggleable__content pre {margin: 0.2em;color: black;border-radius: 0.25em;background-color: #f0f8ff;}#sk-container-id-14 input.sk-toggleable__control:checked~div.sk-toggleable__content {max-height: 200px;max-width: 100%;overflow: auto;}#sk-container-id-14 input.sk-toggleable__control:checked~label.sk-toggleable__label-arrow:before {content: \"▾\";}#sk-container-id-14 div.sk-estimator input.sk-toggleable__control:checked~label.sk-toggleable__label {background-color: #d4ebff;}#sk-container-id-14 div.sk-label input.sk-toggleable__control:checked~label.sk-toggleable__label {background-color: #d4ebff;}#sk-container-id-14 input.sk-hidden--visually {border: 0;clip: rect(1px 1px 1px 1px);clip: rect(1px, 1px, 1px, 1px);height: 1px;margin: -1px;overflow: hidden;padding: 0;position: absolute;width: 1px;}#sk-container-id-14 div.sk-estimator {font-family: monospace;background-color: #f0f8ff;border: 1px dotted black;border-radius: 0.25em;box-sizing: border-box;margin-bottom: 0.5em;}#sk-container-id-14 div.sk-estimator:hover {background-color: #d4ebff;}#sk-container-id-14 div.sk-parallel-item::after {content: \"\";width: 100%;border-bottom: 1px solid gray;flex-grow: 1;}#sk-container-id-14 div.sk-label:hover label.sk-toggleable__label {background-color: #d4ebff;}#sk-container-id-14 div.sk-serial::before {content: \"\";position: absolute;border-left: 1px solid gray;box-sizing: border-box;top: 0;bottom: 0;left: 50%;z-index: 0;}#sk-container-id-14 div.sk-serial {display: flex;flex-direction: column;align-items: center;background-color: white;padding-right: 0.2em;padding-left: 0.2em;position: relative;}#sk-container-id-14 div.sk-item {position: relative;z-index: 1;}#sk-container-id-14 div.sk-parallel {display: flex;align-items: stretch;justify-content: center;background-color: white;position: relative;}#sk-container-id-14 div.sk-item::before, #sk-container-id-14 div.sk-parallel-item::before {content: \"\";position: absolute;border-left: 1px solid gray;box-sizing: border-box;top: 0;bottom: 0;left: 50%;z-index: -1;}#sk-container-id-14 div.sk-parallel-item {display: flex;flex-direction: column;z-index: 1;position: relative;background-color: white;}#sk-container-id-14 div.sk-parallel-item:first-child::after {align-self: flex-end;width: 50%;}#sk-container-id-14 div.sk-parallel-item:last-child::after {align-self: flex-start;width: 50%;}#sk-container-id-14 div.sk-parallel-item:only-child::after {width: 0;}#sk-container-id-14 div.sk-dashed-wrapped {border: 1px dashed gray;margin: 0 0.4em 0.5em 0.4em;box-sizing: border-box;padding-bottom: 0.4em;background-color: white;}#sk-container-id-14 div.sk-label label {font-family: monospace;font-weight: bold;display: inline-block;line-height: 1.2em;}#sk-container-id-14 div.sk-label-container {text-align: center;}#sk-container-id-14 div.sk-container {/* jupyter's `normalize.less` sets `[hidden] { display: none; }` but bootstrap.min.css set `[hidden] { display: none !important; }` so we also need the `!important` here to be able to override the default hidden behavior on the sphinx rendered scikit-learn.org. See: https://github.com/scikit-learn/scikit-learn/issues/21755 */display: inline-block !important;position: relative;}#sk-container-id-14 div.sk-text-repr-fallback {display: none;}</style><div id=\"sk-container-id-14\" class=\"sk-top-container\"><div class=\"sk-text-repr-fallback\"><pre>GridSearchCV(cv=5, estimator=GradientBoostingRegressor(), n_jobs=-1,\n",
       "             param_grid={&#x27;learning_rate&#x27;: [0.01, 0.02, 0.03, 0.04],\n",
       "                         &#x27;max_depth&#x27;: [3, 4, 5, 6, 8],\n",
       "                         &#x27;n_estimators&#x27;: [100, 160, 200, 300],\n",
       "                         &#x27;subsample&#x27;: [0.9, 0.5, 0.2, 0.1]})</pre><b>In a Jupyter environment, please rerun this cell to show the HTML representation or trust the notebook. <br />On GitHub, the HTML representation is unable to render, please try loading this page with nbviewer.org.</b></div><div class=\"sk-container\" hidden><div class=\"sk-item sk-dashed-wrapped\"><div class=\"sk-label-container\"><div class=\"sk-label sk-toggleable\"><input class=\"sk-toggleable__control sk-hidden--visually\" id=\"sk-estimator-id-44\" type=\"checkbox\" ><label for=\"sk-estimator-id-44\" class=\"sk-toggleable__label sk-toggleable__label-arrow\">GridSearchCV</label><div class=\"sk-toggleable__content\"><pre>GridSearchCV(cv=5, estimator=GradientBoostingRegressor(), n_jobs=-1,\n",
       "             param_grid={&#x27;learning_rate&#x27;: [0.01, 0.02, 0.03, 0.04],\n",
       "                         &#x27;max_depth&#x27;: [3, 4, 5, 6, 8],\n",
       "                         &#x27;n_estimators&#x27;: [100, 160, 200, 300],\n",
       "                         &#x27;subsample&#x27;: [0.9, 0.5, 0.2, 0.1]})</pre></div></div></div><div class=\"sk-parallel\"><div class=\"sk-parallel-item\"><div class=\"sk-item\"><div class=\"sk-label-container\"><div class=\"sk-label sk-toggleable\"><input class=\"sk-toggleable__control sk-hidden--visually\" id=\"sk-estimator-id-45\" type=\"checkbox\" ><label for=\"sk-estimator-id-45\" class=\"sk-toggleable__label sk-toggleable__label-arrow\">estimator: GradientBoostingRegressor</label><div class=\"sk-toggleable__content\"><pre>GradientBoostingRegressor()</pre></div></div></div><div class=\"sk-serial\"><div class=\"sk-item\"><div class=\"sk-estimator sk-toggleable\"><input class=\"sk-toggleable__control sk-hidden--visually\" id=\"sk-estimator-id-46\" type=\"checkbox\" ><label for=\"sk-estimator-id-46\" class=\"sk-toggleable__label sk-toggleable__label-arrow\">GradientBoostingRegressor</label><div class=\"sk-toggleable__content\"><pre>GradientBoostingRegressor()</pre></div></div></div></div></div></div></div></div></div></div>"
      ],
      "text/plain": [
       "GridSearchCV(cv=5, estimator=GradientBoostingRegressor(), n_jobs=-1,\n",
       "             param_grid={'learning_rate': [0.01, 0.02, 0.03, 0.04],\n",
       "                         'max_depth': [3, 4, 5, 6, 8],\n",
       "                         'n_estimators': [100, 160, 200, 300],\n",
       "                         'subsample': [0.9, 0.5, 0.2, 0.1]})"
      ]
     },
     "execution_count": 132,
     "metadata": {},
     "output_type": "execute_result"
    }
   ],
   "source": [
    "grid_GBR = GridSearchCV(estimator=GBR,  # estuvimos copiando mas modelos aqui deberiamos incluirlos\n",
    "                        param_grid = parameters,  # aqui van los parametros de los modelos utilizados\n",
    "                        cv = 5,    #  cross validation \n",
    "                        n_jobs=-1) # Esto significa la cantidad de trabajos que se ejecutarán en paralelo, -1 significa usar todo el procesador.\n",
    "\n",
    "grid_GBR.fit(X_train, y_train)"
   ]
  },
  {
   "cell_type": "code",
   "execution_count": 133,
   "metadata": {},
   "outputs": [
    {
     "name": "stdout",
     "output_type": "stream",
     "text": [
      " Results from Grid Search \n",
      "\n",
      " The best estimator across ALL searched params:\n",
      " GradientBoostingRegressor(learning_rate=0.04, max_depth=5, n_estimators=200,\n",
      "                          subsample=0.9)\n",
      "\n",
      " The best score across ALL searched params:\n",
      " 0.8919254632121338\n",
      "\n",
      " The best parameters across ALL searched params:\n",
      " {'learning_rate': 0.04, 'max_depth': 5, 'n_estimators': 200, 'subsample': 0.9}\n"
     ]
    }
   ],
   "source": [
    "print(\" Results from Grid Search \" )\n",
    "print(\"\\n The best estimator across ALL searched params:\\n\",grid_GBR.best_estimator_)\n",
    "print(\"\\n The best score across ALL searched params:\\n\",grid_GBR.best_score_)\n",
    "print(\"\\n The best parameters across ALL searched params:\\n\",grid_GBR.best_params_)\n",
    "  "
   ]
  },
  {
   "cell_type": "code",
   "execution_count": null,
   "metadata": {},
   "outputs": [],
   "source": [
    "# Score train : 0.9100212738036423\n",
    "# Score test: 0.875770251186037"
   ]
  },
  {
   "attachments": {},
   "cell_type": "markdown",
   "metadata": {},
   "source": [
    "___\n",
    "___\n"
   ]
  },
  {
   "cell_type": "markdown",
   "metadata": {},
   "source": [
    "# Pipeline Solo "
   ]
  },
  {
   "cell_type": "code",
   "execution_count": 134,
   "metadata": {},
   "outputs": [
    {
     "name": "stdout",
     "output_type": "stream",
     "text": [
      "GBR_train: 0.9083854018423732\n",
      "GBR_test: 0.8932340601171507\n"
     ]
    }
   ],
   "source": [
    "pipeline = Pipeline([('scaler',StandardScaler()), ('regressor', GradientBoostingRegressor())])\n",
    "pipeline.fit(X_train, y_train)\n",
    "\n",
    "\n",
    "r2_train=pipeline.score(X_train, y_train)\n",
    "print(f\"GBR_train: {r2_train}\")\n",
    "\n",
    "r2 = pipeline.score(X_test, y_test)\n",
    "print(f\"GBR_test: {r2}\")"
   ]
  },
  {
   "cell_type": "code",
   "execution_count": null,
   "metadata": {},
   "outputs": [],
   "source": [
    "# Score train : 0.9100212738036423\n",
    "# Score test: 0.875770251186037"
   ]
  },
  {
   "attachments": {},
   "cell_type": "markdown",
   "metadata": {},
   "source": [
    "___\n",
    "___\n"
   ]
  },
  {
   "cell_type": "markdown",
   "metadata": {},
   "source": [
    "# Vamos aplicar un Pipeline y GridSearchCV a ambos modelos "
   ]
  },
  {
   "cell_type": "code",
   "execution_count": null,
   "metadata": {},
   "outputs": [
    {
     "data": {
      "text/html": [
       "<style>#sk-container-id-8 {color: black;background-color: white;}#sk-container-id-8 pre{padding: 0;}#sk-container-id-8 div.sk-toggleable {background-color: white;}#sk-container-id-8 label.sk-toggleable__label {cursor: pointer;display: block;width: 100%;margin-bottom: 0;padding: 0.3em;box-sizing: border-box;text-align: center;}#sk-container-id-8 label.sk-toggleable__label-arrow:before {content: \"▸\";float: left;margin-right: 0.25em;color: #696969;}#sk-container-id-8 label.sk-toggleable__label-arrow:hover:before {color: black;}#sk-container-id-8 div.sk-estimator:hover label.sk-toggleable__label-arrow:before {color: black;}#sk-container-id-8 div.sk-toggleable__content {max-height: 0;max-width: 0;overflow: hidden;text-align: left;background-color: #f0f8ff;}#sk-container-id-8 div.sk-toggleable__content pre {margin: 0.2em;color: black;border-radius: 0.25em;background-color: #f0f8ff;}#sk-container-id-8 input.sk-toggleable__control:checked~div.sk-toggleable__content {max-height: 200px;max-width: 100%;overflow: auto;}#sk-container-id-8 input.sk-toggleable__control:checked~label.sk-toggleable__label-arrow:before {content: \"▾\";}#sk-container-id-8 div.sk-estimator input.sk-toggleable__control:checked~label.sk-toggleable__label {background-color: #d4ebff;}#sk-container-id-8 div.sk-label input.sk-toggleable__control:checked~label.sk-toggleable__label {background-color: #d4ebff;}#sk-container-id-8 input.sk-hidden--visually {border: 0;clip: rect(1px 1px 1px 1px);clip: rect(1px, 1px, 1px, 1px);height: 1px;margin: -1px;overflow: hidden;padding: 0;position: absolute;width: 1px;}#sk-container-id-8 div.sk-estimator {font-family: monospace;background-color: #f0f8ff;border: 1px dotted black;border-radius: 0.25em;box-sizing: border-box;margin-bottom: 0.5em;}#sk-container-id-8 div.sk-estimator:hover {background-color: #d4ebff;}#sk-container-id-8 div.sk-parallel-item::after {content: \"\";width: 100%;border-bottom: 1px solid gray;flex-grow: 1;}#sk-container-id-8 div.sk-label:hover label.sk-toggleable__label {background-color: #d4ebff;}#sk-container-id-8 div.sk-serial::before {content: \"\";position: absolute;border-left: 1px solid gray;box-sizing: border-box;top: 0;bottom: 0;left: 50%;z-index: 0;}#sk-container-id-8 div.sk-serial {display: flex;flex-direction: column;align-items: center;background-color: white;padding-right: 0.2em;padding-left: 0.2em;position: relative;}#sk-container-id-8 div.sk-item {position: relative;z-index: 1;}#sk-container-id-8 div.sk-parallel {display: flex;align-items: stretch;justify-content: center;background-color: white;position: relative;}#sk-container-id-8 div.sk-item::before, #sk-container-id-8 div.sk-parallel-item::before {content: \"\";position: absolute;border-left: 1px solid gray;box-sizing: border-box;top: 0;bottom: 0;left: 50%;z-index: -1;}#sk-container-id-8 div.sk-parallel-item {display: flex;flex-direction: column;z-index: 1;position: relative;background-color: white;}#sk-container-id-8 div.sk-parallel-item:first-child::after {align-self: flex-end;width: 50%;}#sk-container-id-8 div.sk-parallel-item:last-child::after {align-self: flex-start;width: 50%;}#sk-container-id-8 div.sk-parallel-item:only-child::after {width: 0;}#sk-container-id-8 div.sk-dashed-wrapped {border: 1px dashed gray;margin: 0 0.4em 0.5em 0.4em;box-sizing: border-box;padding-bottom: 0.4em;background-color: white;}#sk-container-id-8 div.sk-label label {font-family: monospace;font-weight: bold;display: inline-block;line-height: 1.2em;}#sk-container-id-8 div.sk-label-container {text-align: center;}#sk-container-id-8 div.sk-container {/* jupyter's `normalize.less` sets `[hidden] { display: none; }` but bootstrap.min.css set `[hidden] { display: none !important; }` so we also need the `!important` here to be able to override the default hidden behavior on the sphinx rendered scikit-learn.org. See: https://github.com/scikit-learn/scikit-learn/issues/21755 */display: inline-block !important;position: relative;}#sk-container-id-8 div.sk-text-repr-fallback {display: none;}</style><div id=\"sk-container-id-8\" class=\"sk-top-container\"><div class=\"sk-text-repr-fallback\"><pre>GridSearchCV(cv=10,\n",
       "             estimator=Pipeline(steps=[(&#x27;scaler&#x27;, StandardScaler()),\n",
       "                                       (&#x27;regressor&#x27;, LinearRegression())]),\n",
       "             param_grid=[{&#x27;regressor&#x27;: [XGBRegressor(base_score=None,\n",
       "                                                     booster=None,\n",
       "                                                     callbacks=None,\n",
       "                                                     colsample_bylevel=None,\n",
       "                                                     colsample_bynode=None,\n",
       "                                                     colsample_bytree=None,\n",
       "                                                     early_stopping_rounds=None,\n",
       "                                                     enable_categorical=False,\n",
       "                                                     eval_metric=None,\n",
       "                                                     feature_types=None,\n",
       "                                                     gamm...\n",
       "                                                     max_delta_step=None,\n",
       "                                                     max_depth=3,\n",
       "                                                     max_leaves=None,\n",
       "                                                     min_child_weight=None,\n",
       "                                                     missing=nan,\n",
       "                                                     monotone_constraints=None,\n",
       "                                                     n_estimators=100,\n",
       "                                                     n_jobs=None,\n",
       "                                                     num_parallel_tree=None,\n",
       "                                                     predictor=None,\n",
       "                                                     random_state=None, ...)],\n",
       "                          &#x27;regressor__max_depth&#x27;: [3],\n",
       "                          &#x27;regressor__n_estimators&#x27;: [100]},\n",
       "                         {&#x27;regressor&#x27;: [GradientBoostingRegressor()],\n",
       "                          &#x27;regressor__max_depth&#x27;: [3],\n",
       "                          &#x27;regressor__n_estimators&#x27;: [100]}])</pre><b>In a Jupyter environment, please rerun this cell to show the HTML representation or trust the notebook. <br />On GitHub, the HTML representation is unable to render, please try loading this page with nbviewer.org.</b></div><div class=\"sk-container\" hidden><div class=\"sk-item sk-dashed-wrapped\"><div class=\"sk-label-container\"><div class=\"sk-label sk-toggleable\"><input class=\"sk-toggleable__control sk-hidden--visually\" id=\"sk-estimator-id-22\" type=\"checkbox\" ><label for=\"sk-estimator-id-22\" class=\"sk-toggleable__label sk-toggleable__label-arrow\">GridSearchCV</label><div class=\"sk-toggleable__content\"><pre>GridSearchCV(cv=10,\n",
       "             estimator=Pipeline(steps=[(&#x27;scaler&#x27;, StandardScaler()),\n",
       "                                       (&#x27;regressor&#x27;, LinearRegression())]),\n",
       "             param_grid=[{&#x27;regressor&#x27;: [XGBRegressor(base_score=None,\n",
       "                                                     booster=None,\n",
       "                                                     callbacks=None,\n",
       "                                                     colsample_bylevel=None,\n",
       "                                                     colsample_bynode=None,\n",
       "                                                     colsample_bytree=None,\n",
       "                                                     early_stopping_rounds=None,\n",
       "                                                     enable_categorical=False,\n",
       "                                                     eval_metric=None,\n",
       "                                                     feature_types=None,\n",
       "                                                     gamm...\n",
       "                                                     max_delta_step=None,\n",
       "                                                     max_depth=3,\n",
       "                                                     max_leaves=None,\n",
       "                                                     min_child_weight=None,\n",
       "                                                     missing=nan,\n",
       "                                                     monotone_constraints=None,\n",
       "                                                     n_estimators=100,\n",
       "                                                     n_jobs=None,\n",
       "                                                     num_parallel_tree=None,\n",
       "                                                     predictor=None,\n",
       "                                                     random_state=None, ...)],\n",
       "                          &#x27;regressor__max_depth&#x27;: [3],\n",
       "                          &#x27;regressor__n_estimators&#x27;: [100]},\n",
       "                         {&#x27;regressor&#x27;: [GradientBoostingRegressor()],\n",
       "                          &#x27;regressor__max_depth&#x27;: [3],\n",
       "                          &#x27;regressor__n_estimators&#x27;: [100]}])</pre></div></div></div><div class=\"sk-parallel\"><div class=\"sk-parallel-item\"><div class=\"sk-item\"><div class=\"sk-label-container\"><div class=\"sk-label sk-toggleable\"><input class=\"sk-toggleable__control sk-hidden--visually\" id=\"sk-estimator-id-23\" type=\"checkbox\" ><label for=\"sk-estimator-id-23\" class=\"sk-toggleable__label sk-toggleable__label-arrow\">estimator: Pipeline</label><div class=\"sk-toggleable__content\"><pre>Pipeline(steps=[(&#x27;scaler&#x27;, StandardScaler()),\n",
       "                (&#x27;regressor&#x27;, LinearRegression())])</pre></div></div></div><div class=\"sk-serial\"><div class=\"sk-item\"><div class=\"sk-serial\"><div class=\"sk-item\"><div class=\"sk-estimator sk-toggleable\"><input class=\"sk-toggleable__control sk-hidden--visually\" id=\"sk-estimator-id-24\" type=\"checkbox\" ><label for=\"sk-estimator-id-24\" class=\"sk-toggleable__label sk-toggleable__label-arrow\">StandardScaler</label><div class=\"sk-toggleable__content\"><pre>StandardScaler()</pre></div></div></div><div class=\"sk-item\"><div class=\"sk-estimator sk-toggleable\"><input class=\"sk-toggleable__control sk-hidden--visually\" id=\"sk-estimator-id-25\" type=\"checkbox\" ><label for=\"sk-estimator-id-25\" class=\"sk-toggleable__label sk-toggleable__label-arrow\">LinearRegression</label><div class=\"sk-toggleable__content\"><pre>LinearRegression()</pre></div></div></div></div></div></div></div></div></div></div></div></div>"
      ],
      "text/plain": [
       "GridSearchCV(cv=10,\n",
       "             estimator=Pipeline(steps=[('scaler', StandardScaler()),\n",
       "                                       ('regressor', LinearRegression())]),\n",
       "             param_grid=[{'regressor': [XGBRegressor(base_score=None,\n",
       "                                                     booster=None,\n",
       "                                                     callbacks=None,\n",
       "                                                     colsample_bylevel=None,\n",
       "                                                     colsample_bynode=None,\n",
       "                                                     colsample_bytree=None,\n",
       "                                                     early_stopping_rounds=None,\n",
       "                                                     enable_categorical=False,\n",
       "                                                     eval_metric=None,\n",
       "                                                     feature_types=None,\n",
       "                                                     gamm...\n",
       "                                                     max_delta_step=None,\n",
       "                                                     max_depth=3,\n",
       "                                                     max_leaves=None,\n",
       "                                                     min_child_weight=None,\n",
       "                                                     missing=nan,\n",
       "                                                     monotone_constraints=None,\n",
       "                                                     n_estimators=100,\n",
       "                                                     n_jobs=None,\n",
       "                                                     num_parallel_tree=None,\n",
       "                                                     predictor=None,\n",
       "                                                     random_state=None, ...)],\n",
       "                          'regressor__max_depth': [3],\n",
       "                          'regressor__n_estimators': [100]},\n",
       "                         {'regressor': [GradientBoostingRegressor()],\n",
       "                          'regressor__max_depth': [3],\n",
       "                          'regressor__n_estimators': [100]}])"
      ]
     },
     "execution_count": 87,
     "metadata": {},
     "output_type": "execute_result"
    }
   ],
   "source": [
    "pipe = Pipeline(steps=[\n",
    "    (\"scaler\", StandardScaler()),# este metodo sirve para escalar los datos \n",
    "    ('regressor', LinearRegression()) \n",
    "])\n",
    "\n",
    "xgboost_params = {\n",
    "    'regressor': [XGBRegressor()],\n",
    "    'regressor__max_depth': [3],\n",
    "    'regressor__n_estimators': [100]\n",
    "}\n",
    "\n",
    "\n",
    "bosting_regressor_params = {\n",
    "    'regressor': [GradientBoostingRegressor()],\n",
    "    'regressor__max_depth': [3],\n",
    "    'regressor__n_estimators': [100]\n",
    "}\n",
    "\n",
    "\n",
    "\n",
    "\n",
    "search_space = [\n",
    "    xgboost_params,\n",
    "    bosting_regressor_params,\n",
    "]\n",
    "\n",
    "clf_b = GridSearchCV(estimator = pipe,\n",
    "                  param_grid = search_space,\n",
    "                  cv = 10)\n",
    "\n",
    "clf_b.fit(X_train, y_train)"
   ]
  },
  {
   "cell_type": "code",
   "execution_count": null,
   "metadata": {},
   "outputs": [
    {
     "name": "stdout",
     "output_type": "stream",
     "text": [
      "Pipeline(steps=[('scaler', StandardScaler()),\n",
      "                ('regressor',\n",
      "                 XGBRegressor(base_score=0.5, booster='gbtree', callbacks=None,\n",
      "                              colsample_bylevel=1, colsample_bynode=1,\n",
      "                              colsample_bytree=1, early_stopping_rounds=None,\n",
      "                              enable_categorical=False, eval_metric=None,\n",
      "                              feature_types=None, gamma=0, gpu_id=-1,\n",
      "                              grow_policy='depthwise', importance_type=None,\n",
      "                              interaction_constraints='',\n",
      "                              learning_rate=0.300000012, max_bin=256,\n",
      "                              max_cat_threshold=64, max_cat_to_onehot=4,\n",
      "                              max_delta_step=0, max_depth=3, max_leaves=0,\n",
      "                              min_child_weight=1, missing=nan,\n",
      "                              monotone_constraints='()', n_estimators=100,\n",
      "                              n_jobs=0, num_parallel_tree=1, predictor='auto',\n",
      "                              random_state=0, ...))])\n",
      "0.8851082770367726\n",
      "{'regressor': XGBRegressor(base_score=None, booster=None, callbacks=None,\n",
      "             colsample_bylevel=None, colsample_bynode=None,\n",
      "             colsample_bytree=None, early_stopping_rounds=None,\n",
      "             enable_categorical=False, eval_metric=None, feature_types=None,\n",
      "             gamma=None, gpu_id=None, grow_policy=None, importance_type=None,\n",
      "             interaction_constraints=None, learning_rate=None, max_bin=None,\n",
      "             max_cat_threshold=None, max_cat_to_onehot=None,\n",
      "             max_delta_step=None, max_depth=3, max_leaves=None,\n",
      "             min_child_weight=None, missing=nan, monotone_constraints=None,\n",
      "             n_estimators=100, n_jobs=None, num_parallel_tree=None,\n",
      "             predictor=None, random_state=None, ...), 'regressor__max_depth': 3, 'regressor__n_estimators': 100}\n"
     ]
    }
   ],
   "source": [
    "from sklearn import metrics\n",
    "print(clf_b.best_estimator_)\n",
    "print(clf_b.best_score_) # 0,76\n",
    "print(clf_b.best_params_)"
   ]
  },
  {
   "cell_type": "code",
   "execution_count": null,
   "metadata": {},
   "outputs": [],
   "source": [
    "\n",
    "\n",
    "\n",
    "#https://scikit-learn.org/stable/modules/generated/sklearn.ensemble.StackingRegressor.html\n",
    "#https://www.kaggle.com/code/edoardo10/house-price-top-14-stacking-regressor"
   ]
  },
  {
   "attachments": {},
   "cell_type": "markdown",
   "metadata": {},
   "source": [
    "___\n",
    "___\n",
    "___"
   ]
  },
  {
   "cell_type": "code",
   "execution_count": 138,
   "metadata": {},
   "outputs": [
    {
     "name": "stdout",
     "output_type": "stream",
     "text": [
      "GBR_train: 0.8533205458692078\n",
      "GBR_test: 0.8020998158829963\n"
     ]
    }
   ],
   "source": [
    "pipeline = Pipeline([('scaler',StandardScaler()),(\"pca\",PCA(n_components=50)),('regressor', GradientBoostingRegressor())])\n",
    "pipeline.fit(X_train, y_train)\n",
    "\n",
    "\n",
    "r2_train=pipeline.score(X_train, y_train)\n",
    "print(f\"GBR_train: {r2_train}\")\n",
    "\n",
    "r2 = pipeline.score(X_test, y_test)\n",
    "print(f\"GBR_test: {r2}\")"
   ]
  },
  {
   "cell_type": "code",
   "execution_count": 136,
   "metadata": {},
   "outputs": [
    {
     "name": "stdout",
     "output_type": "stream",
     "text": [
      "GBR_train: 0.9694376238739717\n",
      "GBR_test: 0.8155865369325896\n"
     ]
    }
   ],
   "source": [
    "pipeline = Pipeline([('scaler',StandardScaler()),(\"pca\",PCA(n_components=50)),('regressor',XGBRegressor ())])\n",
    "pipeline.fit(X_train, y_train)\n",
    "\n",
    "\n",
    "r2_train=pipeline.score(X_train, y_train)\n",
    "print(f\"GBR_train: {r2_train}\")\n",
    "\n",
    "r2 = pipeline.score(X_test, y_test)\n",
    "print(f\"GBR_test: {r2}\")"
   ]
  },
  {
   "cell_type": "code",
   "execution_count": null,
   "metadata": {},
   "outputs": [],
   "source": []
  },
  {
   "attachments": {},
   "cell_type": "markdown",
   "metadata": {},
   "source": [
    "## StackingRegressor número 2"
   ]
  },
  {
   "cell_type": "code",
   "execution_count": null,
   "metadata": {},
   "outputs": [],
   "source": [
    "from mlxtend.regressor import StackingRegressor"
   ]
  },
  {
   "cell_type": "code",
   "execution_count": null,
   "metadata": {},
   "outputs": [],
   "source": []
  },
  {
   "cell_type": "code",
   "execution_count": 139,
   "metadata": {},
   "outputs": [],
   "source": [
    "lr = LinearRegression()\n",
    "dt= DecisionTreeRegressor(max_depth=4)\n",
    "knn = KNeighborsRegressor(n_neighbors=15)\n",
    "xgb_reg = XGBRegressor(n_estimators=160, random_state=seed,max_depth=3)\n",
    "ada_reg = AdaBoostRegressor(n_estimators=15, random_state=seed)\n",
    "rnd_reg = RandomForestRegressor(n_estimators=60, max_depth=3,  max_features=3, random_state=seed) \n",
    "gbrt = GradientBoostingRegressor(n_estimators=200, random_state=seed,max_depth=5)"
   ]
  },
  {
   "cell_type": "code",
   "execution_count": 140,
   "metadata": {},
   "outputs": [
    {
     "data": {
      "text/html": [
       "<style>#sk-container-id-15 {color: black;background-color: white;}#sk-container-id-15 pre{padding: 0;}#sk-container-id-15 div.sk-toggleable {background-color: white;}#sk-container-id-15 label.sk-toggleable__label {cursor: pointer;display: block;width: 100%;margin-bottom: 0;padding: 0.3em;box-sizing: border-box;text-align: center;}#sk-container-id-15 label.sk-toggleable__label-arrow:before {content: \"▸\";float: left;margin-right: 0.25em;color: #696969;}#sk-container-id-15 label.sk-toggleable__label-arrow:hover:before {color: black;}#sk-container-id-15 div.sk-estimator:hover label.sk-toggleable__label-arrow:before {color: black;}#sk-container-id-15 div.sk-toggleable__content {max-height: 0;max-width: 0;overflow: hidden;text-align: left;background-color: #f0f8ff;}#sk-container-id-15 div.sk-toggleable__content pre {margin: 0.2em;color: black;border-radius: 0.25em;background-color: #f0f8ff;}#sk-container-id-15 input.sk-toggleable__control:checked~div.sk-toggleable__content {max-height: 200px;max-width: 100%;overflow: auto;}#sk-container-id-15 input.sk-toggleable__control:checked~label.sk-toggleable__label-arrow:before {content: \"▾\";}#sk-container-id-15 div.sk-estimator input.sk-toggleable__control:checked~label.sk-toggleable__label {background-color: #d4ebff;}#sk-container-id-15 div.sk-label input.sk-toggleable__control:checked~label.sk-toggleable__label {background-color: #d4ebff;}#sk-container-id-15 input.sk-hidden--visually {border: 0;clip: rect(1px 1px 1px 1px);clip: rect(1px, 1px, 1px, 1px);height: 1px;margin: -1px;overflow: hidden;padding: 0;position: absolute;width: 1px;}#sk-container-id-15 div.sk-estimator {font-family: monospace;background-color: #f0f8ff;border: 1px dotted black;border-radius: 0.25em;box-sizing: border-box;margin-bottom: 0.5em;}#sk-container-id-15 div.sk-estimator:hover {background-color: #d4ebff;}#sk-container-id-15 div.sk-parallel-item::after {content: \"\";width: 100%;border-bottom: 1px solid gray;flex-grow: 1;}#sk-container-id-15 div.sk-label:hover label.sk-toggleable__label {background-color: #d4ebff;}#sk-container-id-15 div.sk-serial::before {content: \"\";position: absolute;border-left: 1px solid gray;box-sizing: border-box;top: 0;bottom: 0;left: 50%;z-index: 0;}#sk-container-id-15 div.sk-serial {display: flex;flex-direction: column;align-items: center;background-color: white;padding-right: 0.2em;padding-left: 0.2em;position: relative;}#sk-container-id-15 div.sk-item {position: relative;z-index: 1;}#sk-container-id-15 div.sk-parallel {display: flex;align-items: stretch;justify-content: center;background-color: white;position: relative;}#sk-container-id-15 div.sk-item::before, #sk-container-id-15 div.sk-parallel-item::before {content: \"\";position: absolute;border-left: 1px solid gray;box-sizing: border-box;top: 0;bottom: 0;left: 50%;z-index: -1;}#sk-container-id-15 div.sk-parallel-item {display: flex;flex-direction: column;z-index: 1;position: relative;background-color: white;}#sk-container-id-15 div.sk-parallel-item:first-child::after {align-self: flex-end;width: 50%;}#sk-container-id-15 div.sk-parallel-item:last-child::after {align-self: flex-start;width: 50%;}#sk-container-id-15 div.sk-parallel-item:only-child::after {width: 0;}#sk-container-id-15 div.sk-dashed-wrapped {border: 1px dashed gray;margin: 0 0.4em 0.5em 0.4em;box-sizing: border-box;padding-bottom: 0.4em;background-color: white;}#sk-container-id-15 div.sk-label label {font-family: monospace;font-weight: bold;display: inline-block;line-height: 1.2em;}#sk-container-id-15 div.sk-label-container {text-align: center;}#sk-container-id-15 div.sk-container {/* jupyter's `normalize.less` sets `[hidden] { display: none; }` but bootstrap.min.css set `[hidden] { display: none !important; }` so we also need the `!important` here to be able to override the default hidden behavior on the sphinx rendered scikit-learn.org. See: https://github.com/scikit-learn/scikit-learn/issues/21755 */display: inline-block !important;position: relative;}#sk-container-id-15 div.sk-text-repr-fallback {display: none;}</style><div id=\"sk-container-id-15\" class=\"sk-top-container\"><div class=\"sk-text-repr-fallback\"><pre>StackingRegressor(meta_regressor=LinearRegression(),\n",
       "                  regressors=[DecisionTreeRegressor(max_depth=4),\n",
       "                              GradientBoostingRegressor(max_depth=5,\n",
       "                                                        n_estimators=200,\n",
       "                                                        random_state=12),\n",
       "                              XGBRegressor(base_score=None, booster=None,\n",
       "                                           callbacks=None,\n",
       "                                           colsample_bylevel=None,\n",
       "                                           colsample_bynode=None,\n",
       "                                           colsample_bytree=None,\n",
       "                                           early_stopping_rounds=None,\n",
       "                                           enable_categorical=False,\n",
       "                                           eva...\n",
       "                                           max_delta_step=None, max_depth=3,\n",
       "                                           max_leaves=None,\n",
       "                                           min_child_weight=None, missing=nan,\n",
       "                                           monotone_constraints=None,\n",
       "                                           n_estimators=160, n_jobs=None,\n",
       "                                           num_parallel_tree=None,\n",
       "                                           predictor=None, random_state=12, ...),\n",
       "                              AdaBoostRegressor(n_estimators=15,\n",
       "                                                random_state=12),\n",
       "                              RandomForestRegressor(max_depth=3, max_features=3,\n",
       "                                                    n_estimators=60,\n",
       "                                                    random_state=12),\n",
       "                              KNeighborsRegressor(n_neighbors=15)])</pre><b>In a Jupyter environment, please rerun this cell to show the HTML representation or trust the notebook. <br />On GitHub, the HTML representation is unable to render, please try loading this page with nbviewer.org.</b></div><div class=\"sk-container\" hidden><div class=\"sk-item sk-dashed-wrapped\"><div class=\"sk-label-container\"><div class=\"sk-label sk-toggleable\"><input class=\"sk-toggleable__control sk-hidden--visually\" id=\"sk-estimator-id-47\" type=\"checkbox\" ><label for=\"sk-estimator-id-47\" class=\"sk-toggleable__label sk-toggleable__label-arrow\">StackingRegressor</label><div class=\"sk-toggleable__content\"><pre>StackingRegressor(meta_regressor=LinearRegression(),\n",
       "                  regressors=[DecisionTreeRegressor(max_depth=4),\n",
       "                              GradientBoostingRegressor(max_depth=5,\n",
       "                                                        n_estimators=200,\n",
       "                                                        random_state=12),\n",
       "                              XGBRegressor(base_score=None, booster=None,\n",
       "                                           callbacks=None,\n",
       "                                           colsample_bylevel=None,\n",
       "                                           colsample_bynode=None,\n",
       "                                           colsample_bytree=None,\n",
       "                                           early_stopping_rounds=None,\n",
       "                                           enable_categorical=False,\n",
       "                                           eva...\n",
       "                                           max_delta_step=None, max_depth=3,\n",
       "                                           max_leaves=None,\n",
       "                                           min_child_weight=None, missing=nan,\n",
       "                                           monotone_constraints=None,\n",
       "                                           n_estimators=160, n_jobs=None,\n",
       "                                           num_parallel_tree=None,\n",
       "                                           predictor=None, random_state=12, ...),\n",
       "                              AdaBoostRegressor(n_estimators=15,\n",
       "                                                random_state=12),\n",
       "                              RandomForestRegressor(max_depth=3, max_features=3,\n",
       "                                                    n_estimators=60,\n",
       "                                                    random_state=12),\n",
       "                              KNeighborsRegressor(n_neighbors=15)])</pre></div></div></div><div class=\"sk-parallel\"><div class=\"sk-parallel-item\"><div class=\"sk-item\"><div class=\"sk-label-container\"><div class=\"sk-label sk-toggleable\"><input class=\"sk-toggleable__control sk-hidden--visually\" id=\"sk-estimator-id-48\" type=\"checkbox\" ><label for=\"sk-estimator-id-48\" class=\"sk-toggleable__label sk-toggleable__label-arrow\">meta_regressor: LinearRegression</label><div class=\"sk-toggleable__content\"><pre>LinearRegression()</pre></div></div></div><div class=\"sk-serial\"><div class=\"sk-item\"><div class=\"sk-estimator sk-toggleable\"><input class=\"sk-toggleable__control sk-hidden--visually\" id=\"sk-estimator-id-49\" type=\"checkbox\" ><label for=\"sk-estimator-id-49\" class=\"sk-toggleable__label sk-toggleable__label-arrow\">LinearRegression</label><div class=\"sk-toggleable__content\"><pre>LinearRegression()</pre></div></div></div></div></div></div></div></div></div></div>"
      ],
      "text/plain": [
       "StackingRegressor(meta_regressor=LinearRegression(),\n",
       "                  regressors=[DecisionTreeRegressor(max_depth=4),\n",
       "                              GradientBoostingRegressor(max_depth=5,\n",
       "                                                        n_estimators=200,\n",
       "                                                        random_state=12),\n",
       "                              XGBRegressor(base_score=None, booster=None,\n",
       "                                           callbacks=None,\n",
       "                                           colsample_bylevel=None,\n",
       "                                           colsample_bynode=None,\n",
       "                                           colsample_bytree=None,\n",
       "                                           early_stopping_rounds=None,\n",
       "                                           enable_categorical=False,\n",
       "                                           eva...\n",
       "                                           max_delta_step=None, max_depth=3,\n",
       "                                           max_leaves=None,\n",
       "                                           min_child_weight=None, missing=nan,\n",
       "                                           monotone_constraints=None,\n",
       "                                           n_estimators=160, n_jobs=None,\n",
       "                                           num_parallel_tree=None,\n",
       "                                           predictor=None, random_state=12, ...),\n",
       "                              AdaBoostRegressor(n_estimators=15,\n",
       "                                                random_state=12),\n",
       "                              RandomForestRegressor(max_depth=3, max_features=3,\n",
       "                                                    n_estimators=60,\n",
       "                                                    random_state=12),\n",
       "                              KNeighborsRegressor(n_neighbors=15)])"
      ]
     },
     "execution_count": 140,
     "metadata": {},
     "output_type": "execute_result"
    }
   ],
   "source": [
    "stregr = StackingRegressor(regressors=[dt, gbrt, xgb_reg, ada_reg, rnd_reg, knn], \n",
    "                           meta_regressor= lr)\n",
    "\n",
    "stregr.fit(X_train, y_train)\n"
   ]
  },
  {
   "cell_type": "code",
   "execution_count": 141,
   "metadata": {},
   "outputs": [
    {
     "name": "stderr",
     "output_type": "stream",
     "text": [
      "c:\\Users\\diazb\\miniconda3\\envs\\data_analysis\\lib\\site-packages\\sklearn\\base.py:443: UserWarning: X has feature names, but DecisionTreeRegressor was fitted without feature names\n",
      "  warnings.warn(\n",
      "c:\\Users\\diazb\\miniconda3\\envs\\data_analysis\\lib\\site-packages\\sklearn\\base.py:443: UserWarning: X has feature names, but GradientBoostingRegressor was fitted without feature names\n",
      "  warnings.warn(\n",
      "c:\\Users\\diazb\\miniconda3\\envs\\data_analysis\\lib\\site-packages\\sklearn\\base.py:443: UserWarning: X has feature names, but AdaBoostRegressor was fitted without feature names\n",
      "  warnings.warn(\n",
      "c:\\Users\\diazb\\miniconda3\\envs\\data_analysis\\lib\\site-packages\\sklearn\\base.py:443: UserWarning: X has feature names, but RandomForestRegressor was fitted without feature names\n",
      "  warnings.warn(\n",
      "c:\\Users\\diazb\\miniconda3\\envs\\data_analysis\\lib\\site-packages\\sklearn\\base.py:443: UserWarning: X has feature names, but KNeighborsRegressor was fitted without feature names\n",
      "  warnings.warn(\n"
     ]
    },
    {
     "data": {
      "text/plain": [
       "0.8906504937523783"
      ]
     },
     "execution_count": 141,
     "metadata": {},
     "output_type": "execute_result"
    }
   ],
   "source": [
    "stregr.score(X_test,y_test)"
   ]
  }
 ],
 "metadata": {
  "kernelspec": {
   "display_name": "data_analysis",
   "language": "python",
   "name": "python3"
  },
  "language_info": {
   "codemirror_mode": {
    "name": "ipython",
    "version": 3
   },
   "file_extension": ".py",
   "mimetype": "text/x-python",
   "name": "python",
   "nbconvert_exporter": "python",
   "pygments_lexer": "ipython3",
   "version": "3.9.15 (main, Nov 24 2022, 14:39:17) [MSC v.1916 64 bit (AMD64)]"
  },
  "vscode": {
   "interpreter": {
    "hash": "fa388cf9dcdc3f59653930fe6daadf8dc172d64b4b87278f30ee7891a45c6ac3"
   }
  }
 },
 "nbformat": 4,
 "nbformat_minor": 4
}
