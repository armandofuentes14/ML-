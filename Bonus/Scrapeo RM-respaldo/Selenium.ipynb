{
 "cells": [
  {
   "cell_type": "code",
   "execution_count": null,
   "metadata": {},
   "outputs": [],
   "source": [
    "#!pip install selenium\n",
    "\n",
    "# o instalalo desde conda como tu decidas"
   ]
  },
  {
   "cell_type": "code",
   "execution_count": null,
   "metadata": {},
   "outputs": [],
   "source": [
    "#!pip install webdriver-manager"
   ]
  },
  {
   "cell_type": "code",
   "execution_count": 10,
   "metadata": {
    "ExecuteTime": {
     "end_time": "2021-02-26T12:16:59.303652Z",
     "start_time": "2021-02-26T12:16:59.300657Z"
    }
   },
   "outputs": [],
   "source": [
    "import requests\n",
    "from bs4 import BeautifulSoup as bs\n",
    "# from selenium import webdriver\n",
    "# from webdriver_manager.chrome import ChromeDriverManager\n",
    "\n",
    "\n",
    "import re # Expresiones regulares \n",
    "import time\n",
    "import numpy as np\n",
    "import pandas as pd"
   ]
  },
  {
   "cell_type": "code",
   "execution_count": 2,
   "metadata": {},
   "outputs": [],
   "source": [
    "url = \"https://chilepropiedades.cl/propiedades/venta-usada/casa/region-metropolitana-de-santiago-rm/0\"\n",
    "\n",
    "\n",
    "response = requests.get(url, \n",
    "                        headers= {\"User-Agent\" : \"Mozilla/5.0 (Windows NT 10.0; Win64; x64) AppleWebKit/537.36 (KHTML, like Gecko) Chrome/108.0.0.0 Safari/537.36\"}\n",
    "                        )"
   ]
  },
  {
   "cell_type": "code",
   "execution_count": 3,
   "metadata": {},
   "outputs": [],
   "source": [
    "html = response.content"
   ]
  },
  {
   "cell_type": "code",
   "execution_count": 4,
   "metadata": {},
   "outputs": [],
   "source": [
    "soup = bs(html, \"lxml\")"
   ]
  },
  {
   "cell_type": "code",
   "execution_count": 5,
   "metadata": {},
   "outputs": [],
   "source": [
    "casas = soup.select(\"div.position-relative.d-sm-flex\")"
   ]
  },
  {
   "cell_type": "code",
   "execution_count": 6,
   "metadata": {},
   "outputs": [
    {
     "data": {
      "text/plain": [
       "10"
      ]
     },
     "execution_count": 6,
     "metadata": {},
     "output_type": "execute_result"
    }
   ],
   "source": [
    "len(casas)"
   ]
  },
  {
   "cell_type": "markdown",
   "metadata": {},
   "source": [
    "## Individual Case"
   ]
  },
  {
   "cell_type": "code",
   "execution_count": 90,
   "metadata": {},
   "outputs": [],
   "source": [
    "url = \"https://chilepropiedades.cl/propiedades/venta-usada/casa/region-metropolitana-de-santiago-rm/4\"\n",
    "\n",
    "\n",
    "response = requests.get(url, \n",
    "                        headers= {\"User-Agent\" : \"Mozilla/5.0 (Windows NT 10.0; Win64; x64) AppleWebKit/537.36 (KHTML, like Gecko) Chrome/108.0.0.0 Safari/537.36\"}\n",
    "                        )\n",
    "time.sleep(1)\n",
    "\n",
    "html = response.content\n",
    "soup = bs(html, \"lxml\")\n",
    "casas = soup.select(\"div.position-relative.d-sm-flex\")"
   ]
  },
  {
   "cell_type": "code",
   "execution_count": 102,
   "metadata": {},
   "outputs": [
    {
     "data": {
      "text/plain": [
       "'Puente Alto, Villa Duraznal'"
      ]
     },
     "execution_count": 102,
     "metadata": {},
     "output_type": "execute_result"
    }
   ],
   "source": [
    "casas[7].select(\"h2.publication-title-list a\")[0].get_text().split(\"\\n\")[1].strip()# direccion"
   ]
  },
  {
   "cell_type": "code",
   "execution_count": 74,
   "metadata": {},
   "outputs": [
    {
     "data": {
      "text/plain": [
       "[<span areaunit=\"\" class=\"clp-value-container\" data-no-value=\"\" valueunit=\"2\">\n",
       "                     USD\n",
       "                   </span>,\n",
       " <span areaunit=\"\" class=\"clp-value-container\" data-no-value-unit=\"\" value=\"2280000.0\" valueunit=\"2\">\n",
       "                     2.280.000\n",
       "                   </span>]"
      ]
     },
     "execution_count": 74,
     "metadata": {},
     "output_type": "execute_result"
    }
   ],
   "source": [
    "casas[6].select(\"span.clp-value-container\") # precio"
   ]
  },
  {
   "cell_type": "code",
   "execution_count": 69,
   "metadata": {},
   "outputs": [
    {
     "name": "stdout",
     "output_type": "stream",
     "text": [
      "3900\n",
      "135809700\n"
     ]
    }
   ],
   "source": [
    "if casas[0].select(\"span.clp-value-container\")[0].get_text(strip=True) == \"$\":\n",
    "    price = int(casas[0].select(\"span.clp-value-container\")[1].get_text(strip=True).replace(\".\",\"\"))\n",
    "    price\n",
    "    print(round(price / 34823, 3))\n",
    "elif casas[0].select(\"span.clp-value-container\")[0].get_text(strip=True) == \"UF\":\n",
    "    price = int(casas[0].select(\"span.clp-value-container\")[1].get_text(strip=True).replace(\".\",\"\"))\n",
    "    print(price)\n",
    "    print(round(price * 34823, 3))\n",
    "elif casas[0].select(\"span.clp-value-container\")[0].get_text(strip=True) == \"USD\":\n",
    "    price = int(casas[0].select(\"span.clp-value-container\")[1].get_text(strip=True).replace(\".\",\"\"))\n",
    "    print(price)\n",
    "    print(round(price * 34823, 3))\n",
    "\n"
   ]
  },
  {
   "cell_type": "code",
   "execution_count": 68,
   "metadata": {},
   "outputs": [
    {
     "data": {
      "text/plain": [
       "2189"
      ]
     },
     "execution_count": 68,
     "metadata": {},
     "output_type": "execute_result"
    }
   ],
   "source": [
    "int(casas[2].select(\"span.clp-value-container\")[1].get_text(strip=True).replace(\".\",\"\"))"
   ]
  },
  {
   "cell_type": "code",
   "execution_count": 110,
   "metadata": {},
   "outputs": [
    {
     "data": {
      "text/plain": [
       "15"
      ]
     },
     "execution_count": 110,
     "metadata": {},
     "output_type": "execute_result"
    }
   ],
   "source": [
    "len(casas[6].select(\"div.clp-publication-features-container span\"))"
   ]
  },
  {
   "cell_type": "code",
   "execution_count": 190,
   "metadata": {},
   "outputs": [],
   "source": [
    "categorias = casas[8].select(\"div.clp-publication-features-container span\")\n",
    "categorias_clean = [i.get_text(strip=True).split(\":\")[0] for i in categorias]\n",
    "check_hab_bath = [\"Baños\", \"Habitaciones\"]"
   ]
  },
  {
   "cell_type": "code",
   "execution_count": 191,
   "metadata": {},
   "outputs": [
    {
     "data": {
      "text/plain": [
       "[True, False]"
      ]
     },
     "execution_count": 191,
     "metadata": {},
     "output_type": "execute_result"
    }
   ],
   "source": [
    "[i in categorias_clean for i in check_hab_bath]"
   ]
  },
  {
   "cell_type": "code",
   "execution_count": 195,
   "metadata": {},
   "outputs": [
    {
     "data": {
      "text/plain": [
       "True"
      ]
     },
     "execution_count": 195,
     "metadata": {},
     "output_type": "execute_result"
    }
   ],
   "source": [
    "if not(all([i in categorias_clean for i in check_hab_bath])):\n",
    "    continue"
   ]
  },
  {
   "cell_type": "code",
   "execution_count": 169,
   "metadata": {},
   "outputs": [
    {
     "name": "stdout",
     "output_type": "stream",
     "text": [
      "gloria la bravo pueblo\n"
     ]
    }
   ],
   "source": [
    "\n",
    "if (\"Habitaciones\" and \"Baños\") in [i.get_text(strip=True).split(\":\")[0] for i in categorias]:\n",
    "    print(\"gloria la bravo pueblo\")"
   ]
  },
  {
   "cell_type": "code",
   "execution_count": 168,
   "metadata": {},
   "outputs": [
    {
     "data": {
      "text/plain": [
       "True"
      ]
     },
     "execution_count": 168,
     "metadata": {},
     "output_type": "execute_result"
    }
   ],
   "source": [
    "(\"Habitaciones\" and \"Baños\") in [i.get_text(strip=True).split(\":\")[0] for i in categorias]"
   ]
  },
  {
   "cell_type": "code",
   "execution_count": 165,
   "metadata": {},
   "outputs": [
    {
     "name": "stdout",
     "output_type": "stream",
     "text": [
      "Baños\n",
      "Baños\n",
      "2\n",
      "Superficie Construida\n",
      "Superficie Construida\n",
      "98 m²\n",
      "|\n",
      "Terreno\n",
      "98 m²\n",
      "Estacionamientos\n",
      "Estacionamientos\n",
      "2\n"
     ]
    }
   ],
   "source": [
    "for i in casas[8].select(\"div.clp-publication-features-container span\"):\n",
    "    print(i.get_text(strip=True).split(\":\")[0])"
   ]
  },
  {
   "cell_type": "code",
   "execution_count": 216,
   "metadata": {},
   "outputs": [
    {
     "data": {
      "text/plain": [
       "[<span class=\"clp-feature-value\" title=\"Superficie Construida\">70 m²</span>,\n",
       " <span class=\"clp-feature-value\" title=\"Superficie Total\">122 m²</span>]"
      ]
     },
     "execution_count": 216,
     "metadata": {},
     "output_type": "execute_result"
    }
   ],
   "source": [
    "bla = casas[4].select(\"div.clp-publication-features-container span\")[6].select(\"span.clp-feature-value\")# para casa que tienen tanto superficie construida y total \n",
    "bla"
   ]
  },
  {
   "cell_type": "code",
   "execution_count": 219,
   "metadata": {},
   "outputs": [
    {
     "name": "stdout",
     "output_type": "stream",
     "text": [
      "70.0\n",
      "122 m²\n"
     ]
    }
   ],
   "source": [
    "\n",
    "#metros_cons=[]\n",
    "#total_metros=[]\n",
    "\n",
    "if len(bla) == 1:\n",
    "    pass\n",
    "    # all_metros_coin.append(int(bla[0].get_text().split()[0])\n",
    "    # all_metros_totales.append(int(bla[0].get_text().split()[0])\n",
    "elif len(bla) == 2:\n",
    "    print(float(bla[0].get_text().replace(\",\",\".\").split()[0]))\n",
    "    print(bla[1].get_text().replace(\",\",\".\"))\n",
    " "
   ]
  },
  {
   "cell_type": "code",
   "execution_count": 19,
   "metadata": {},
   "outputs": [
    {
     "data": {
      "text/plain": [
       "'3'"
      ]
     },
     "execution_count": 19,
     "metadata": {},
     "output_type": "execute_result"
    }
   ],
   "source": [
    "casas[0].select(\"div.clp-publication-features-container span\")[2].get_text() # habitacion"
   ]
  },
  {
   "cell_type": "code",
   "execution_count": 20,
   "metadata": {},
   "outputs": [
    {
     "data": {
      "text/plain": [
       "'1'"
      ]
     },
     "execution_count": 20,
     "metadata": {},
     "output_type": "execute_result"
    }
   ],
   "source": [
    "casas[0].select(\"div.clp-publication-features-container span\")[5].get_text() # Baños"
   ]
  },
  {
   "cell_type": "code",
   "execution_count": 26,
   "metadata": {},
   "outputs": [
    {
     "data": {
      "text/plain": [
       "'2'"
      ]
     },
     "execution_count": 26,
     "metadata": {},
     "output_type": "execute_result"
    }
   ],
   "source": [
    "if casas[0].select(\"div.clp-publication-features-container span\")[-2].get_text() == 'Estacionamientos:':  # Estacionamientos\n",
    "    a = casas[0].select(\"div.clp-publication-features-container span\")[-1].get_text()\n",
    "else:\n",
    "    a = 0\n",
    "a"
   ]
  },
  {
   "cell_type": "code",
   "execution_count": 22,
   "metadata": {},
   "outputs": [
    {
     "data": {
      "text/plain": [
       "'02/12/2022'"
      ]
     },
     "execution_count": 22,
     "metadata": {},
     "output_type": "execute_result"
    }
   ],
   "source": [
    "casas[0].select(\"div.text-center\")[0].get_text().split(\"\\n\")[1] #  fecha"
   ]
  },
  {
   "cell_type": "markdown",
   "metadata": {},
   "source": [
    "## Just one pag"
   ]
  },
  {
   "cell_type": "code",
   "execution_count": 59,
   "metadata": {},
   "outputs": [],
   "source": [
    "url = \"https://chilepropiedades.cl/propiedades/venta-usada/casa/region-metropolitana-de-santiago-rm/63\"\n",
    "\n",
    "\n",
    "response = requests.get(url, \n",
    "                        headers= {\"User-Agent\" : \"Mozilla/5.0 (Windows NT 10.0; Win64; x64) AppleWebKit/537.36 (KHTML, like Gecko) Chrome/108.0.0.0 Safari/537.36\"}\n",
    "                        )\n",
    "# time.sleep(1)\n",
    "\n",
    "html = response.content\n",
    "soup = bs(html, \"lxml\")\n",
    "casas = soup.select(\"div.position-relative.d-sm-flex\")"
   ]
  },
  {
   "cell_type": "code",
   "execution_count": 78,
   "metadata": {},
   "outputs": [],
   "source": [
    "solo_address = []\n",
    "solo_price = []\n",
    "solo_uf = []\n",
    "solo_cons_m2 = []\n",
    "solo_total_m2 = []\n",
    "solo_num_bedrooms = []\n",
    "solo_num_bathrooms = []\n",
    "solo_parkings_slots = []\n",
    "solo_publi_date = []"
   ]
  },
  {
   "cell_type": "code",
   "execution_count": 79,
   "metadata": {},
   "outputs": [
    {
     "name": "stdout",
     "output_type": "stream",
     "text": [
      "0 3490\n",
      "1 115000000\n",
      "2 2189\n",
      "3 17300\n",
      "4 68000000\n",
      "5 119990000\n",
      "6 2280000 58461.53846153846 2020080000\n",
      "7 68000000\n",
      "8 228000000\n",
      "9 99000000\n"
     ]
    }
   ],
   "source": [
    "for idx,cas in enumerate(casas):\n",
    "    # print(idx)\n",
    "    categorias = cas.select(\"div.clp-publication-features-container span\")\n",
    "    categorias_clean = [i.get_text(strip=True).split(\":\")[0] for i in categorias]\n",
    "    check_hab_bath = [\"Baños\", \"Habitaciones\"]\n",
    "    \n",
    "    if not(all([i in categorias_clean for i in check_hab_bath])):\n",
    "        continue\n",
    "\n",
    "    solo_address.append(cas.select(\"h2.publication-title-list a\")[0].get_text().split(\"\\n\")[1].strip())\n",
    "\n",
    "    if cas.select(\"span.clp-value-container\")[0].get_text(strip=True) == \"$\":\n",
    "        price = int(cas.select(\"span.clp-value-container\")[1].get_text(strip=True).replace(\".\",\"\"))\n",
    "        print(idx,price)\n",
    "        solo_price.append(price)\n",
    "        solo_uf.append(round(price / 34829, 3))\n",
    "    elif cas.select(\"span.clp-value-container\")[0].get_text(strip=True) == \"UF\":\n",
    "        price = int(cas.select(\"span.clp-value-container\")[1].get_text(strip=True).replace(\".\",\"\"))\n",
    "        print(idx,price)\n",
    "        solo_uf.append(price)\n",
    "        solo_price.append(round(price * 34829, 3))\n",
    "\n",
    "    elif cas.select(\"span.clp-value-container\")[0].get_text(strip=True) == \"USD\":\n",
    "        price = int(cas.select(\"span.clp-value-container\")[1].get_text(strip=True).replace(\".\",\"\"))\n",
    "        print(idx,price, price / 39, price * 886)\n",
    "        solo_uf.append(round(price / 39, 3))\n",
    "        solo_price.append(round(price * 886, 3))\n",
    "\n",
    "\n",
    "    categorias = cas.select(\"div.clp-publication-features-container span\")\n",
    "    if \"Terreno\" in [i.get_text(strip=True).split(\":\")[0] for i in categorias]:\n",
    "        meters = cas.select(\"div.clp-publication-features-container span\")[6].select(\"span.clp-feature-value\")\n",
    "\n",
    "        if len(meters) == 1:\n",
    "            solo_cons_m2.append(int(meters[0].get_text().split(\",\")[0].replace(\".\",\"\").split()[0]))\n",
    "            solo_total_m2.append(int(meters[0].get_text().split(\",\")[0].replace(\".\",\"\").split()[0]))\n",
    "        elif len(meters) == 2:\n",
    "            solo_cons_m2.append(int(meters[0].get_text().split(\",\")[0].replace(\".\",\"\").split()[0]))\n",
    "            solo_total_m2.append(int(meters[1].get_text().split(\",\")[0].replace(\".\",\"\").split()[0]))\n",
    "    else:\n",
    "        solo_cons_m2.append(0)\n",
    "        solo_total_m2.append(0)\n",
    "\n",
    "    \n",
    "    solo_num_bedrooms.append(int(cas.select(\"div.clp-publication-features-container span\")[2].get_text()))\n",
    "    solo_num_bathrooms.append(int(cas.select(\"div.clp-publication-features-container span\")[5].get_text()))\n",
    "\n",
    "    if cas.select(\"div.clp-publication-features-container span\")[-2].get_text() == 'Estacionamientos:':  # Estacionamientos\n",
    "        solo_parkings_slots.append(int(cas.select(\"div.clp-publication-features-container span\")[-1].get_text()))\n",
    "    else:\n",
    "        solo_parkings_slots.append(0)\n",
    "    \n",
    "    solo_publi_date.append(cas.select(\"div.text-center\")[0].get_text().split(\"\\n\")[1])"
   ]
  },
  {
   "cell_type": "code",
   "execution_count": 80,
   "metadata": {},
   "outputs": [],
   "source": [
    "dict_data = {\"Direccion\": solo_address,\n",
    "             \"Precio\" : solo_price,\n",
    "             \"UF\" : solo_uf,\n",
    "             \"m2_Construidos\" : solo_cons_m2,\n",
    "             \"m2_totales\" : solo_total_m2,\n",
    "             \"Habitaciones\" :  solo_num_bedrooms,\n",
    "             \"Banos\" : solo_num_bathrooms,\n",
    "             \"Estacionamientos\" : solo_parkings_slots,\n",
    "             \"Publi\": solo_publi_date}"
   ]
  },
  {
   "cell_type": "code",
   "execution_count": 81,
   "metadata": {},
   "outputs": [
    {
     "data": {
      "text/plain": [
       "[121553210,\n",
       " 115000000,\n",
       " 76240681,\n",
       " 602541700,\n",
       " 68000000,\n",
       " 119990000,\n",
       " 2020080000,\n",
       " 68000000,\n",
       " 228000000,\n",
       " 99000000]"
      ]
     },
     "execution_count": 81,
     "metadata": {},
     "output_type": "execute_result"
    }
   ],
   "source": [
    "solo_price"
   ]
  },
  {
   "cell_type": "code",
   "execution_count": 82,
   "metadata": {},
   "outputs": [
    {
     "data": {
      "text/plain": [
       "array([10, 10, 10, 10, 10, 10, 10, 10, 10])"
      ]
     },
     "execution_count": 82,
     "metadata": {},
     "output_type": "execute_result"
    }
   ],
   "source": [
    "full_list = [solo_address, solo_price, solo_uf, solo_cons_m2, solo_total_m2, solo_num_bedrooms, solo_num_bathrooms, solo_parkings_slots, solo_publi_date]\n",
    "len_full = np.array([len(i) for i in full_list])\n",
    "len_full"
   ]
  },
  {
   "cell_type": "code",
   "execution_count": 83,
   "metadata": {},
   "outputs": [
    {
     "data": {
      "text/plain": [
       "'all_ elements are equal : True'"
      ]
     },
     "execution_count": 83,
     "metadata": {},
     "output_type": "execute_result"
    }
   ],
   "source": [
    "# Two ways of doing the same thing\n",
    "# Check if all the values are the same\n",
    "\n",
    "np.count_nonzero(len_full == len_full[0]) == len(len_full)\n",
    "f\"all_ elements are equal : {np.unique(len_full).shape[0] == 1}\""
   ]
  },
  {
   "cell_type": "code",
   "execution_count": 84,
   "metadata": {},
   "outputs": [
    {
     "data": {
      "text/html": [
       "<div>\n",
       "<style scoped>\n",
       "    .dataframe tbody tr th:only-of-type {\n",
       "        vertical-align: middle;\n",
       "    }\n",
       "\n",
       "    .dataframe tbody tr th {\n",
       "        vertical-align: top;\n",
       "    }\n",
       "\n",
       "    .dataframe thead th {\n",
       "        text-align: right;\n",
       "    }\n",
       "</style>\n",
       "<table border=\"1\" class=\"dataframe\">\n",
       "  <thead>\n",
       "    <tr style=\"text-align: right;\">\n",
       "      <th></th>\n",
       "      <th>Direccion</th>\n",
       "      <th>Precio</th>\n",
       "      <th>UF</th>\n",
       "      <th>m2_Construidos</th>\n",
       "      <th>m2_totales</th>\n",
       "      <th>Habitaciones</th>\n",
       "      <th>Banos</th>\n",
       "      <th>Estacionamientos</th>\n",
       "      <th>Publi</th>\n",
       "    </tr>\n",
       "  </thead>\n",
       "  <tbody>\n",
       "    <tr>\n",
       "      <th>0</th>\n",
       "      <td>Macul, Venta Casa Macul 2d+1b+1est 160m2 Terr....</td>\n",
       "      <td>121553210</td>\n",
       "      <td>3490.000</td>\n",
       "      <td>42</td>\n",
       "      <td>160</td>\n",
       "      <td>2</td>\n",
       "      <td>1</td>\n",
       "      <td>0</td>\n",
       "      <td>02/12/2022</td>\n",
       "    </tr>\n",
       "    <tr>\n",
       "      <th>1</th>\n",
       "      <td>Maipú, Entre calle cuatro alamos y pozo almonte</td>\n",
       "      <td>115000000</td>\n",
       "      <td>3301.846</td>\n",
       "      <td>108</td>\n",
       "      <td>204</td>\n",
       "      <td>4</td>\n",
       "      <td>1</td>\n",
       "      <td>1</td>\n",
       "      <td>02/12/2022</td>\n",
       "    </tr>\n",
       "    <tr>\n",
       "      <th>2</th>\n",
       "      <td>Peñalolén, Av Las Parcelas con Rapa Nui</td>\n",
       "      <td>76240681</td>\n",
       "      <td>2189.000</td>\n",
       "      <td>60</td>\n",
       "      <td>68</td>\n",
       "      <td>3</td>\n",
       "      <td>1</td>\n",
       "      <td>0</td>\n",
       "      <td>02/12/2022</td>\n",
       "    </tr>\n",
       "    <tr>\n",
       "      <th>3</th>\n",
       "      <td>Vitacura, Venta Casa Vitacura 3d+2b+3est+1bod ...</td>\n",
       "      <td>602541700</td>\n",
       "      <td>17300.000</td>\n",
       "      <td>140</td>\n",
       "      <td>354</td>\n",
       "      <td>4</td>\n",
       "      <td>3</td>\n",
       "      <td>3</td>\n",
       "      <td>02/12/2022</td>\n",
       "    </tr>\n",
       "    <tr>\n",
       "      <th>4</th>\n",
       "      <td>Puente Alto, Paimun Poniente</td>\n",
       "      <td>68000000</td>\n",
       "      <td>1952.396</td>\n",
       "      <td>45</td>\n",
       "      <td>54</td>\n",
       "      <td>2</td>\n",
       "      <td>1</td>\n",
       "      <td>1</td>\n",
       "      <td>02/12/2022</td>\n",
       "    </tr>\n",
       "    <tr>\n",
       "      <th>5</th>\n",
       "      <td>Recoleta, Pje. Miraflores // Muñoz Gamero</td>\n",
       "      <td>119990000</td>\n",
       "      <td>3445.118</td>\n",
       "      <td>133</td>\n",
       "      <td>190</td>\n",
       "      <td>7</td>\n",
       "      <td>3</td>\n",
       "      <td>2</td>\n",
       "      <td>02/12/2022</td>\n",
       "    </tr>\n",
       "    <tr>\n",
       "      <th>6</th>\n",
       "      <td>Vitacura, Jardín del Este</td>\n",
       "      <td>2020080000</td>\n",
       "      <td>58461.538</td>\n",
       "      <td>350</td>\n",
       "      <td>850</td>\n",
       "      <td>5</td>\n",
       "      <td>5</td>\n",
       "      <td>2</td>\n",
       "      <td>02/12/2022</td>\n",
       "    </tr>\n",
       "    <tr>\n",
       "      <th>7</th>\n",
       "      <td>San Bernardo, Carlos Condell</td>\n",
       "      <td>68000000</td>\n",
       "      <td>1952.396</td>\n",
       "      <td>88</td>\n",
       "      <td>120</td>\n",
       "      <td>2</td>\n",
       "      <td>1</td>\n",
       "      <td>1</td>\n",
       "      <td>02/12/2022</td>\n",
       "    </tr>\n",
       "    <tr>\n",
       "      <th>8</th>\n",
       "      <td>San Miguel, lo ovalle con primera avenida</td>\n",
       "      <td>228000000</td>\n",
       "      <td>6546.269</td>\n",
       "      <td>125</td>\n",
       "      <td>300</td>\n",
       "      <td>3</td>\n",
       "      <td>2</td>\n",
       "      <td>5</td>\n",
       "      <td>02/12/2022</td>\n",
       "    </tr>\n",
       "    <tr>\n",
       "      <th>9</th>\n",
       "      <td>Lo Barnechea, San Marcos, Lo Barnechea</td>\n",
       "      <td>99000000</td>\n",
       "      <td>2842.459</td>\n",
       "      <td>76</td>\n",
       "      <td>60</td>\n",
       "      <td>4</td>\n",
       "      <td>1</td>\n",
       "      <td>1</td>\n",
       "      <td>02/12/2022</td>\n",
       "    </tr>\n",
       "  </tbody>\n",
       "</table>\n",
       "</div>"
      ],
      "text/plain": [
       "                                           Direccion      Precio         UF  \\\n",
       "0  Macul, Venta Casa Macul 2d+1b+1est 160m2 Terr....   121553210   3490.000   \n",
       "1    Maipú, Entre calle cuatro alamos y pozo almonte   115000000   3301.846   \n",
       "2            Peñalolén, Av Las Parcelas con Rapa Nui    76240681   2189.000   \n",
       "3  Vitacura, Venta Casa Vitacura 3d+2b+3est+1bod ...   602541700  17300.000   \n",
       "4                       Puente Alto, Paimun Poniente    68000000   1952.396   \n",
       "5          Recoleta, Pje. Miraflores // Muñoz Gamero   119990000   3445.118   \n",
       "6                          Vitacura, Jardín del Este  2020080000  58461.538   \n",
       "7                       San Bernardo, Carlos Condell    68000000   1952.396   \n",
       "8          San Miguel, lo ovalle con primera avenida   228000000   6546.269   \n",
       "9             Lo Barnechea, San Marcos, Lo Barnechea    99000000   2842.459   \n",
       "\n",
       "   m2_Construidos  m2_totales  Habitaciones  Banos  Estacionamientos  \\\n",
       "0              42         160             2      1                 0   \n",
       "1             108         204             4      1                 1   \n",
       "2              60          68             3      1                 0   \n",
       "3             140         354             4      3                 3   \n",
       "4              45          54             2      1                 1   \n",
       "5             133         190             7      3                 2   \n",
       "6             350         850             5      5                 2   \n",
       "7              88         120             2      1                 1   \n",
       "8             125         300             3      2                 5   \n",
       "9              76          60             4      1                 1   \n",
       "\n",
       "        Publi  \n",
       "0  02/12/2022  \n",
       "1  02/12/2022  \n",
       "2  02/12/2022  \n",
       "3  02/12/2022  \n",
       "4  02/12/2022  \n",
       "5  02/12/2022  \n",
       "6  02/12/2022  \n",
       "7  02/12/2022  \n",
       "8  02/12/2022  \n",
       "9  02/12/2022  "
      ]
     },
     "execution_count": 84,
     "metadata": {},
     "output_type": "execute_result"
    }
   ],
   "source": [
    "pd.DataFrame(dict_data)"
   ]
  },
  {
   "cell_type": "markdown",
   "metadata": {},
   "source": [
    "# Prueba de Fuego"
   ]
  },
  {
   "cell_type": "code",
   "execution_count": 88,
   "metadata": {},
   "outputs": [],
   "source": [
    "all_address = []\n",
    "all_price = []\n",
    "all_uf = []\n",
    "all_cons_m2 = []\n",
    "all_total_m2 = []\n",
    "all_num_bedrooms = []\n",
    "all_num_bathrooms = []\n",
    "all_parkings_slots = []\n",
    "all_publi_date = []"
   ]
  },
  {
   "cell_type": "code",
   "execution_count": 89,
   "metadata": {},
   "outputs": [],
   "source": [
    "full_list = [all_address, all_price, all_uf, all_cons_m2, all_total_m2, all_num_bedrooms, all_num_bathrooms, all_parkings_slots, all_publi_date]"
   ]
  },
  {
   "cell_type": "code",
   "execution_count": 108,
   "metadata": {},
   "outputs": [
    {
     "name": "stdout",
     "output_type": "stream",
     "text": [
      "608 all_ elements are equal : True\n"
     ]
    }
   ],
   "source": [
    "for i in range(608,609):\n",
    "    url = f\"https://chilepropiedades.cl/propiedades/venta-usada/casa/region-metropolitana-de-santiago-rm/{i}\"\n",
    "\n",
    "\n",
    "    response = requests.get(url, \n",
    "                            headers= {\"User-Agent\" : \"Mozilla/5.0 (Windows NT 10.0; Win64; x64) AppleWebKit/537.36 (KHTML, like Gecko) Chrome/108.0.0.0 Safari/537.36\"}\n",
    "                            )\n",
    "    # time.sleep(1)\n",
    "\n",
    "    html = response.content\n",
    "    soup = bs(html, \"lxml\")\n",
    "    casas = soup.select(\"div.position-relative.d-sm-flex\")\n",
    "\n",
    "    for cas in casas:\n",
    "        categorias = cas.select(\"div.clp-publication-features-container span\")\n",
    "        categorias_clean = [i.get_text(strip=True).split(\":\")[0] for i in categorias]\n",
    "        check_hab_bath = [\"Baños\", \"Habitaciones\"]\n",
    "        \n",
    "        if not(all([i in categorias_clean for i in check_hab_bath])):\n",
    "            continue\n",
    "        #####\n",
    "        all_address.append(cas.select(\"h2.publication-title-list a\")[0].get_text().split(\"\\n\")[1].strip())\n",
    "\n",
    "        if cas.select(\"span.clp-value-container\")[0].get_text(strip=True) == \"$\":\n",
    "            price = int(cas.select(\"span.clp-value-container\")[1].get_text(strip=True).replace(\".\",\"\"))\n",
    "            all_price.append(price)\n",
    "            all_uf.append(round(price / 34823, 3))\n",
    "        elif cas.select(\"span.clp-value-container\")[0].get_text(strip=True) == \"UF\":\n",
    "            price = int(cas.select(\"span.clp-value-container\")[1].get_text(strip=True).replace(\".\",\"\"))\n",
    "            all_uf.append(price)\n",
    "            all_price.append(round(price * 34823, 3))\n",
    "        elif cas.select(\"span.clp-value-container\")[0].get_text(strip=True) == \"USD\":\n",
    "            price = int(cas.select(\"span.clp-value-container\")[1].get_text(strip=True).replace(\".\",\"\"))\n",
    "            all_uf.append(round(price / 39, 3))\n",
    "            all_price.append(round(price * 886, 3))\n",
    "\n",
    "        categorias = cas.select(\"div.clp-publication-features-container span\")\n",
    "        if \"Terreno\" in [i.get_text(strip=True).split(\":\")[0] for i in categorias]:\n",
    "            meters = cas.select(\"div.clp-publication-features-container span\")[6].select(\"span.clp-feature-value\")\n",
    "\n",
    "            if len(meters) == 1:\n",
    "                all_cons_m2.append(int(meters[0].get_text().split(\",\")[0].replace(\".\",\"\").split()[0]))\n",
    "                all_total_m2.append(int(meters[0].get_text().split(\",\")[0].replace(\".\",\"\").split()[0]))\n",
    "            elif len(meters) == 2:\n",
    "                all_cons_m2.append(int(meters[0].get_text().split(\",\")[0].replace(\".\",\"\").split()[0]))\n",
    "                all_total_m2.append(int(meters[1].get_text().split(\",\")[0].replace(\".\",\"\").split()[0]))\n",
    "        else:\n",
    "            all_cons_m2.append(0)\n",
    "            all_total_m2.append(0)\n",
    "            \n",
    "        all_num_bedrooms.append(int(cas.select(\"div.clp-publication-features-container span\")[2].get_text()))\n",
    "        all_num_bathrooms.append(int(cas.select(\"div.clp-publication-features-container span\")[5].get_text()))\n",
    "\n",
    "        if cas.select(\"div.clp-publication-features-container span\")[-2].get_text() == 'Estacionamientos:':  # Estacionamientos\n",
    "            all_parkings_slots.append(int(cas.select(\"div.clp-publication-features-container span\")[-1].get_text()))\n",
    "        else:\n",
    "            all_parkings_slots.append(0)\n",
    "        \n",
    "        all_publi_date.append(cas.select(\"div.text-center\")[0].get_text().split(\"\\n\")[1])\n",
    "\n",
    "    len_full = np.array([len(i) for i in full_list])\n",
    "    print(i, f\"all_ elements are equal : {np.unique(len_full).shape[0] == 1}\")\n",
    "\n",
    "\n",
    "    "
   ]
  },
  {
   "cell_type": "code",
   "execution_count": 109,
   "metadata": {},
   "outputs": [],
   "source": [
    "# 100 - OK\n",
    "# 200 - OK\n",
    "# 300 - OK\n",
    "# 400 - OK\n",
    "# 500 - OK \n",
    "# all - OK"
   ]
  },
  {
   "cell_type": "code",
   "execution_count": 110,
   "metadata": {},
   "outputs": [],
   "source": [
    "dict_data = {\"Direccion\": all_address,\n",
    "             \"Precio\" : all_price,\n",
    "             \"UF\" : all_uf,\n",
    "             \"m2_Construidos\" : all_cons_m2,\n",
    "             \"m2_totales\" : all_total_m2,\n",
    "             \"Habitaciones\" :  all_num_bedrooms,\n",
    "             \"Banos\" : all_num_bathrooms,\n",
    "             \"Estacionamientos\" : all_parkings_slots,\n",
    "             \"Publi\": all_publi_date}"
   ]
  },
  {
   "cell_type": "code",
   "execution_count": 111,
   "metadata": {},
   "outputs": [],
   "source": [
    "df = pd.DataFrame(dict_data)"
   ]
  },
  {
   "cell_type": "code",
   "execution_count": 112,
   "metadata": {},
   "outputs": [
    {
     "data": {
      "text/html": [
       "<div>\n",
       "<style scoped>\n",
       "    .dataframe tbody tr th:only-of-type {\n",
       "        vertical-align: middle;\n",
       "    }\n",
       "\n",
       "    .dataframe tbody tr th {\n",
       "        vertical-align: top;\n",
       "    }\n",
       "\n",
       "    .dataframe thead th {\n",
       "        text-align: right;\n",
       "    }\n",
       "</style>\n",
       "<table border=\"1\" class=\"dataframe\">\n",
       "  <thead>\n",
       "    <tr style=\"text-align: right;\">\n",
       "      <th></th>\n",
       "      <th>Direccion</th>\n",
       "      <th>Precio</th>\n",
       "      <th>UF</th>\n",
       "      <th>m2_Construidos</th>\n",
       "      <th>m2_totales</th>\n",
       "      <th>Habitaciones</th>\n",
       "      <th>Banos</th>\n",
       "      <th>Estacionamientos</th>\n",
       "      <th>Publi</th>\n",
       "    </tr>\n",
       "  </thead>\n",
       "  <tbody>\n",
       "    <tr>\n",
       "      <th>0</th>\n",
       "      <td>Macul, Mario Silva Ossa 3923</td>\n",
       "      <td>266395950</td>\n",
       "      <td>7650.0</td>\n",
       "      <td>94</td>\n",
       "      <td>340</td>\n",
       "      <td>4</td>\n",
       "      <td>2</td>\n",
       "      <td>0</td>\n",
       "      <td>03/12/2022</td>\n",
       "    </tr>\n",
       "    <tr>\n",
       "      <th>1</th>\n",
       "      <td>Maipú, Mataquito 2239</td>\n",
       "      <td>3490</td>\n",
       "      <td>0.1</td>\n",
       "      <td>56</td>\n",
       "      <td>128</td>\n",
       "      <td>5</td>\n",
       "      <td>1</td>\n",
       "      <td>3</td>\n",
       "      <td>03/12/2022</td>\n",
       "    </tr>\n",
       "    <tr>\n",
       "      <th>2</th>\n",
       "      <td>Santiago, Campomar 4</td>\n",
       "      <td>870575000</td>\n",
       "      <td>25000.0</td>\n",
       "      <td>0</td>\n",
       "      <td>0</td>\n",
       "      <td>9</td>\n",
       "      <td>6</td>\n",
       "      <td>0</td>\n",
       "      <td>02/12/2022</td>\n",
       "    </tr>\n",
       "    <tr>\n",
       "      <th>3</th>\n",
       "      <td>Estación Central, Blanco Garcés 50</td>\n",
       "      <td>100081302</td>\n",
       "      <td>2874.0</td>\n",
       "      <td>72</td>\n",
       "      <td>72</td>\n",
       "      <td>3</td>\n",
       "      <td>2</td>\n",
       "      <td>0</td>\n",
       "      <td>02/12/2022</td>\n",
       "    </tr>\n",
       "    <tr>\n",
       "      <th>4</th>\n",
       "      <td>Estación Central, Avenida Las Parcelas</td>\n",
       "      <td>135809700</td>\n",
       "      <td>3900.0</td>\n",
       "      <td>59</td>\n",
       "      <td>243</td>\n",
       "      <td>3</td>\n",
       "      <td>1</td>\n",
       "      <td>2</td>\n",
       "      <td>02/12/2022</td>\n",
       "    </tr>\n",
       "    <tr>\n",
       "      <th>...</th>\n",
       "      <td>...</td>\n",
       "      <td>...</td>\n",
       "      <td>...</td>\n",
       "      <td>...</td>\n",
       "      <td>...</td>\n",
       "      <td>...</td>\n",
       "      <td>...</td>\n",
       "      <td>...</td>\n",
       "      <td>...</td>\n",
       "    </tr>\n",
       "    <tr>\n",
       "      <th>5966</th>\n",
       "      <td>La Florida, Lia Aguirre / Vicuña Mackenna</td>\n",
       "      <td>367730880</td>\n",
       "      <td>10560.0</td>\n",
       "      <td>145</td>\n",
       "      <td>220</td>\n",
       "      <td>6</td>\n",
       "      <td>4</td>\n",
       "      <td>1</td>\n",
       "      <td>20/12/2021</td>\n",
       "    </tr>\n",
       "    <tr>\n",
       "      <th>5967</th>\n",
       "      <td>Las Condes, Camino Las Flores / Camino Piedra ...</td>\n",
       "      <td>3656415000</td>\n",
       "      <td>105000.0</td>\n",
       "      <td>460</td>\n",
       "      <td>4925</td>\n",
       "      <td>5</td>\n",
       "      <td>7</td>\n",
       "      <td>8</td>\n",
       "      <td>18/12/2021</td>\n",
       "    </tr>\n",
       "    <tr>\n",
       "      <th>5968</th>\n",
       "      <td>La Pintana, Los Cipreses / Los Duraznos</td>\n",
       "      <td>557168000</td>\n",
       "      <td>16000.0</td>\n",
       "      <td>311</td>\n",
       "      <td>2011</td>\n",
       "      <td>4</td>\n",
       "      <td>2</td>\n",
       "      <td>1</td>\n",
       "      <td>17/12/2021</td>\n",
       "    </tr>\n",
       "    <tr>\n",
       "      <th>5969</th>\n",
       "      <td>Talagante, Lucas Pacheco / Balmaceda</td>\n",
       "      <td>348160354</td>\n",
       "      <td>9998.0</td>\n",
       "      <td>225</td>\n",
       "      <td>366</td>\n",
       "      <td>5</td>\n",
       "      <td>3</td>\n",
       "      <td>0</td>\n",
       "      <td>17/12/2021</td>\n",
       "    </tr>\n",
       "    <tr>\n",
       "      <th>5970</th>\n",
       "      <td>Santiago, Bío Bío 542</td>\n",
       "      <td>185397652</td>\n",
       "      <td>5324.0</td>\n",
       "      <td>142</td>\n",
       "      <td>160</td>\n",
       "      <td>5</td>\n",
       "      <td>3</td>\n",
       "      <td>0</td>\n",
       "      <td>23/09/2021</td>\n",
       "    </tr>\n",
       "  </tbody>\n",
       "</table>\n",
       "<p>5971 rows × 9 columns</p>\n",
       "</div>"
      ],
      "text/plain": [
       "                                              Direccion      Precio        UF  \\\n",
       "0                          Macul, Mario Silva Ossa 3923   266395950    7650.0   \n",
       "1                                 Maipú, Mataquito 2239        3490       0.1   \n",
       "2                                  Santiago, Campomar 4   870575000   25000.0   \n",
       "3                    Estación Central, Blanco Garcés 50   100081302    2874.0   \n",
       "4                Estación Central, Avenida Las Parcelas   135809700    3900.0   \n",
       "...                                                 ...         ...       ...   \n",
       "5966          La Florida, Lia Aguirre / Vicuña Mackenna   367730880   10560.0   \n",
       "5967  Las Condes, Camino Las Flores / Camino Piedra ...  3656415000  105000.0   \n",
       "5968            La Pintana, Los Cipreses / Los Duraznos   557168000   16000.0   \n",
       "5969               Talagante, Lucas Pacheco / Balmaceda   348160354    9998.0   \n",
       "5970                              Santiago, Bío Bío 542   185397652    5324.0   \n",
       "\n",
       "      m2_Construidos  m2_totales  Habitaciones  Banos  Estacionamientos  \\\n",
       "0                 94         340             4      2                 0   \n",
       "1                 56         128             5      1                 3   \n",
       "2                  0           0             9      6                 0   \n",
       "3                 72          72             3      2                 0   \n",
       "4                 59         243             3      1                 2   \n",
       "...              ...         ...           ...    ...               ...   \n",
       "5966             145         220             6      4                 1   \n",
       "5967             460        4925             5      7                 8   \n",
       "5968             311        2011             4      2                 1   \n",
       "5969             225         366             5      3                 0   \n",
       "5970             142         160             5      3                 0   \n",
       "\n",
       "           Publi  \n",
       "0     03/12/2022  \n",
       "1     03/12/2022  \n",
       "2     02/12/2022  \n",
       "3     02/12/2022  \n",
       "4     02/12/2022  \n",
       "...          ...  \n",
       "5966  20/12/2021  \n",
       "5967  18/12/2021  \n",
       "5968  17/12/2021  \n",
       "5969  17/12/2021  \n",
       "5970  23/09/2021  \n",
       "\n",
       "[5971 rows x 9 columns]"
      ]
     },
     "execution_count": 112,
     "metadata": {},
     "output_type": "execute_result"
    }
   ],
   "source": [
    "df"
   ]
  },
  {
   "cell_type": "code",
   "execution_count": null,
   "metadata": {},
   "outputs": [],
   "source": [
    "# acuerdate de comentar la siguiente celda despues de guardar el csv y cambiarle a nombre al archivo para que no se te sobreescriba"
   ]
  },
  {
   "cell_type": "code",
   "execution_count": 113,
   "metadata": {},
   "outputs": [],
   "source": [
    "df.to_csv(\"data/Gloria_al_bravo_pueblo.csv\", index = False)"
   ]
  }
 ],
 "metadata": {
  "hide_input": false,
  "kernelspec": {
   "display_name": "Python 3.9.7 ('base')",
   "language": "python",
   "name": "python3"
  },
  "language_info": {
   "codemirror_mode": {
    "name": "ipython",
    "version": 3
   },
   "file_extension": ".py",
   "mimetype": "text/x-python",
   "name": "python",
   "nbconvert_exporter": "python",
   "pygments_lexer": "ipython3",
   "version": "3.9.7"
  },
  "nbTranslate": {
   "displayLangs": [
    "*"
   ],
   "hotkey": "alt-t",
   "langInMainMenu": true,
   "sourceLang": "en",
   "targetLang": "fr",
   "useGoogleTranslate": true
  },
  "varInspector": {
   "cols": {
    "lenName": 16,
    "lenType": 16,
    "lenVar": 40
   },
   "kernels_config": {
    "python": {
     "delete_cmd_postfix": "",
     "delete_cmd_prefix": "del ",
     "library": "var_list.py",
     "varRefreshCmd": "print(var_dic_list())"
    },
    "r": {
     "delete_cmd_postfix": ") ",
     "delete_cmd_prefix": "rm(",
     "library": "var_list.r",
     "varRefreshCmd": "cat(var_dic_list()) "
    }
   },
   "types_to_exclude": [
    "module",
    "function",
    "builtin_function_or_method",
    "instance",
    "_Feature"
   ],
   "window_display": false
  },
  "vscode": {
   "interpreter": {
    "hash": "f0772a89b7b7552231f8b4808588399a8029470ff763161a0caeccf5fec49431"
   }
  }
 },
 "nbformat": 4,
 "nbformat_minor": 2
}
